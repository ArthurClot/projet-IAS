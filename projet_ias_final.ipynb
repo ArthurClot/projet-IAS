{
 "cells": [
  {
   "cell_type": "code",
   "execution_count": 1,
   "metadata": {
    "colab": {
     "base_uri": "https://localhost:8080/"
    },
    "id": "aXSu_0_a8TRn",
    "outputId": "2eabf258-5146-4c9d-d1e3-c2ef12010909",
    "scrolled": false
   },
   "outputs": [
    {
     "name": "stderr",
     "output_type": "stream",
     "text": [
      "[nltk_data] Downloading package wordnet to\n",
      "[nltk_data]     C:\\Users\\Ugo\\AppData\\Roaming\\nltk_data...\n",
      "[nltk_data]   Package wordnet is already up-to-date!\n",
      "[nltk_data] Downloading package averaged_perceptron_tagger to\n",
      "[nltk_data]     C:\\Users\\Ugo\\AppData\\Roaming\\nltk_data...\n",
      "[nltk_data]   Package averaged_perceptron_tagger is already up-to-\n",
      "[nltk_data]       date!\n"
     ]
    }
   ],
   "source": [
    "import pandas as pd\n",
    "import numpy as np\n",
    "import re\n",
    "import random\n",
    "from sklearn.model_selection import train_test_split\n",
    "import nltk\n",
    "nltk.download('wordnet')\n",
    "nltk.download('averaged_perceptron_tagger')\n",
    "from nltk.corpus import wordnet\n",
    "from nltk.stem import WordNetLemmatizer\n",
    "import matplotlib.pyplot as plt\n",
    "%matplotlib inline\n",
    "import seaborn as sns"
   ]
  },
  {
   "cell_type": "code",
   "execution_count": 2,
   "metadata": {
    "id": "J4b2iyDZ8TR6"
   },
   "outputs": [],
   "source": [
    "# chargement des données\n",
    "steam = pd.read_csv('archive/steam.csv')\n",
    "steam_description_data = pd.read_csv('archive/steam_description_data.csv')\n",
    "\n",
    "# on ne devrait pas avoir besoin de celles-ci\n",
    "'''\n",
    "steam_media_data = pd.read_csv('steam_media_data.csv')\n",
    "steam_requirements_data = pd.read_csv('steam_requirements_data.csv')\n",
    "steam_support_info = pd.read_csv('steam_support_info.csv')\n",
    "steamspy_tag_data = pd.read_csv('steamspy_tag_data.csv')\n",
    "'''\n",
    "\n",
    "# fonction pour afficher les informations d'un fichier\n",
    "# si dimensions_type = True, les types des dimensions sont également affichés\n",
    "def info(file, *dimensions_type):\n",
    "    dataset_panda = pd.read_csv(file)\n",
    "    print('*****'+file+'*****\\n'+'Nombre de donnée: ', dataset_panda.shape[0],'\\nNombre de dimension: ',\n",
    "          dataset_panda.shape[1],'\\n')\n",
    "    if(dimensions_type):\n",
    "        print('Types des dimensions:\\n', dataset_panda.dtypes)"
   ]
  },
  {
   "cell_type": "code",
   "execution_count": 3,
   "metadata": {
    "id": "i6wXBf2Q8TR9"
   },
   "outputs": [
    {
     "name": "stdout",
     "output_type": "stream",
     "text": [
      "*****archive/steam.csv*****\n",
      "Nombre de donnée:  27075 \n",
      "Nombre de dimension:  18 \n",
      "\n",
      "Types des dimensions:\n",
      " appid                 int64\n",
      "name                 object\n",
      "release_date         object\n",
      "english               int64\n",
      "developer            object\n",
      "publisher            object\n",
      "platforms            object\n",
      "required_age          int64\n",
      "categories           object\n",
      "genres               object\n",
      "steamspy_tags        object\n",
      "achievements          int64\n",
      "positive_ratings      int64\n",
      "negative_ratings      int64\n",
      "average_playtime      int64\n",
      "median_playtime       int64\n",
      "owners               object\n",
      "price               float64\n",
      "dtype: object\n"
     ]
    },
    {
     "data": {
      "text/html": [
       "<div>\n",
       "<style scoped>\n",
       "    .dataframe tbody tr th:only-of-type {\n",
       "        vertical-align: middle;\n",
       "    }\n",
       "\n",
       "    .dataframe tbody tr th {\n",
       "        vertical-align: top;\n",
       "    }\n",
       "\n",
       "    .dataframe thead th {\n",
       "        text-align: right;\n",
       "    }\n",
       "</style>\n",
       "<table border=\"1\" class=\"dataframe\">\n",
       "  <thead>\n",
       "    <tr style=\"text-align: right;\">\n",
       "      <th></th>\n",
       "      <th>appid</th>\n",
       "      <th>name</th>\n",
       "      <th>release_date</th>\n",
       "      <th>english</th>\n",
       "      <th>developer</th>\n",
       "      <th>publisher</th>\n",
       "      <th>platforms</th>\n",
       "      <th>required_age</th>\n",
       "      <th>categories</th>\n",
       "      <th>genres</th>\n",
       "      <th>steamspy_tags</th>\n",
       "      <th>achievements</th>\n",
       "      <th>positive_ratings</th>\n",
       "      <th>negative_ratings</th>\n",
       "      <th>average_playtime</th>\n",
       "      <th>median_playtime</th>\n",
       "      <th>owners</th>\n",
       "      <th>price</th>\n",
       "    </tr>\n",
       "  </thead>\n",
       "  <tbody>\n",
       "    <tr>\n",
       "      <th>0</th>\n",
       "      <td>10</td>\n",
       "      <td>Counter-Strike</td>\n",
       "      <td>2000-11-01</td>\n",
       "      <td>1</td>\n",
       "      <td>Valve</td>\n",
       "      <td>Valve</td>\n",
       "      <td>windows;mac;linux</td>\n",
       "      <td>0</td>\n",
       "      <td>Multi-player;Online Multi-Player;Local Multi-P...</td>\n",
       "      <td>Action</td>\n",
       "      <td>Action;FPS;Multiplayer</td>\n",
       "      <td>0</td>\n",
       "      <td>124534</td>\n",
       "      <td>3339</td>\n",
       "      <td>17612</td>\n",
       "      <td>317</td>\n",
       "      <td>10000000-20000000</td>\n",
       "      <td>7.19</td>\n",
       "    </tr>\n",
       "    <tr>\n",
       "      <th>1</th>\n",
       "      <td>20</td>\n",
       "      <td>Team Fortress Classic</td>\n",
       "      <td>1999-04-01</td>\n",
       "      <td>1</td>\n",
       "      <td>Valve</td>\n",
       "      <td>Valve</td>\n",
       "      <td>windows;mac;linux</td>\n",
       "      <td>0</td>\n",
       "      <td>Multi-player;Online Multi-Player;Local Multi-P...</td>\n",
       "      <td>Action</td>\n",
       "      <td>Action;FPS;Multiplayer</td>\n",
       "      <td>0</td>\n",
       "      <td>3318</td>\n",
       "      <td>633</td>\n",
       "      <td>277</td>\n",
       "      <td>62</td>\n",
       "      <td>5000000-10000000</td>\n",
       "      <td>3.99</td>\n",
       "    </tr>\n",
       "    <tr>\n",
       "      <th>2</th>\n",
       "      <td>30</td>\n",
       "      <td>Day of Defeat</td>\n",
       "      <td>2003-05-01</td>\n",
       "      <td>1</td>\n",
       "      <td>Valve</td>\n",
       "      <td>Valve</td>\n",
       "      <td>windows;mac;linux</td>\n",
       "      <td>0</td>\n",
       "      <td>Multi-player;Valve Anti-Cheat enabled</td>\n",
       "      <td>Action</td>\n",
       "      <td>FPS;World War II;Multiplayer</td>\n",
       "      <td>0</td>\n",
       "      <td>3416</td>\n",
       "      <td>398</td>\n",
       "      <td>187</td>\n",
       "      <td>34</td>\n",
       "      <td>5000000-10000000</td>\n",
       "      <td>3.99</td>\n",
       "    </tr>\n",
       "    <tr>\n",
       "      <th>3</th>\n",
       "      <td>40</td>\n",
       "      <td>Deathmatch Classic</td>\n",
       "      <td>2001-06-01</td>\n",
       "      <td>1</td>\n",
       "      <td>Valve</td>\n",
       "      <td>Valve</td>\n",
       "      <td>windows;mac;linux</td>\n",
       "      <td>0</td>\n",
       "      <td>Multi-player;Online Multi-Player;Local Multi-P...</td>\n",
       "      <td>Action</td>\n",
       "      <td>Action;FPS;Multiplayer</td>\n",
       "      <td>0</td>\n",
       "      <td>1273</td>\n",
       "      <td>267</td>\n",
       "      <td>258</td>\n",
       "      <td>184</td>\n",
       "      <td>5000000-10000000</td>\n",
       "      <td>3.99</td>\n",
       "    </tr>\n",
       "    <tr>\n",
       "      <th>4</th>\n",
       "      <td>50</td>\n",
       "      <td>Half-Life: Opposing Force</td>\n",
       "      <td>1999-11-01</td>\n",
       "      <td>1</td>\n",
       "      <td>Gearbox Software</td>\n",
       "      <td>Valve</td>\n",
       "      <td>windows;mac;linux</td>\n",
       "      <td>0</td>\n",
       "      <td>Single-player;Multi-player;Valve Anti-Cheat en...</td>\n",
       "      <td>Action</td>\n",
       "      <td>FPS;Action;Sci-fi</td>\n",
       "      <td>0</td>\n",
       "      <td>5250</td>\n",
       "      <td>288</td>\n",
       "      <td>624</td>\n",
       "      <td>415</td>\n",
       "      <td>5000000-10000000</td>\n",
       "      <td>3.99</td>\n",
       "    </tr>\n",
       "    <tr>\n",
       "      <th>...</th>\n",
       "      <td>...</td>\n",
       "      <td>...</td>\n",
       "      <td>...</td>\n",
       "      <td>...</td>\n",
       "      <td>...</td>\n",
       "      <td>...</td>\n",
       "      <td>...</td>\n",
       "      <td>...</td>\n",
       "      <td>...</td>\n",
       "      <td>...</td>\n",
       "      <td>...</td>\n",
       "      <td>...</td>\n",
       "      <td>...</td>\n",
       "      <td>...</td>\n",
       "      <td>...</td>\n",
       "      <td>...</td>\n",
       "      <td>...</td>\n",
       "      <td>...</td>\n",
       "    </tr>\n",
       "    <tr>\n",
       "      <th>27070</th>\n",
       "      <td>1065230</td>\n",
       "      <td>Room of Pandora</td>\n",
       "      <td>2019-04-24</td>\n",
       "      <td>1</td>\n",
       "      <td>SHEN JIAWEI</td>\n",
       "      <td>SHEN JIAWEI</td>\n",
       "      <td>windows</td>\n",
       "      <td>0</td>\n",
       "      <td>Single-player;Steam Achievements</td>\n",
       "      <td>Adventure;Casual;Indie</td>\n",
       "      <td>Adventure;Indie;Casual</td>\n",
       "      <td>7</td>\n",
       "      <td>3</td>\n",
       "      <td>0</td>\n",
       "      <td>0</td>\n",
       "      <td>0</td>\n",
       "      <td>0-20000</td>\n",
       "      <td>2.09</td>\n",
       "    </tr>\n",
       "    <tr>\n",
       "      <th>27071</th>\n",
       "      <td>1065570</td>\n",
       "      <td>Cyber Gun</td>\n",
       "      <td>2019-04-23</td>\n",
       "      <td>1</td>\n",
       "      <td>Semyon Maximov</td>\n",
       "      <td>BekkerDev Studio</td>\n",
       "      <td>windows</td>\n",
       "      <td>0</td>\n",
       "      <td>Single-player</td>\n",
       "      <td>Action;Adventure;Indie</td>\n",
       "      <td>Action;Indie;Adventure</td>\n",
       "      <td>0</td>\n",
       "      <td>8</td>\n",
       "      <td>1</td>\n",
       "      <td>0</td>\n",
       "      <td>0</td>\n",
       "      <td>0-20000</td>\n",
       "      <td>1.69</td>\n",
       "    </tr>\n",
       "    <tr>\n",
       "      <th>27072</th>\n",
       "      <td>1065650</td>\n",
       "      <td>Super Star Blast</td>\n",
       "      <td>2019-04-24</td>\n",
       "      <td>1</td>\n",
       "      <td>EntwicklerX</td>\n",
       "      <td>EntwicklerX</td>\n",
       "      <td>windows</td>\n",
       "      <td>0</td>\n",
       "      <td>Single-player;Multi-player;Co-op;Shared/Split ...</td>\n",
       "      <td>Action;Casual;Indie</td>\n",
       "      <td>Action;Indie;Casual</td>\n",
       "      <td>24</td>\n",
       "      <td>0</td>\n",
       "      <td>1</td>\n",
       "      <td>0</td>\n",
       "      <td>0</td>\n",
       "      <td>0-20000</td>\n",
       "      <td>3.99</td>\n",
       "    </tr>\n",
       "    <tr>\n",
       "      <th>27073</th>\n",
       "      <td>1066700</td>\n",
       "      <td>New Yankee 7: Deer Hunters</td>\n",
       "      <td>2019-04-17</td>\n",
       "      <td>1</td>\n",
       "      <td>Yustas Game Studio</td>\n",
       "      <td>Alawar Entertainment</td>\n",
       "      <td>windows;mac</td>\n",
       "      <td>0</td>\n",
       "      <td>Single-player;Steam Cloud</td>\n",
       "      <td>Adventure;Casual;Indie</td>\n",
       "      <td>Indie;Casual;Adventure</td>\n",
       "      <td>0</td>\n",
       "      <td>2</td>\n",
       "      <td>0</td>\n",
       "      <td>0</td>\n",
       "      <td>0</td>\n",
       "      <td>0-20000</td>\n",
       "      <td>5.19</td>\n",
       "    </tr>\n",
       "    <tr>\n",
       "      <th>27074</th>\n",
       "      <td>1069460</td>\n",
       "      <td>Rune Lord</td>\n",
       "      <td>2019-04-24</td>\n",
       "      <td>1</td>\n",
       "      <td>Adept Studios GD</td>\n",
       "      <td>Alawar Entertainment</td>\n",
       "      <td>windows;mac</td>\n",
       "      <td>0</td>\n",
       "      <td>Single-player;Steam Cloud</td>\n",
       "      <td>Adventure;Casual;Indie</td>\n",
       "      <td>Indie;Casual;Adventure</td>\n",
       "      <td>0</td>\n",
       "      <td>4</td>\n",
       "      <td>0</td>\n",
       "      <td>0</td>\n",
       "      <td>0</td>\n",
       "      <td>0-20000</td>\n",
       "      <td>5.19</td>\n",
       "    </tr>\n",
       "  </tbody>\n",
       "</table>\n",
       "<p>27075 rows × 18 columns</p>\n",
       "</div>"
      ],
      "text/plain": [
       "         appid                        name release_date  english  \\\n",
       "0           10              Counter-Strike   2000-11-01        1   \n",
       "1           20       Team Fortress Classic   1999-04-01        1   \n",
       "2           30               Day of Defeat   2003-05-01        1   \n",
       "3           40          Deathmatch Classic   2001-06-01        1   \n",
       "4           50   Half-Life: Opposing Force   1999-11-01        1   \n",
       "...        ...                         ...          ...      ...   \n",
       "27070  1065230             Room of Pandora   2019-04-24        1   \n",
       "27071  1065570                   Cyber Gun   2019-04-23        1   \n",
       "27072  1065650            Super Star Blast   2019-04-24        1   \n",
       "27073  1066700  New Yankee 7: Deer Hunters   2019-04-17        1   \n",
       "27074  1069460                   Rune Lord   2019-04-24        1   \n",
       "\n",
       "                developer             publisher          platforms  \\\n",
       "0                   Valve                 Valve  windows;mac;linux   \n",
       "1                   Valve                 Valve  windows;mac;linux   \n",
       "2                   Valve                 Valve  windows;mac;linux   \n",
       "3                   Valve                 Valve  windows;mac;linux   \n",
       "4        Gearbox Software                 Valve  windows;mac;linux   \n",
       "...                   ...                   ...                ...   \n",
       "27070         SHEN JIAWEI           SHEN JIAWEI            windows   \n",
       "27071      Semyon Maximov      BekkerDev Studio            windows   \n",
       "27072         EntwicklerX           EntwicklerX            windows   \n",
       "27073  Yustas Game Studio  Alawar Entertainment        windows;mac   \n",
       "27074    Adept Studios GD  Alawar Entertainment        windows;mac   \n",
       "\n",
       "       required_age                                         categories  \\\n",
       "0                 0  Multi-player;Online Multi-Player;Local Multi-P...   \n",
       "1                 0  Multi-player;Online Multi-Player;Local Multi-P...   \n",
       "2                 0              Multi-player;Valve Anti-Cheat enabled   \n",
       "3                 0  Multi-player;Online Multi-Player;Local Multi-P...   \n",
       "4                 0  Single-player;Multi-player;Valve Anti-Cheat en...   \n",
       "...             ...                                                ...   \n",
       "27070             0                   Single-player;Steam Achievements   \n",
       "27071             0                                      Single-player   \n",
       "27072             0  Single-player;Multi-player;Co-op;Shared/Split ...   \n",
       "27073             0                          Single-player;Steam Cloud   \n",
       "27074             0                          Single-player;Steam Cloud   \n",
       "\n",
       "                       genres                 steamspy_tags  achievements  \\\n",
       "0                      Action        Action;FPS;Multiplayer             0   \n",
       "1                      Action        Action;FPS;Multiplayer             0   \n",
       "2                      Action  FPS;World War II;Multiplayer             0   \n",
       "3                      Action        Action;FPS;Multiplayer             0   \n",
       "4                      Action             FPS;Action;Sci-fi             0   \n",
       "...                       ...                           ...           ...   \n",
       "27070  Adventure;Casual;Indie        Adventure;Indie;Casual             7   \n",
       "27071  Action;Adventure;Indie        Action;Indie;Adventure             0   \n",
       "27072     Action;Casual;Indie           Action;Indie;Casual            24   \n",
       "27073  Adventure;Casual;Indie        Indie;Casual;Adventure             0   \n",
       "27074  Adventure;Casual;Indie        Indie;Casual;Adventure             0   \n",
       "\n",
       "       positive_ratings  negative_ratings  average_playtime  median_playtime  \\\n",
       "0                124534              3339             17612              317   \n",
       "1                  3318               633               277               62   \n",
       "2                  3416               398               187               34   \n",
       "3                  1273               267               258              184   \n",
       "4                  5250               288               624              415   \n",
       "...                 ...               ...               ...              ...   \n",
       "27070                 3                 0                 0                0   \n",
       "27071                 8                 1                 0                0   \n",
       "27072                 0                 1                 0                0   \n",
       "27073                 2                 0                 0                0   \n",
       "27074                 4                 0                 0                0   \n",
       "\n",
       "                  owners  price  \n",
       "0      10000000-20000000   7.19  \n",
       "1       5000000-10000000   3.99  \n",
       "2       5000000-10000000   3.99  \n",
       "3       5000000-10000000   3.99  \n",
       "4       5000000-10000000   3.99  \n",
       "...                  ...    ...  \n",
       "27070            0-20000   2.09  \n",
       "27071            0-20000   1.69  \n",
       "27072            0-20000   3.99  \n",
       "27073            0-20000   5.19  \n",
       "27074            0-20000   5.19  \n",
       "\n",
       "[27075 rows x 18 columns]"
      ]
     },
     "execution_count": 3,
     "metadata": {},
     "output_type": "execute_result"
    }
   ],
   "source": [
    "info('archive/steam.csv', True)\n",
    "steam"
   ]
  },
  {
   "cell_type": "code",
   "execution_count": 4,
   "metadata": {
    "id": "eDij56dq8TSB"
   },
   "outputs": [
    {
     "name": "stdout",
     "output_type": "stream",
     "text": [
      "*****archive/steam_description_data.csv*****\n",
      "Nombre de donnée:  27334 \n",
      "Nombre de dimension:  4 \n",
      "\n",
      "Types des dimensions:\n",
      " steam_appid              int64\n",
      "detailed_description    object\n",
      "about_the_game          object\n",
      "short_description       object\n",
      "dtype: object\n"
     ]
    },
    {
     "data": {
      "text/html": [
       "<div>\n",
       "<style scoped>\n",
       "    .dataframe tbody tr th:only-of-type {\n",
       "        vertical-align: middle;\n",
       "    }\n",
       "\n",
       "    .dataframe tbody tr th {\n",
       "        vertical-align: top;\n",
       "    }\n",
       "\n",
       "    .dataframe thead th {\n",
       "        text-align: right;\n",
       "    }\n",
       "</style>\n",
       "<table border=\"1\" class=\"dataframe\">\n",
       "  <thead>\n",
       "    <tr style=\"text-align: right;\">\n",
       "      <th></th>\n",
       "      <th>steam_appid</th>\n",
       "      <th>detailed_description</th>\n",
       "      <th>about_the_game</th>\n",
       "      <th>short_description</th>\n",
       "    </tr>\n",
       "  </thead>\n",
       "  <tbody>\n",
       "    <tr>\n",
       "      <th>0</th>\n",
       "      <td>10</td>\n",
       "      <td>Play the world's number 1 online action game. ...</td>\n",
       "      <td>Play the world's number 1 online action game. ...</td>\n",
       "      <td>Play the world's number 1 online action game. ...</td>\n",
       "    </tr>\n",
       "    <tr>\n",
       "      <th>1</th>\n",
       "      <td>20</td>\n",
       "      <td>One of the most popular online action games of...</td>\n",
       "      <td>One of the most popular online action games of...</td>\n",
       "      <td>One of the most popular online action games of...</td>\n",
       "    </tr>\n",
       "    <tr>\n",
       "      <th>2</th>\n",
       "      <td>30</td>\n",
       "      <td>Enlist in an intense brand of Axis vs. Allied ...</td>\n",
       "      <td>Enlist in an intense brand of Axis vs. Allied ...</td>\n",
       "      <td>Enlist in an intense brand of Axis vs. Allied ...</td>\n",
       "    </tr>\n",
       "    <tr>\n",
       "      <th>3</th>\n",
       "      <td>40</td>\n",
       "      <td>Enjoy fast-paced multiplayer gaming with Death...</td>\n",
       "      <td>Enjoy fast-paced multiplayer gaming with Death...</td>\n",
       "      <td>Enjoy fast-paced multiplayer gaming with Death...</td>\n",
       "    </tr>\n",
       "    <tr>\n",
       "      <th>4</th>\n",
       "      <td>50</td>\n",
       "      <td>Return to the Black Mesa Research Facility as ...</td>\n",
       "      <td>Return to the Black Mesa Research Facility as ...</td>\n",
       "      <td>Return to the Black Mesa Research Facility as ...</td>\n",
       "    </tr>\n",
       "    <tr>\n",
       "      <th>...</th>\n",
       "      <td>...</td>\n",
       "      <td>...</td>\n",
       "      <td>...</td>\n",
       "      <td>...</td>\n",
       "    </tr>\n",
       "    <tr>\n",
       "      <th>27329</th>\n",
       "      <td>1065230</td>\n",
       "      <td>&lt;img src=\"https://steamcdn-a.akamaihd.net/stea...</td>\n",
       "      <td>&lt;img src=\"https://steamcdn-a.akamaihd.net/stea...</td>\n",
       "      <td>The Room of Pandora is a third-person interact...</td>\n",
       "    </tr>\n",
       "    <tr>\n",
       "      <th>27330</th>\n",
       "      <td>1065570</td>\n",
       "      <td>Have you ever been so lonely that no one but y...</td>\n",
       "      <td>Have you ever been so lonely that no one but y...</td>\n",
       "      <td>Cyber Gun is a hardcore first-person shooter w...</td>\n",
       "    </tr>\n",
       "    <tr>\n",
       "      <th>27331</th>\n",
       "      <td>1065650</td>\n",
       "      <td>&lt;strong&gt;Super Star Blast &lt;/strong&gt;is a space b...</td>\n",
       "      <td>&lt;strong&gt;Super Star Blast &lt;/strong&gt;is a space b...</td>\n",
       "      <td>Super Star Blast is a space based game with ch...</td>\n",
       "    </tr>\n",
       "    <tr>\n",
       "      <th>27332</th>\n",
       "      <td>1066700</td>\n",
       "      <td>Pursue a snow-white deer through an enchanted ...</td>\n",
       "      <td>Pursue a snow-white deer through an enchanted ...</td>\n",
       "      <td>Pursue a snow-white deer through an enchanted ...</td>\n",
       "    </tr>\n",
       "    <tr>\n",
       "      <th>27333</th>\n",
       "      <td>1069460</td>\n",
       "      <td>A portal has opened and dark magic is pouring ...</td>\n",
       "      <td>A portal has opened and dark magic is pouring ...</td>\n",
       "      <td>A portal has opened and dark magic is pouring ...</td>\n",
       "    </tr>\n",
       "  </tbody>\n",
       "</table>\n",
       "<p>27334 rows × 4 columns</p>\n",
       "</div>"
      ],
      "text/plain": [
       "       steam_appid                               detailed_description  \\\n",
       "0               10  Play the world's number 1 online action game. ...   \n",
       "1               20  One of the most popular online action games of...   \n",
       "2               30  Enlist in an intense brand of Axis vs. Allied ...   \n",
       "3               40  Enjoy fast-paced multiplayer gaming with Death...   \n",
       "4               50  Return to the Black Mesa Research Facility as ...   \n",
       "...            ...                                                ...   \n",
       "27329      1065230  <img src=\"https://steamcdn-a.akamaihd.net/stea...   \n",
       "27330      1065570  Have you ever been so lonely that no one but y...   \n",
       "27331      1065650  <strong>Super Star Blast </strong>is a space b...   \n",
       "27332      1066700  Pursue a snow-white deer through an enchanted ...   \n",
       "27333      1069460  A portal has opened and dark magic is pouring ...   \n",
       "\n",
       "                                          about_the_game  \\\n",
       "0      Play the world's number 1 online action game. ...   \n",
       "1      One of the most popular online action games of...   \n",
       "2      Enlist in an intense brand of Axis vs. Allied ...   \n",
       "3      Enjoy fast-paced multiplayer gaming with Death...   \n",
       "4      Return to the Black Mesa Research Facility as ...   \n",
       "...                                                  ...   \n",
       "27329  <img src=\"https://steamcdn-a.akamaihd.net/stea...   \n",
       "27330  Have you ever been so lonely that no one but y...   \n",
       "27331  <strong>Super Star Blast </strong>is a space b...   \n",
       "27332  Pursue a snow-white deer through an enchanted ...   \n",
       "27333  A portal has opened and dark magic is pouring ...   \n",
       "\n",
       "                                       short_description  \n",
       "0      Play the world's number 1 online action game. ...  \n",
       "1      One of the most popular online action games of...  \n",
       "2      Enlist in an intense brand of Axis vs. Allied ...  \n",
       "3      Enjoy fast-paced multiplayer gaming with Death...  \n",
       "4      Return to the Black Mesa Research Facility as ...  \n",
       "...                                                  ...  \n",
       "27329  The Room of Pandora is a third-person interact...  \n",
       "27330  Cyber Gun is a hardcore first-person shooter w...  \n",
       "27331  Super Star Blast is a space based game with ch...  \n",
       "27332  Pursue a snow-white deer through an enchanted ...  \n",
       "27333  A portal has opened and dark magic is pouring ...  \n",
       "\n",
       "[27334 rows x 4 columns]"
      ]
     },
     "execution_count": 4,
     "metadata": {},
     "output_type": "execute_result"
    }
   ],
   "source": [
    "info('archive/steam_description_data.csv', True)\n",
    "steam_description_data"
   ]
  },
  {
   "cell_type": "markdown",
   "metadata": {
    "id": "yJLuxCAk8TSI"
   },
   "source": [
    "## Preprocessing"
   ]
  },
  {
   "cell_type": "code",
   "execution_count": 95,
   "metadata": {
    "id": "z4ztId3N8TSK"
   },
   "outputs": [],
   "source": [
    "# On récupère les valeurs de la colonne steam_appid du fichier steam.csv\n",
    "steam_id = steam[steam.columns[0]].values\n",
    "# On récupère toutes les valeurs de toutes les colonnes du fichier steam_description_data.csv\n",
    "description = steam_description_data[steam_description_data.columns].values\n",
    "# On récupère les titres des jeux\n",
    "titles = steam[steam.columns[1]].values\n",
    "\n",
    "label = steam.columns[9] # la colonne 9 correspond au genre du jeu\n",
    "\n",
    "features = []\n",
    "# Le fichier steam_description_data.csv contient plus de jeux que steam.csv, on ne récupère que ceux qu'ils ont en commun\n",
    "# on concatène les 3 descriptions de chaque jeu\n",
    "\n",
    "j = 0\n",
    "for i in range(len(description)):\n",
    "    if(description[i,0] in steam_id):\n",
    "        # pour ajouter les titres des jeux\n",
    "        d = [titles[j]]\n",
    "        d = np.append(d, description[i, 1:])\n",
    "        j += 1\n",
    "        features.append(d)\n",
    "\n",
    "# On récupère les données\n",
    "X = np.array(features)\n",
    "# On récupère les labels\n",
    "y = steam[label].values"
   ]
  },
  {
   "cell_type": "code",
   "execution_count": 96,
   "metadata": {
    "colab": {
     "base_uri": "https://localhost:8080/"
    },
    "id": "MUCQWSST8TSN",
    "outputId": "2ecc920d-998d-4f76-9d6f-d380d047eb41"
   },
   "outputs": [
    {
     "name": "stdout",
     "output_type": "stream",
     "text": [
      "X:  (27075, 4) \n",
      "y:  (27075,)\n"
     ]
    }
   ],
   "source": [
    "print('X: ',X.shape,'\\ny: ',y.shape)"
   ]
  },
  {
   "cell_type": "code",
   "execution_count": 97,
   "metadata": {
    "colab": {
     "base_uri": "https://localhost:8080/"
    },
    "id": "OzCo82zB8TSR",
    "outputId": "a8a6ef13-1256-476d-b61d-132bcf2d72ae",
    "scrolled": false
   },
   "outputs": [
    {
     "name": "stdout",
     "output_type": "stream",
     "text": [
      "1er jeu du dataset:\n",
      " ['Counter-Strike'\n",
      " \"Play the world's number 1 online action game. Engage in an incredibly realistic brand of terrorist warfare in this wildly popular team-based game. Ally with teammates to complete strategic missions. Take out enemy sites. Rescue hostages. Your role affects your team's success. Your team's success affects your role.\"\n",
      " \"Play the world's number 1 online action game. Engage in an incredibly realistic brand of terrorist warfare in this wildly popular team-based game. Ally with teammates to complete strategic missions. Take out enemy sites. Rescue hostages. Your role affects your team's success. Your team's success affects your role.\"\n",
      " \"Play the world's number 1 online action game. Engage in an incredibly realistic brand of terrorist warfare in this wildly popular team-based game. Ally with teammates to complete strategic missions. Take out enemy sites. Rescue hostages. Your role affects your team's success. Your team's success affects your role.\"]\n",
      "\n",
      "Label:  Action\n"
     ]
    }
   ],
   "source": [
    "# 1er jeu du fichier steam.csv (en ne prenant que la description)\n",
    "print('1er jeu du dataset:\\n',X[0])\n",
    "# son label\n",
    "print('\\nLabel: ',y[0])"
   ]
  },
  {
   "cell_type": "code",
   "execution_count": 98,
   "metadata": {
    "colab": {
     "base_uri": "https://localhost:8080/"
    },
    "id": "lzXoKkZJ8TSV",
    "outputId": "a5993ea0-dd52-485a-9b91-b0cc81ec5ed5"
   },
   "outputs": [
    {
     "data": {
      "text/plain": [
       "array(['魔塔2018',\n",
       "       '《魔塔2018》是一种策略类的RPG游戏。游戏需要动很多脑筋，任何一个轻率的选择都可能导致游戏的失败。<br />\\r\\n<br />\\r\\n魔塔制作精美，道具很多，而且有一定难度，对智商是一次艰巨的考验。<br />\\r\\n<br />\\r\\n所以如果你喜欢挑战，请一定不要错过!魔塔是一款十分经典的游戏,身为勇士的你必须闯过一层又一层的魔塔 最后到达塔顶 救回你那美丽的公主,魔塔里到处都充满着凶残的怪物，我们必须杀死他们。',\n",
       "       '《魔塔2018》是一种策略类的RPG游戏。游戏需要动很多脑筋，任何一个轻率的选择都可能导致游戏的失败。<br />\\r\\n<br />\\r\\n魔塔制作精美，道具很多，而且有一定难度，对智商是一次艰巨的考验。<br />\\r\\n<br />\\r\\n所以如果你喜欢挑战，请一定不要错过!魔塔是一款十分经典的游戏,身为勇士的你必须闯过一层又一层的魔塔 最后到达塔顶 救回你那美丽的公主,魔塔里到处都充满着凶残的怪物，我们必须杀死他们。',\n",
       "       '这是一款策略类的RPG游戏，通过你的判断与计算和怪物战斗，打败他们救出公主，赢得胜利。'], dtype=object)"
      ]
     },
     "execution_count": 98,
     "metadata": {},
     "output_type": "execute_result"
    }
   ],
   "source": [
    "# exemple d'un jeu dont la description est en chinois?\n",
    "X[24881] "
   ]
  },
  {
   "cell_type": "markdown",
   "metadata": {
    "id": "C4JZoP8D8TSX"
   },
   "source": [
    "### Fonctions"
   ]
  },
  {
   "cell_type": "code",
   "execution_count": 99,
   "metadata": {
    "id": "RksRuQG48TSY"
   },
   "outputs": [],
   "source": [
    "def delete_no_english(X, y):\n",
    "    steam_langage = steam[steam.columns[3]].values\n",
    "    cpt = 0\n",
    "    new_X = []\n",
    "    new_y = []\n",
    "    N = X.shape[0]\n",
    "    for i in range(N):\n",
    "        # si le jeu n'est pas en anglais\n",
    "        if(steam_langage[i] == 1):\n",
    "            new_X.append(X[i])\n",
    "            new_y.append(y[i])\n",
    "        else:\n",
    "            cpt += 1\n",
    "    print(cpt,\" jeux ont été enlevés\\n\")\n",
    "    return np.array(new_X), np.array(new_y)\n",
    "\n",
    "def html(s):\n",
    "    split = s.split('<')\n",
    "    # on le split à nouveau avec la balise fermante\n",
    "    s_without_HTML = \"\"\n",
    "    # supprimer html\n",
    "    for i in range(len(split)):\n",
    "        split[i] = split[i].split('>')\n",
    "        if(i == 0):\n",
    "            s_without_HTML += split[i][0]\n",
    "        elif(len(split[i]) > 1 and split[i][1] != \"\"):\n",
    "            if(split[i][1][0] == \" \"):\n",
    "                s_without_HTML += split[i][1]\n",
    "            else:\n",
    "                s_without_HTML += \" \" + split[i][1]\n",
    "    return s_without_HTML\n",
    "\n",
    "def replace(s, new_values):\n",
    "    N = len(new_values)\n",
    "    for i in range(N):\n",
    "        s = s.replace(new_values[i][0], new_values[i][1])\n",
    "    return s\n",
    "\n",
    "def brackets(s):\n",
    "    brackets = np.array([['(', ')'], ['[', ']'], ['{', '}']])\n",
    "    N = len(brackets)\n",
    "    for b in range(N):\n",
    "        split = s.split(brackets[b,0])\n",
    "        s_without_brackets = \"\"\n",
    "        for k in range(len(split)):\n",
    "            split[k] = split[k].split(brackets[b,1])\n",
    "            if(k == 0):\n",
    "                s_without_brackets += split[k][0]\n",
    "            elif(len(split[k]) > 1 and split[k][1] != ''):\n",
    "                if(split[k][1][0] == ' '):\n",
    "                    s_without_brackets += split[k][1]\n",
    "                else:\n",
    "                    s_without_brackets += \" \" + split[k][1]\n",
    "        s = s_without_brackets\n",
    "    return s\n",
    "\n",
    "def character(s, characters):\n",
    "    # les éléments de characters seront remplacés par un espace \" \"\n",
    "    translation = str.maketrans({i:\" \" for i in characters})\n",
    "    # on sépare les mots et on les met dans la liste X_split\n",
    "    split = s.split(' ')\n",
    "    s_without_link = \"\"\n",
    "    for i in split:\n",
    "        # on vérifie que chaque mot ne contient pas 'http' ou 'www'\n",
    "        if(not 'http' in i and not 'www' in i):\n",
    "            s_without_link += i + \" \"\n",
    "        # on supprime les caractères à supprimer\n",
    "    return s_without_link.translate(translation)\n",
    "\n",
    "def backslashes(s):\n",
    "    l = ['\\x91','\\x92','\\x94','\\x93','\\x97','\\x96','\\x80','\\x99','\\x98','\\xad','\\x7f','\\u200b','\\u200f','\\ufeff','/','\\n',\n",
    "        '\\t','\\r']\n",
    "    for i in l:\n",
    "        s = s.replace(i, \" \")\n",
    "    return s\n",
    "\n",
    "def numbers_lowerCase(s):\n",
    "    s_without_numbers = \"\"\n",
    "    N = len(s)\n",
    "    for i in range(N):\n",
    "        if(s[i].isdigit()):\n",
    "            s_without_numbers += \" \"\n",
    "        else:\n",
    "            s_without_numbers += s[i]\n",
    "    return s_without_numbers.lower()\n",
    "\n",
    "def stopword(s, stopwords):\n",
    "    modif = False\n",
    "    split = s.split(\" \")\n",
    "    s_without_stopwords = \"\"\n",
    "    for i in split:\n",
    "        if(i not in stopwords):\n",
    "            s_without_stopwords += i + \" \"\n",
    "    split = s_without_stopwords.split(\" \")\n",
    "    s_without_one_letter_words = \"\"\n",
    "    N = len(split)\n",
    "    for i in range(N):\n",
    "        if(len(split[i]) > 1 and split[i] != \" \"):\n",
    "            modif = True\n",
    "            if(i == N - 1): # dernier élement donc on ne met pas d'espace\n",
    "                s_without_one_letter_words += split[i]\n",
    "            else:\n",
    "                s_without_one_letter_words += split[i] + \" \"\n",
    "    N = len(s_without_one_letter_words)\n",
    "    # on vérifie que le dernier caractère n'est pas un espace\n",
    "    if(modif and s_without_one_letter_words[N-1] == \" \"):\n",
    "        s_without_one_letter_words = s_without_one_letter_words[:N-1]\n",
    "    return s_without_one_letter_words\n",
    "\n",
    "def clear_string(s, replacement, characters, stopwords):\n",
    "    return stopword(numbers_lowerCase(backslashes(character(brackets(replace(html(s), replacement)), characters))), stopwords)\n",
    "\n",
    "def clear_all_data(X, replacement, characters, stopwords):\n",
    "    N = X.shape[0]\n",
    "    D = X.shape[1]\n",
    "    for i in range(N):\n",
    "        for j in range(D):\n",
    "            X[i,j] = clear_string(X[i,j], replacement, characters, stopwords)\n",
    "        \n",
    "def delete_no_ascii(X, y):\n",
    "    new_X = []\n",
    "    new_y = []\n",
    "    cpt=0\n",
    "    for i in range(len(X)):\n",
    "        # indique si il y a des caractères non ascii\n",
    "        no_ascii = True\n",
    "        for e in X[i]:\n",
    "            # si le caractères n'est pas ascii\n",
    "            if(re.sub('[ -~]', '', e) != \"\"):\n",
    "                no_ascii = False\n",
    "        if(no_ascii):\n",
    "            new_X.append(X[i])\n",
    "            new_y.append(y[i])\n",
    "        else:\n",
    "            cpt += 1\n",
    "    print(cpt,\" jeux ont été enlevés\\n\")\n",
    "    return np.array(new_X), np.array(new_y)\n",
    "\n",
    "def remove_genres(X, y, tokenized=False):\n",
    "    N = X.shape[0]\n",
    "    D = X.shape[1]\n",
    "    genres = get_labels(y)\n",
    "    for i in range(N):\n",
    "        for j in range(D):\n",
    "            if(tokenized):\n",
    "                for k in X[i,j]:\n",
    "                    if(k in genres):\n",
    "                        X[i,j].remove(k)\n",
    "            else:\n",
    "                X_split = X[i,j].split(\" \")\n",
    "                for k in X_split:\n",
    "                    if(k in genres):\n",
    "                        X[i,j] = X[i,j].replace(k, \"\")\n",
    "                        \n",
    "def lemmatize(X, tokenize=False):\n",
    "    N = X.shape[0]\n",
    "    D = X.shape[1]\n",
    "    new_X = np.empty((N, D), object)\n",
    "    lemmatizer = WordNetLemmatizer()\n",
    "    for i in range(N):\n",
    "        for j in range(D):\n",
    "            X_split = X[i,j].split(\" \")  \n",
    "            X_lemmatized = \"\"\n",
    "            for k in range(len(X_split)):\n",
    "                if(k == len(X_split) - 1):\n",
    "                    X_lemmatized += lemmatizer.lemmatize(X_split[k], wordnet.VERB)\n",
    "                else:\n",
    "                    X_lemmatized += lemmatizer.lemmatize(X_split[k], wordnet.VERB) + \" \"\n",
    "            if(tokenize):\n",
    "                new_X[i,j] = X_lemmatized.split(\" \")\n",
    "            else:\n",
    "                new_X[i,j] = X_lemmatized\n",
    "    return new_X\n",
    "\n",
    "# renvoi la liste des labels contenus dans y\n",
    "def get_labels(y):\n",
    "    labels = []\n",
    "    N = y.shape[0]\n",
    "    for i in range(N):\n",
    "        y_split = y[i].split(\" \")\n",
    "        for j in y_split:\n",
    "            if(j not in labels and j != \" \"):\n",
    "                labels.append(j)\n",
    "    return np.array(labels)\n",
    "\n",
    "def rename_labels(y):\n",
    "    N = y.shape[0]\n",
    "    characters = [\"&\", \";\"]\n",
    "    translation = str.maketrans({i:\" \" for i in characters})\n",
    "    for i in range(N):\n",
    "        y[i] = y[i].translate(translation).lower()\n",
    "        y[i] = y[i].replace(\"free to play\", \"free\")\n",
    "        y[i] = y[i].replace(\"animation   modeling\", \"animation\")\n",
    "        y[i] = y[i].replace(\"video production\", \"video\")\n",
    "        y[i] = y[i].replace(\"massively multiplayer\", \"multiplayer\")\n",
    "        y[i] = y[i].replace(\"early access\", \"early\")\n",
    "        y[i] = y[i].replace(\"design   illustration\", \"design\")\n",
    "        y[i] = y[i].replace(\"web publishing\", \"web\")\n",
    "        y[i] = y[i].replace(\"software training\", \"software\")\n",
    "        y[i] = y[i].replace(\"sexual content\", \"sexual\")\n",
    "        y[i] = y[i].replace(\"audio production\", \"audio\")\n",
    "        y[i] = y[i].replace(\"game development\", \"development\")\n",
    "        y[i] = y[i].replace(\"photo editing\", \"photo\")\n",
    "        #y[i] = y[i].replace(\"rpg\", \"role\")\n",
    "        \n",
    "def keep_first_label_only(y):\n",
    "    N = y.shape[0]\n",
    "    new_y = []\n",
    "    for i in range(N):\n",
    "        y_split = y[i].split(\" \")\n",
    "        new_y.append(y_split[0])\n",
    "    return np.array(new_y)\n",
    "\n",
    "def prepro(X, y, replacement, character, stopwords):\n",
    "    print(\"Preprocessing: environ 3m\\n\\nSuppression des jeux non anglais: \")\n",
    "    X, y = delete_no_english(X, y)\n",
    "    print(\"✔\\n\")\n",
    "    print(\"Nettoyage du texte: \")\n",
    "    clear_all_data(X, replacement, character, stopwords)\n",
    "    print(\"✔\\n\")\n",
    "    print(\"Suppression des caractères non ASCII restants: \")\n",
    "    X, y = delete_no_ascii(X, y)\n",
    "    print(\"✔\\n\")\n",
    "    print(\"Renommage des labels: \")\n",
    "    rename_labels(y)\n",
    "    print(\"✔\\n\")\n",
    "    return X, y\n",
    "\n",
    "# sélectionne aléatoirement nb données dans le dataset\n",
    "def select_data(X, y, nb):\n",
    "    new_X = np.empty((nb, X.shape[1]), object)\n",
    "    new_y = np.array([])\n",
    "    N = X.shape[0]\n",
    "    index = np.arange(N)\n",
    "    for i in range(nb):\n",
    "        r = random.randint(0, len(index)-1)\n",
    "        new_X[i] = X[r]\n",
    "        new_y = np.append(new_y, y[r])\n",
    "        index = np.delete(index, r)\n",
    "    return new_X, new_y"
   ]
  },
  {
   "cell_type": "code",
   "execution_count": 100,
   "metadata": {
    "id": "5jsz9-QX8TSe"
   },
   "outputs": [],
   "source": [
    "replacement = np.array([[\"ê\",\"e\"],[\"é\",\"e\"],[\"è\",\"e\"],[\"ë\",\"e\"],[\"à\",\"a\"],[\"ä\",\"a\"],[\"ä\",\"a\"],[\"å\",\"a\"],[\"ł\",\"l\"],\n",
    "                        [\"ü\",\"u\"],[\"û\",\"u\"],[\"ö\",\"o\"],[\"ô\",\"o\"],[\"Ö\",\"o\"],[\"ò\",\"o\"],[\"í\",\"i\"],[\"ï\",\"i\"],[\"î\",\"i\"],[\"Ã\",\"a\"],\n",
    "                        [\"Ä\",\"a\"],[\"ž\",\"z\"],[\"ì\",\"i\"],[\"Ñ\",\"n\"],[\"ñ\",\"n\"],[\"á\",\"a\"],[\"ø\",\"o\"],[\"Á\",\"a\"],[\"á\",\"a\"],\n",
    "                        [\"Ü\",\"u\"],[\"ō\",\"o\"],[\"ú\",\"u\"],[\"ã\",\"a\"],[\"É\",\"e\"],[\"×\",\"x\"],[\"Ó\",\"o\"],[\"С\",\"c\"],[\"、\",\",\"],\n",
    "                        [\"ɑ\",\"a\"],[\"ñ\",\"n\"],[\"ũ\",\"u\"],[\"ó\",\"o\"],[\"â\",\"a\"],[\"Û\",\"u\"],[\"ū\",\"u\"],[\"õ\",\"o\"],[\"，\",\",\"],\n",
    "                        [\"ń\",\"n\"],[\"х\",\"x\"],[\"А\",\"a\"],[\"с\",\"c\"],[\"Ś\",\"s\"],[\"Т\",\"t\"],[\"a\",\"a\"]])\n",
    "\n",
    "character_to_delete = np.array(['•','€','™','*','-','–','¢','˜','«','»','®','+','µ','·','¹','¬','º','½','±','©','§','ª','ƒ',\n",
    "                              '¿','Ð','¸','¼','Ø','¨','æ','‡','“','”','ç','¥','œ','´','#','—','‘','…', '²', '●', '³', '・',\n",
    "                                '∞','√','∼','✢','※','◾','■','★','➠','―','„','✓','▶','◆','ລ','▪','♪','♞','♥','Ω','α',\n",
    "                                'Λ','♫','「','」','：','◕','_','つ','༽','༼','⚠','✔','』','『','►','☆','℗','✗','✪','†','《',\n",
    "                                '》','一','。','～','‐','″','↑','@','◉','♂','♀','＊','【','】','＊','＜','＞','→','↓','←',\n",
    "                                '①','②','③','▽','△','○','Ⅶ','□','（','）','%','Ⅱ','~','°','&',',', '!', '?', ':', '.', ';',\n",
    "                                '\"',\"'\",'′','’','＋','=','|','~','^', '@','$'])\n",
    "\n",
    "stopwords = np.loadtxt(\"stopwords.txt\",str)"
   ]
  },
  {
   "cell_type": "code",
   "execution_count": 101,
   "metadata": {
    "colab": {
     "base_uri": "https://localhost:8080/"
    },
    "id": "QG6D3jOL8TSm",
    "outputId": "fc562851-856e-4a00-e9b2-6c39868912b2",
    "scrolled": false
   },
   "outputs": [
    {
     "name": "stdout",
     "output_type": "stream",
     "text": [
      "Preprocessing: environ 3m\n",
      "\n",
      "Suppression des jeux non anglais: \n",
      "511  jeux ont été enlevés\n",
      "\n",
      "✔\n",
      "\n",
      "Nettoyage du texte: \n",
      "✔\n",
      "\n",
      "Suppression des caractères non ASCII restants: \n",
      "976  jeux ont été enlevés\n",
      "\n",
      "✔\n",
      "\n",
      "Renommage des labels: \n",
      "✔\n",
      "\n"
     ]
    }
   ],
   "source": [
    "# préprocessing (5m)\n",
    "X, y = prepro(X, y, replacement, character_to_delete, stopwords)"
   ]
  },
  {
   "cell_type": "code",
   "execution_count": 102,
   "metadata": {},
   "outputs": [],
   "source": [
    "# on choisit le nombre de données qu'on veut utiliser\n",
    "nb_data = 20000\n",
    "X, y = select_data(X, y, nb_data)"
   ]
  },
  {
   "cell_type": "code",
   "execution_count": 103,
   "metadata": {
    "colab": {
     "base_uri": "https://localhost:8080/"
    },
    "id": "HRJAg_yS8TSp",
    "outputId": "6cd69086-d736-4cba-d9c7-1e098f4bdb33"
   },
   "outputs": [
    {
     "name": "stdout",
     "output_type": "stream",
     "text": [
      "X:  (20000, 4) \n",
      "y:  (20000,)\n"
     ]
    }
   ],
   "source": [
    "print('X: ',X.shape,'\\ny: ',y.shape)"
   ]
  },
  {
   "cell_type": "code",
   "execution_count": 104,
   "metadata": {
    "colab": {
     "base_uri": "https://localhost:8080/"
    },
    "id": "TA7zSvEa8TSp",
    "outputId": "4b49db08-55d6-47f8-99b6-4c4f19e22aaa"
   },
   "outputs": [
    {
     "data": {
      "text/plain": [
       "(array(['neckbeards basement arena',\n",
       "        'put skipping rope gym bag time hit basement antagonists basements world duty shut warriors clear sacred battlegrounds based classic arcade games robotron neckbeards stop action players epic soundtrack taste psychedelia choose champion posse amazing protagonists including badass beta male racy spinster fearsome basement dweller face hundred levels full insane chads trolls hundreds foes protect mom garden levels dessert mortal battle special enemies special heal wounds delicious junk food high quality medicinal herb clear level time face fearsome school shooter natural selection baby',\n",
       "        'put skipping rope gym bag time hit basement antagonists basements world duty shut warriors clear sacred battlegrounds based classic arcade games robotron neckbeards stop action players epic soundtrack taste psychedelia choose champion posse amazing protagonists including badass beta male racy spinster fearsome basement dweller face hundred levels full insane chads trolls hundreds foes protect mom garden levels dessert mortal battle special enemies special heal wounds delicious junk food high quality medicinal herb clear level time face fearsome school shooter natural selection baby',\n",
       "        'based classic arcade games robotron neckbeards stop action players epic soundtrack taste psychedelia'],\n",
       "       dtype=object),\n",
       " 'action casual indie')"
      ]
     },
     "execution_count": 104,
     "metadata": {},
     "output_type": "execute_result"
    }
   ],
   "source": [
    "# premier jeu du dataset\n",
    "X[0], y[0]"
   ]
  },
  {
   "cell_type": "code",
   "execution_count": 105,
   "metadata": {
    "id": "YKl0E06U8TSs"
   },
   "outputs": [],
   "source": [
    "# Lemmatisation\n",
    "\n",
    "# Pour que les descriptions soient des listes de mots\n",
    "X_tokenized = lemmatize(X, tokenize=True)\n",
    "\n",
    "# Pour laisser les descriptions en chaînes de caractères\n",
    "X_not_tokenized = lemmatize(X)"
   ]
  },
  {
   "cell_type": "code",
   "execution_count": 106,
   "metadata": {
    "colab": {
     "base_uri": "https://localhost:8080/"
    },
    "id": "TMNjWC3b8TSt",
    "outputId": "f98c7aa2-2029-47b2-fddd-d4d92548d8f8"
   },
   "outputs": [
    {
     "name": "stdout",
     "output_type": "stream",
     "text": [
      "X_tokenized[0]:\n",
      " [list(['neckbeards', 'basement', 'arena'])\n",
      " list(['put', 'skip', 'rope', 'gym', 'bag', 'time', 'hit', 'basement', 'antagonists', 'basements', 'world', 'duty', 'shut', 'warriors', 'clear', 'sacred', 'battlegrounds', 'base', 'classic', 'arcade', 'game', 'robotron', 'neckbeards', 'stop', 'action', 'players', 'epic', 'soundtrack', 'taste', 'psychedelia', 'choose', 'champion', 'posse', 'amaze', 'protagonists', 'include', 'badass', 'beta', 'male', 'racy', 'spinster', 'fearsome', 'basement', 'dweller', 'face', 'hundred', 'level', 'full', 'insane', 'chads', 'troll', 'hundreds', 'foes', 'protect', 'mom', 'garden', 'level', 'dessert', 'mortal', 'battle', 'special', 'enemies', 'special', 'heal', 'wound', 'delicious', 'junk', 'food', 'high', 'quality', 'medicinal', 'herb', 'clear', 'level', 'time', 'face', 'fearsome', 'school', 'shooter', 'natural', 'selection', 'baby'])\n",
      " list(['put', 'skip', 'rope', 'gym', 'bag', 'time', 'hit', 'basement', 'antagonists', 'basements', 'world', 'duty', 'shut', 'warriors', 'clear', 'sacred', 'battlegrounds', 'base', 'classic', 'arcade', 'game', 'robotron', 'neckbeards', 'stop', 'action', 'players', 'epic', 'soundtrack', 'taste', 'psychedelia', 'choose', 'champion', 'posse', 'amaze', 'protagonists', 'include', 'badass', 'beta', 'male', 'racy', 'spinster', 'fearsome', 'basement', 'dweller', 'face', 'hundred', 'level', 'full', 'insane', 'chads', 'troll', 'hundreds', 'foes', 'protect', 'mom', 'garden', 'level', 'dessert', 'mortal', 'battle', 'special', 'enemies', 'special', 'heal', 'wound', 'delicious', 'junk', 'food', 'high', 'quality', 'medicinal', 'herb', 'clear', 'level', 'time', 'face', 'fearsome', 'school', 'shooter', 'natural', 'selection', 'baby'])\n",
      " list(['base', 'classic', 'arcade', 'game', 'robotron', 'neckbeards', 'stop', 'action', 'players', 'epic', 'soundtrack', 'taste', 'psychedelia'])]\n"
     ]
    }
   ],
   "source": [
    "# Voilà ce qu'on obtient sur le 1er jeu avec X_tokenized\n",
    "print('X_tokenized[0]:\\n', X_tokenized[0])"
   ]
  },
  {
   "cell_type": "code",
   "execution_count": 107,
   "metadata": {
    "colab": {
     "base_uri": "https://localhost:8080/"
    },
    "id": "S5DT0YXN8TSu",
    "outputId": "8eccb18f-7993-40bd-b50e-94baf6e0b9f1"
   },
   "outputs": [
    {
     "name": "stdout",
     "output_type": "stream",
     "text": [
      "\n",
      "X_not_tokenized[0]:\n",
      " ['neckbeards basement arena'\n",
      " 'put skip rope gym bag time hit basement antagonists basements world duty shut warriors clear sacred battlegrounds base classic arcade game robotron neckbeards stop action players epic soundtrack taste psychedelia choose champion posse amaze protagonists include badass beta male racy spinster fearsome basement dweller face hundred level full insane chads troll hundreds foes protect mom garden level dessert mortal battle special enemies special heal wound delicious junk food high quality medicinal herb clear level time face fearsome school shooter natural selection baby'\n",
      " 'put skip rope gym bag time hit basement antagonists basements world duty shut warriors clear sacred battlegrounds base classic arcade game robotron neckbeards stop action players epic soundtrack taste psychedelia choose champion posse amaze protagonists include badass beta male racy spinster fearsome basement dweller face hundred level full insane chads troll hundreds foes protect mom garden level dessert mortal battle special enemies special heal wound delicious junk food high quality medicinal herb clear level time face fearsome school shooter natural selection baby'\n",
      " 'base classic arcade game robotron neckbeards stop action players epic soundtrack taste psychedelia']\n"
     ]
    }
   ],
   "source": [
    "# Voilà ce qu'on obtient sur le 1er jeu avec X_not_tokenized\n",
    "print('\\nX_not_tokenized[0]:\\n', X_not_tokenized[0])"
   ]
  },
  {
   "cell_type": "code",
   "execution_count": 108,
   "metadata": {
    "colab": {
     "base_uri": "https://localhost:8080/"
    },
    "id": "lPUBN05S8TSw",
    "outputId": "9652d529-414c-4e9b-abd2-f0cbcf3bf0c7"
   },
   "outputs": [
    {
     "name": "stdout",
     "output_type": "stream",
     "text": [
      "Tous les labels: \n",
      " ['action' 'casual' 'indie' 'simulation' 'strategy' 'adventure' 'violent'\n",
      " 'early' 'rpg' 'gore' 'sports' 'free' 'utilities' 'racing' 'multiplayer'\n",
      " 'sexual' 'nudity' 'education' 'audio' 'animation' 'video' 'design'\n",
      " 'software' 'accounting' 'photo' 'web' 'development']\n",
      "Il y a  27  labels uniques\n",
      "\n",
      "Tous les labels: \n",
      " ['action' 'indie' 'casual' 'adventure' 'violent' 'simulation' 'rpg' 'free'\n",
      " 'utilities' 'strategy' 'gore' 'sexual' 'racing' 'sports' 'nudity' 'audio'\n",
      " 'design' 'multiplayer' 'animation' 'education' 'accounting' 'early'\n",
      " 'video' 'photo']\n",
      "Il y a  24  labels uniques si on ne prends que les 1er de chaque jeu\n",
      "\n"
     ]
    }
   ],
   "source": [
    "# Labels\n",
    "print('Tous les labels: \\n', get_labels(y))\n",
    "print('Il y a ', len(get_labels(y)), ' labels uniques\\n')\n",
    "\n",
    "# Pour ne garder que le premier genre d'un jeu\n",
    "y_first = keep_first_label_only(y)\n",
    "print(\"Tous les labels: \\n\", get_labels(y_first))\n",
    "print('Il y a ', len(get_labels(y_first)), ' labels uniques si on ne prends que les 1er de chaque jeu\\n')"
   ]
  },
  {
   "cell_type": "markdown",
   "metadata": {
    "id": "oreccat08TSy"
   },
   "source": [
    "## Debut visualisation"
   ]
  },
  {
   "cell_type": "code",
   "execution_count": 109,
   "metadata": {
    "colab": {
     "base_uri": "https://localhost:8080/"
    },
    "id": "eOnZS_3h8TS7",
    "outputId": "575fda56-5cf9-4c8d-fa29-37ef7f29286f"
   },
   "outputs": [
    {
     "name": "stdout",
     "output_type": "stream",
     "text": [
      "['action casual indie' 'indie' 'action' ... 'casual' 'casual'\n",
      " 'action adventure indie']\n",
      "['action' 'casual' 'indie' ... 'action' 'adventure' 'indie']\n"
     ]
    }
   ],
   "source": [
    "def get_labels_list(y):\n",
    "    labels = []\n",
    "    N = y.shape[0]\n",
    "    for i in range(N):\n",
    "        y_split = y[i].split(\" \")\n",
    "        for j in y_split:\n",
    "            if(j != \" \"):\n",
    "                labels.append(j)\n",
    "    return np.array(labels)\n",
    "\n",
    "print(y)\n",
    "print(get_labels_list(y))"
   ]
  },
  {
   "cell_type": "code",
   "execution_count": 110,
   "metadata": {
    "colab": {
     "base_uri": "https://localhost:8080/"
    },
    "id": "lEgYaDsZ8TS8",
    "outputId": "dfc87cf3-3474-4a2b-f9a1-b45d76a5f0f7"
   },
   "outputs": [
    {
     "name": "stdout",
     "output_type": "stream",
     "text": [
      "[9103, 13394, 6199, 7177, 472, 3551, 3238, 1138, 101, 4139, 302, 141, 798, 899, 163, 19, 66, 544, 70, 46, 4, 1697, 26, 15]\n"
     ]
    }
   ],
   "source": [
    "#fonction qui prend en param:\n",
    "#liste y du dataset (taille=76k)\n",
    "#et liste des 26 genres qui existent sans duplication (taille=26)\n",
    "def genre_count(y, genres):\n",
    "    list_genre_count = []\n",
    "    for genre in genres:\n",
    "        count=0\n",
    "        for genre2 in y:\n",
    "            if genre==genre2:\n",
    "                count+=1\n",
    "        list_genre_count.append(count)\n",
    "    return list_genre_count\n",
    "\n",
    "genreLabels = get_labels(y_first)\n",
    "list_genre_count=genre_count(get_labels_list(y), genreLabels)\n",
    "print(list_genre_count)"
   ]
  },
  {
   "cell_type": "code",
   "execution_count": 111,
   "metadata": {
    "colab": {
     "base_uri": "https://localhost:8080/",
     "height": 668
    },
    "id": "jlTfAvkX8TS9",
    "outputId": "b3cc3963-8f0e-42f3-b834-39a3d06efbc8"
   },
   "outputs": [
    {
     "data": {
      "text/plain": [
       "Text(0.5, 1.0, 'Nombre de jeux par genre')"
      ]
     },
     "execution_count": 111,
     "metadata": {},
     "output_type": "execute_result"
    },
    {
     "data": {
      "image/png": "[encoded data removed]",
      "text/plain": [
       "<Figure size 936x720 with 1 Axes>"
      ]
     },
     "metadata": {},
     "output_type": "display_data"
    }
   ],
   "source": [
    "plt.figure(figsize=(13, 10))\n",
    "# Bar chart\n",
    "sns.set(font_scale=1.5) #taille du texte\n",
    "sns.barplot(x=list_genre_count, y=genreLabels)\n",
    "plt.xlabel(\"Nombre de jeux vidéos\")\n",
    "plt.ylabel(\"Genres de jeux vidéos\")\n",
    "sns.set(font_scale=2)\n",
    "plt.title(\"Nombre de jeux par genre\")"
   ]
  },
  {
   "cell_type": "code",
   "execution_count": 112,
   "metadata": {
    "id": "pZS9QOyR6b4b"
   },
   "outputs": [],
   "source": [
    "def count_genre_in_description(X, y, tokenized=False):\n",
    "    N = X.shape[0]\n",
    "    D = X.shape[1]\n",
    "    genres = y\n",
    "    count=0\n",
    "    for i in range(N):\n",
    "        for j in range(D):\n",
    "            if(tokenized):\n",
    "                for k in X[i,j]:\n",
    "                    if(k in genres[i]):\n",
    "                        count+=1\n",
    "                        break #on compte seulement 1 fois si un jeu a son genre en description\n",
    "                              #peu importe si la description contient le genre une ou plusieurs fois\n",
    "            else:\n",
    "                X_split = X[i,j].split(\" \")\n",
    "                for k in X_split:\n",
    "                    if(k in genres[i]):\n",
    "                        count+=1\n",
    "                        break #on compte seulement 1 fois si un jeu a son genre en description\n",
    "                              #peu importe si la description contient le genre une ou plusieurs fois\n",
    "    return count"
   ]
  },
  {
   "cell_type": "code",
   "execution_count": 113,
   "metadata": {
    "id": "hO60CehS6p88"
   },
   "outputs": [],
   "source": [
    "# tokenized est à True car on utilise X_tokenized\n",
    "nb_jeu_avec_genre_en_description = count_genre_in_description(X_tokenized, y_first, tokenized=True)\n",
    "nb_jeu_total = len(y_first)"
   ]
  },
  {
   "cell_type": "code",
   "execution_count": 114,
   "metadata": {
    "colab": {
     "base_uri": "https://localhost:8080/",
     "height": 485
    },
    "id": "wNxCNUje7VMR",
    "outputId": "c9b7fdf4-f0f9-4a2e-cb8b-30bc46c09a30"
   },
   "outputs": [
    {
     "data": {
      "text/plain": [
       "<matplotlib.axes._subplots.AxesSubplot at 0x1af281e2808>"
      ]
     },
     "execution_count": 114,
     "metadata": {},
     "output_type": "execute_result"
    },
    {
     "data": {
      "image/png": "[encoded data removed]",
      "text/plain": [
       "<Figure size 864x432 with 1 Axes>"
      ]
     },
     "metadata": {},
     "output_type": "display_data"
    }
   ],
   "source": [
    "plt.figure(figsize=(12, 6))\n",
    "\n",
    "x_bar = ['Nombre de jeux contenant \\nleur genre en description', 'Nombre de jeux au total']\n",
    "y_bar = [nb_jeu_avec_genre_en_description, nb_jeu_total]\n",
    "\n",
    "sns.barplot(x_bar, y_bar)"
   ]
  },
  {
   "cell_type": "markdown",
   "metadata": {
    "id": "khjbVctD8TS_"
   },
   "source": [
    "## Fin visualisation"
   ]
  },
  {
   "cell_type": "code",
   "execution_count": 115,
   "metadata": {
    "colab": {
     "base_uri": "https://localhost:8080/"
    },
    "id": "dfnQCID58TTH",
    "outputId": "cb8025c0-069c-4a5c-dc06-67f686c79de2"
   },
   "outputs": [
    {
     "data": {
      "text/plain": [
       "'\\nseed = 7\\n# pourcentage du dataset utilisé pour l\\'ensemble de test\\ntest_ratio = 0.3\\n\\nX_train, X_test, y_train, y_test = train_test_split(X1, y1, test_size=test_ratio, train_size=1-test_ratio,\\n                                                    random_state=seed)\\n\\nprint(\\'X_train: \\',X_train.shape,\\'\\ny_train: \\',y_train.shape,\\'\\n\\nX_test: \\',X_test.shape,\\'\\ny_test: \\',y_test.shape)\\nprint(\"\\nL\\'ensemble d\\'entraînement possède des jeux de \",len(get_labels(y_train)), \" classes différentes\")\\n'"
      ]
     },
     "execution_count": 115,
     "metadata": {},
     "output_type": "execute_result"
    }
   ],
   "source": [
    "'''\n",
    "seed = 7\n",
    "# pourcentage du dataset utilisé pour l'ensemble de test\n",
    "test_ratio = 0.3\n",
    "\n",
    "X_train, X_test, y_train, y_test = train_test_split(X1, y1, test_size=test_ratio, train_size=1-test_ratio,\n",
    "                                                    random_state=seed)\n",
    "\n",
    "print('X_train: ',X_train.shape,'\\ny_train: ',y_train.shape,'\\n\\nX_test: ',X_test.shape,'\\ny_test: ',y_test.shape)\n",
    "print(\"\\nL'ensemble d'entraînement possède des jeux de \",len(get_labels(y_train)), \" classes différentes\")\n",
    "'''"
   ]
  },
  {
   "cell_type": "code",
   "execution_count": 116,
   "metadata": {
    "colab": {
     "base_uri": "https://localhost:8080/"
    },
    "id": "Gt9sWJnk8TTI",
    "outputId": "e450bac9-e684-4772-e403-fa2189587e7f",
    "scrolled": true
   },
   "outputs": [],
   "source": [
    "#X_train, y_train"
   ]
  },
  {
   "cell_type": "markdown",
   "metadata": {
    "id": "WG20pW284i9M"
   },
   "source": [
    "## Preprocessing supplémentaire pour utiliser la méthode bag of words"
   ]
  },
  {
   "cell_type": "code",
   "execution_count": 117,
   "metadata": {
    "id": "p47_pzu8Hamb"
   },
   "outputs": [],
   "source": [
    "from sklearn.linear_model import LogisticRegression\n",
    "from sklearn.feature_extraction.text import CountVectorizer\n",
    "from sklearn.metrics import accuracy_score, confusion_matrix, plot_confusion_matrix"
   ]
  },
  {
   "cell_type": "code",
   "execution_count": 118,
   "metadata": {},
   "outputs": [],
   "source": [
    "# on a choisi les genres les plus populaires\n",
    "genres_choice = ['action', 'indie', 'strategy', 'rpg', 'casual', 'simulation', 'adventure']\n",
    "\n",
    "# on fusionne les genres peu fréquents en un seule genre nommé \"other\"\n",
    "for i in range(len(y_first)):\n",
    "    if(y_first[i] not in genres_choice):\n",
    "        y_first[i] = \"other\""
   ]
  },
  {
   "cell_type": "code",
   "execution_count": 119,
   "metadata": {
    "id": "J-wDOqt0c9iG"
   },
   "outputs": [],
   "source": [
    "# enlève le genre dans la description\n",
    "def remove_genres_X_list(X, y):\n",
    "    N = X.shape[0]\n",
    "    D = X.shape[1]\n",
    "    genres = get_labels(y)\n",
    "    for i in range(N):\n",
    "        for j in range(D):\n",
    "            X_split = X[i,j].split(\" \")\n",
    "            for k in X_split:\n",
    "                if(k in genres):\n",
    "                    X[i,j] = X[i,j].replace(k, \"\")"
   ]
  },
  {
   "cell_type": "code",
   "execution_count": 120,
   "metadata": {
    "id": "lm1_dSH-fDl-"
   },
   "outputs": [],
   "source": [
    "# on enleve le genre du jeu de la description du jeu s'il est present\n",
    "remove_genres_X_list(X_not_tokenized, y_first)"
   ]
  },
  {
   "cell_type": "markdown",
   "metadata": {},
   "source": [
    "Maintenant que tout le préprocessing est terminé, on va créer les 3 jeux de données suivants:\n",
    "    - X_description qui contient les 3 descriptions concaténées de chaque jeu\n",
    "    - X_title qui contient le titre de chaque jeu\n",
    "    - X_title_description qui contient le titre concaténé aux descriptions de chaque jeu"
   ]
  },
  {
   "cell_type": "code",
   "execution_count": 121,
   "metadata": {},
   "outputs": [],
   "source": [
    "N = X_not_tokenized.shape[0]\n",
    "\n",
    "X_title = []\n",
    "X_description = []\n",
    "X_title_description = []\n",
    "\n",
    "for i in range(N):\n",
    "    # que les titres\n",
    "    X_title.append(X_not_tokenized[i][0])\n",
    "    # que les descriptions\n",
    "    features_description = X_not_tokenized[i][1] + \" \" + X_not_tokenized[i][2] + \" \" + X_not_tokenized[i][3]\n",
    "    X_description.append(features_description)\n",
    "    # titres + descriptions\n",
    "    features_title_description = X_not_tokenized[i][0] + \" \" + features_description\n",
    "    X_title_description.append(features_title_description)\n",
    "    \n",
    "X_title = np.array(X_title)\n",
    "X_description = np.array(X_description)\n",
    "X_title_description = np.array(X_title_description)"
   ]
  },
  {
   "cell_type": "code",
   "execution_count": 122,
   "metadata": {},
   "outputs": [
    {
     "data": {
      "text/plain": [
       "array(['neckbeards basement arena', 'multiwinia', 'headlander', ...,\n",
       "       'mystery lose los angeles', 'zuma deluxe', 'super panda '],\n",
       "      dtype='<U70')"
      ]
     },
     "execution_count": 122,
     "metadata": {},
     "output_type": "execute_result"
    }
   ],
   "source": [
    "X_title"
   ]
  },
  {
   "cell_type": "code",
   "execution_count": 123,
   "metadata": {
    "scrolled": true
   },
   "outputs": [
    {
     "data": {
      "text/plain": [
       "array(['put skip rope gym bag time hit basement antagonists basements world duty shut warriors clear sacred battlegrounds base classic arcade game robotron neckbeards stop  players epic soundtrack taste psychedelia choose champion posse amaze protagonists include badass beta male racy spinster fearsome basement dweller face hundred level full insane chads troll hundreds foes protect mom garden level dessert mortal battle special enemies special heal wound delicious junk food high quality medicinal herb clear level time face fearsome school shooter natural selection baby put skip rope gym bag time hit basement antagonists basements world duty shut warriors clear sacred battlegrounds base classic arcade game robotron neckbeards stop  players epic soundtrack taste psychedelia choose champion posse amaze protagonists include badass beta male racy spinster fearsome basement dweller face hundred level full insane chads troll hundreds foes protect mom garden level dessert mortal battle special enemies special heal wound delicious junk food high quality medicinal herb clear level time face fearsome school shooter natural selection baby base classic arcade game robotron neckbeards stop  players epic soundtrack taste psychedelia',\n",
       "       'long ago computer scientist call dr sepulveda create beautiful digital world exist computer network invention world call darwinia inhabit peaceful law abide digital life form call darwinians years wear darwinians aggressive autonomous divide fs squabble darwinia limit natural resources tribes begin roam fractal void hell bend destruction drink power unswerving pursuit world supremacy wide multiwinians welcome multiwinia survival flattest ultimate retro arcade multiplayer experience choose selection spectacular  pack game modes set beautiful game environ set eye challenge opponent game stick man slaughter watch digital war unfold multiwinian army struggle complete choose task faster rival fast furious flattest survive long ago computer scientist call dr sepulveda create beautiful digital world exist computer network invention world call darwinia inhabit peaceful law abide digital life form call darwinians years wear darwinians aggressive autonomous divide fs squabble darwinia limit natural resources tribes begin roam fractal void hell bend destruction drink power unswerving pursuit world supremacy wide multiwinians welcome multiwinia survival flattest ultimate retro arcade multiplayer experience choose selection spectacular  pack game modes set beautiful game environ set eye challenge opponent game stick man slaughter watch digital war unfold multiwinian army struggle complete choose task faster rival fast furious flattest survive long ago computer scientist call dr sepulveda create beautiful digital world exist computer network invention world call darwinia inhabit peaceful law abide digital life form call darwinians',\n",
       "       'human universe leave disembody head seek clue fracture past travel hostile world machine special helmet dock control robotic host body launch body start discover things fate humanity decide fresh double fine productions headlander retro futuristic side scroll   game set world inspire science fiction world automation utopia wrong humanity transfer mind robotic imposter body rule derange computer bring double fine productions adult swim game headlander guarantee ultimate head trip human universe leave disembody head seek clue fracture past travel hostile world machine special helmet dock control robotic host body launch body start discover things fate humanity decide fresh double fine productions headlander retro futuristic side scroll   game set world inspire science fiction world automation utopia wrong humanity transfer mind robotic imposter body rule derange computer bring double fine productions adult swim game headlander guarantee ultimate head trip launch ultimate head trip blast psychotic robots retro sci fi   double fine productions world automation utopia wrong humanity transfer mind robotic imposter body rule computer',\n",
       "       ...,\n",
       "       'seek find hollywood blockbuster copy year biggest blockbuster movie miss day vip hollywood premiere world famous mystery hire track return lose movie seek find hide object stun locations malibu beach rodeo drive movie set hollywood hot spot hurry hours locate movie hollywood studio ruin succeed award million dollars addictive ways play solve mystery track lose blockbuster movie collect special key film reel unlock unlimited game modes unlimited seek find match puzzle game find cleverly hide object investigate amaze locations find clue fun game modes solve mystery unlimited bonus modes play mini game match word search circle rotation memory match tile swap jigsaw locate hide key film reel unlock unlimited bonus game perfect investigation speed bonuses master pi seek find hollywood blockbuster copy year biggest blockbuster movie miss day vip hollywood premiere world famous mystery hire track return lose movie seek find hide object stun locations malibu beach rodeo drive movie set hollywood hot spot hurry hours locate movie hollywood studio ruin succeed award million dollars addictive ways play solve mystery track lose blockbuster movie collect special key film reel unlock unlimited game modes unlimited seek find match puzzle game find cleverly hide object investigate amaze locations find clue fun game modes solve mystery unlimited bonus modes play mini game match word search circle rotation memory match tile swap jigsaw locate hide key film reel unlock unlimited bonus game perfect investigation speed bonuses master pi seek find hollywood blockbuster copy year biggest blockbuster movie miss day vip hollywood premiere world famous mystery hire track return lose movie seek find hide object stun',\n",
       "       'survive ancient temples zuma critically acclaim  puzzler popcap deep jungle lie hide temples burst trap trickery uncover treasure fire magical ball stone frog idol make match clear deadly chain reach golden skull explore temples good rack huge combos special bonuses fast aim smart history  pack puzzle challenge key feature accelerate graphics effect stun sound tribal tune explore  mode test skills gauntlet mode temples explore survive ancient temples zuma critically acclaim  puzzler popcap deep jungle lie hide temples burst trap trickery uncover treasure fire magical ball stone frog idol make match clear deadly chain reach golden skull explore temples good rack huge combos special bonuses fast aim smart history  pack puzzle challenge key feature accelerate graphics effect stun sound tribal tune explore  mode test skills gauntlet mode temples explore survive ancient temples zuma critically acclaim  puzzler popcap deep jungle lie hide temples burst trap trickery uncover treasure',\n",
       "       'super panda  play brave panda knight fu finish train guardian princess day big celebration party uninvited robots show conquer planet princess space ship game game play modern platformer combine combo fight style lot  elements fight sword throw shuriken magic abilities combine attack combo point increase experience level character unlock abilities upgrade explore worlds linear find lot hide items talk npcs solve quest find magic items rescue princess make special single player  platformer   elements unique combo fight system reward players combine attack linear gameplay explore worlds unlock dozen abilities find magic items talk crazy npcs custom keyboard gamepad support hours gameplay game dialogues english german fun age interest soundtrack visit discussion board information super panda  play brave panda knight fu finish train guardian princess day big celebration party uninvited robots show conquer planet princess space ship game game play modern platformer combine combo fight style lot  elements fight sword throw shuriken magic abilities combine attack combo point increase experience level character unlock abilities upgrade explore worlds linear find lot hide items talk npcs solve quest find magic items rescue princess make special single player  platformer   elements unique combo fight system reward players combine attack linear gameplay explore worlds unlock dozen abilities find magic items talk crazy npcs custom keyboard gamepad support hours gameplay game dialogues english german fun age interest soundtrack visit discussion board information super panda  play brave panda knight fu finish train guardian princess day big celebration party uninvited robots show conquer planet princess space ship'],\n",
       "      dtype='<U20621')"
      ]
     },
     "execution_count": 123,
     "metadata": {},
     "output_type": "execute_result"
    }
   ],
   "source": [
    "X_description"
   ]
  },
  {
   "cell_type": "code",
   "execution_count": 124,
   "metadata": {
    "scrolled": true
   },
   "outputs": [
    {
     "data": {
      "text/plain": [
       "array(['neckbeards basement arena put skip rope gym bag time hit basement antagonists basements world duty shut warriors clear sacred battlegrounds base classic arcade game robotron neckbeards stop  players epic soundtrack taste psychedelia choose champion posse amaze protagonists include badass beta male racy spinster fearsome basement dweller face hundred level full insane chads troll hundreds foes protect mom garden level dessert mortal battle special enemies special heal wound delicious junk food high quality medicinal herb clear level time face fearsome school shooter natural selection baby put skip rope gym bag time hit basement antagonists basements world duty shut warriors clear sacred battlegrounds base classic arcade game robotron neckbeards stop  players epic soundtrack taste psychedelia choose champion posse amaze protagonists include badass beta male racy spinster fearsome basement dweller face hundred level full insane chads troll hundreds foes protect mom garden level dessert mortal battle special enemies special heal wound delicious junk food high quality medicinal herb clear level time face fearsome school shooter natural selection baby base classic arcade game robotron neckbeards stop  players epic soundtrack taste psychedelia',\n",
       "       'multiwinia long ago computer scientist call dr sepulveda create beautiful digital world exist computer network invention world call darwinia inhabit peaceful law abide digital life form call darwinians years wear darwinians aggressive autonomous divide fs squabble darwinia limit natural resources tribes begin roam fractal void hell bend destruction drink power unswerving pursuit world supremacy wide multiwinians welcome multiwinia survival flattest ultimate retro arcade multiplayer experience choose selection spectacular  pack game modes set beautiful game environ set eye challenge opponent game stick man slaughter watch digital war unfold multiwinian army struggle complete choose task faster rival fast furious flattest survive long ago computer scientist call dr sepulveda create beautiful digital world exist computer network invention world call darwinia inhabit peaceful law abide digital life form call darwinians years wear darwinians aggressive autonomous divide fs squabble darwinia limit natural resources tribes begin roam fractal void hell bend destruction drink power unswerving pursuit world supremacy wide multiwinians welcome multiwinia survival flattest ultimate retro arcade multiplayer experience choose selection spectacular  pack game modes set beautiful game environ set eye challenge opponent game stick man slaughter watch digital war unfold multiwinian army struggle complete choose task faster rival fast furious flattest survive long ago computer scientist call dr sepulveda create beautiful digital world exist computer network invention world call darwinia inhabit peaceful law abide digital life form call darwinians',\n",
       "       'headlander human universe leave disembody head seek clue fracture past travel hostile world machine special helmet dock control robotic host body launch body start discover things fate humanity decide fresh double fine productions headlander retro futuristic side scroll   game set world inspire science fiction world automation utopia wrong humanity transfer mind robotic imposter body rule derange computer bring double fine productions adult swim game headlander guarantee ultimate head trip human universe leave disembody head seek clue fracture past travel hostile world machine special helmet dock control robotic host body launch body start discover things fate humanity decide fresh double fine productions headlander retro futuristic side scroll   game set world inspire science fiction world automation utopia wrong humanity transfer mind robotic imposter body rule derange computer bring double fine productions adult swim game headlander guarantee ultimate head trip launch ultimate head trip blast psychotic robots retro sci fi   double fine productions world automation utopia wrong humanity transfer mind robotic imposter body rule computer',\n",
       "       ...,\n",
       "       'mystery lose los angeles seek find hollywood blockbuster copy year biggest blockbuster movie miss day vip hollywood premiere world famous mystery hire track return lose movie seek find hide object stun locations malibu beach rodeo drive movie set hollywood hot spot hurry hours locate movie hollywood studio ruin succeed award million dollars addictive ways play solve mystery track lose blockbuster movie collect special key film reel unlock unlimited game modes unlimited seek find match puzzle game find cleverly hide object investigate amaze locations find clue fun game modes solve mystery unlimited bonus modes play mini game match word search circle rotation memory match tile swap jigsaw locate hide key film reel unlock unlimited bonus game perfect investigation speed bonuses master pi seek find hollywood blockbuster copy year biggest blockbuster movie miss day vip hollywood premiere world famous mystery hire track return lose movie seek find hide object stun locations malibu beach rodeo drive movie set hollywood hot spot hurry hours locate movie hollywood studio ruin succeed award million dollars addictive ways play solve mystery track lose blockbuster movie collect special key film reel unlock unlimited game modes unlimited seek find match puzzle game find cleverly hide object investigate amaze locations find clue fun game modes solve mystery unlimited bonus modes play mini game match word search circle rotation memory match tile swap jigsaw locate hide key film reel unlock unlimited bonus game perfect investigation speed bonuses master pi seek find hollywood blockbuster copy year biggest blockbuster movie miss day vip hollywood premiere world famous mystery hire track return lose movie seek find hide object stun',\n",
       "       'zuma deluxe survive ancient temples zuma critically acclaim  puzzler popcap deep jungle lie hide temples burst trap trickery uncover treasure fire magical ball stone frog idol make match clear deadly chain reach golden skull explore temples good rack huge combos special bonuses fast aim smart history  pack puzzle challenge key feature accelerate graphics effect stun sound tribal tune explore  mode test skills gauntlet mode temples explore survive ancient temples zuma critically acclaim  puzzler popcap deep jungle lie hide temples burst trap trickery uncover treasure fire magical ball stone frog idol make match clear deadly chain reach golden skull explore temples good rack huge combos special bonuses fast aim smart history  pack puzzle challenge key feature accelerate graphics effect stun sound tribal tune explore  mode test skills gauntlet mode temples explore survive ancient temples zuma critically acclaim  puzzler popcap deep jungle lie hide temples burst trap trickery uncover treasure',\n",
       "       'super panda  super panda  play brave panda knight fu finish train guardian princess day big celebration party uninvited robots show conquer planet princess space ship game game play modern platformer combine combo fight style lot  elements fight sword throw shuriken magic abilities combine attack combo point increase experience level character unlock abilities upgrade explore worlds linear find lot hide items talk npcs solve quest find magic items rescue princess make special single player  platformer   elements unique combo fight system reward players combine attack linear gameplay explore worlds unlock dozen abilities find magic items talk crazy npcs custom keyboard gamepad support hours gameplay game dialogues english german fun age interest soundtrack visit discussion board information super panda  play brave panda knight fu finish train guardian princess day big celebration party uninvited robots show conquer planet princess space ship game game play modern platformer combine combo fight style lot  elements fight sword throw shuriken magic abilities combine attack combo point increase experience level character unlock abilities upgrade explore worlds linear find lot hide items talk npcs solve quest find magic items rescue princess make special single player  platformer   elements unique combo fight system reward players combine attack linear gameplay explore worlds unlock dozen abilities find magic items talk crazy npcs custom keyboard gamepad support hours gameplay game dialogues english german fun age interest soundtrack visit discussion board information super panda  play brave panda knight fu finish train guardian princess day big celebration party uninvited robots show conquer planet princess space ship'],\n",
       "      dtype='<U20634')"
      ]
     },
     "execution_count": 124,
     "metadata": {},
     "output_type": "execute_result"
    }
   ],
   "source": [
    "X_title_description"
   ]
  },
  {
   "cell_type": "markdown",
   "metadata": {
    "id": "AdpDDgPCFQYw"
   },
   "source": [
    "### Fin du preprocessing"
   ]
  },
  {
   "cell_type": "markdown",
   "metadata": {
    "id": "jhNzvtW1UTpH"
   },
   "source": [
    "# Model\n",
    "Méthode Bag of words"
   ]
  },
  {
   "cell_type": "code",
   "execution_count": 125,
   "metadata": {},
   "outputs": [],
   "source": [
    "from sklearn.neighbors import KNeighborsClassifier\n",
    "from sklearn.tree import DecisionTreeClassifier"
   ]
  },
  {
   "cell_type": "code",
   "execution_count": 126,
   "metadata": {
    "scrolled": true
   },
   "outputs": [],
   "source": [
    "# pourcentage du dataset utilisé pour l'ensemble de test\n",
    "test_ratio = 0.3\n",
    "seed = 7\n",
    "\n",
    "# que descriptions\n",
    "X_train1, X_test1, y_train1, y_test1 = train_test_split(X_description, y_first, test_size=test_ratio, train_size=1-test_ratio,random_state=seed)\n",
    "\n",
    "# que titres\n",
    "X_train2, X_test2, y_train2, y_test2 = train_test_split(X_title, y_first, test_size=test_ratio, train_size=1-test_ratio,random_state=seed)\n",
    "\n",
    "# titres et descriptions\n",
    "X_train3, X_test3, y_train3, y_test3 = train_test_split(X_title_description, y_first, test_size=test_ratio, train_size=1-test_ratio,random_state=seed)\n",
    "\n",
    "# entrainement, on va compter le nombre d'occurences des mots avec CountVectorizer pour les mettre dans une matrice\n",
    "count_vectorizer = CountVectorizer(analyzer=\"word\", tokenizer=None, preprocessor=None, stop_words=None)"
   ]
  },
  {
   "cell_type": "code",
   "execution_count": 127,
   "metadata": {},
   "outputs": [
    {
     "name": "stdout",
     "output_type": "stream",
     "text": [
      "Score avec le KNeighborsClassifier sur le train:  0.6882142857142857\n",
      "Score avec le KNeighborsClassifier sur le test:  0.5245 \n",
      "\n",
      "Score avec le DecisionTreeClassifier sur le train:  1.0\n",
      "Score avec le DecisionTreeClassifier sur le test:  0.7495\n"
     ]
    }
   ],
   "source": [
    "train_data_features1 = count_vectorizer.fit_transform(X_train1)\n",
    "\n",
    "# on test ces deux classifieurs\n",
    "KNeighborsClassifier = KNeighborsClassifier()\n",
    "DecisionTreeClassifier = DecisionTreeClassifier()\n",
    "\n",
    "# entraînement des modèles\n",
    "KNeighborsClassifier.fit(train_data_features1, y_train1)\n",
    "DecisionTreeClassifier.fit(train_data_features1, y_train1)\n",
    "\n",
    "data_features_train = count_vectorizer.transform(X_train1)\n",
    "data_features_test = count_vectorizer.transform(X_test1)\n",
    "\n",
    "# prédictions sur l'ensemble d'entraînement\n",
    "predictions_KNeighborsClassifier_train = KNeighborsClassifier.predict(data_features_train)\n",
    "predictions_DecisionTreeClassifier_train = DecisionTreeClassifier.predict(data_features_train)\n",
    "\n",
    "# prédictions sur l'ensemble de test\n",
    "predictions_KNeighborsClassifier_test = KNeighborsClassifier.predict(data_features_test)\n",
    "predictions_DecisionTreeClassifier_test = DecisionTreeClassifier.predict(data_features_test)\n",
    "\n",
    "print('Score avec le KNeighborsClassifier sur le train: ', accuracy_score(y_train1, predictions_KNeighborsClassifier_train))\n",
    "print('Score avec le KNeighborsClassifier sur le test: ', accuracy_score(y_test1, predictions_KNeighborsClassifier_test),'\\n')\n",
    "print('Score avec le DecisionTreeClassifier sur le train: ', accuracy_score(y_train1, predictions_DecisionTreeClassifier_train))\n",
    "print('Score avec le DecisionTreeClassifier sur le test: ', accuracy_score(y_test1, predictions_DecisionTreeClassifier_test))"
   ]
  },
  {
   "cell_type": "markdown",
   "metadata": {},
   "source": [
    "Après avoir cherché on a trouvé que le LogisticRegression était le modèle le plus efficace"
   ]
  },
  {
   "cell_type": "code",
   "execution_count": 128,
   "metadata": {},
   "outputs": [],
   "source": [
    "def plot_train_test(train_score, test_score, iteration, titre):\n",
    "    plt.plot(iteration,train_score,color='red', label='Train set')\n",
    "    plt.plot(iteration,test_score,color='blue', label='Test set')\n",
    "    plt.title('Erreur d\\'entraînement et de test pour '+titre, size=15)\n",
    "    plt.xlabel('Iteration', size=15)\n",
    "    plt.ylabel('Score', size=15)\n",
    "    plt.legend()\n",
    "    plt.show()\n",
    "    \n",
    "# on compare l'erreur entre le training set et le test\n",
    "def error_train_test_set(X_train, y_train, X_test, y_test):\n",
    "    test_score = []\n",
    "    train_score = []\n",
    "    iteration = []\n",
    "\n",
    "    train_data_features = count_vectorizer.fit_transform(X_train)\n",
    "\n",
    "    for i in range(5, 100+5, 5):\n",
    "        iteration.append(i)\n",
    "        model = LogisticRegression(max_iter = i)\n",
    "        model.fit(train_data_features, y_train)\n",
    "        data_features_train = count_vectorizer.transform(X_train)\n",
    "        predictions_train = model.predict(data_features_train)\n",
    "        data_features_test = count_vectorizer.transform(X_test)\n",
    "        predictions_test = model.predict(data_features_test)\n",
    "        train_score.append(accuracy_score(y_train, predictions_train))\n",
    "        test_score.append(accuracy_score(y_test, predictions_test))\n",
    "    return train_score, test_score, iteration"
   ]
  },
  {
   "cell_type": "code",
   "execution_count": 129,
   "metadata": {
    "scrolled": true
   },
   "outputs": [
    {
     "name": "stderr",
     "output_type": "stream",
     "text": [
      "C:\\Users\\Ugo\\anaconda3\\lib\\site-packages\\sklearn\\linear_model\\_logistic.py:940: ConvergenceWarning: lbfgs failed to converge (status=1):\n",
      "STOP: TOTAL NO. of ITERATIONS REACHED LIMIT.\n",
      "\n",
      "Increase the number of iterations (max_iter) or scale the data as shown in:\n",
      "    https://scikit-learn.org/stable/modules/preprocessing.html\n",
      "Please also refer to the documentation for alternative solver options:\n",
      "    https://scikit-learn.org/stable/modules/linear_model.html#logistic-regression\n",
      "  extra_warning_msg=_LOGISTIC_SOLVER_CONVERGENCE_MSG)\n",
      "C:\\Users\\Ugo\\anaconda3\\lib\\site-packages\\sklearn\\linear_model\\_logistic.py:940: ConvergenceWarning: lbfgs failed to converge (status=1):\n",
      "STOP: TOTAL NO. of ITERATIONS REACHED LIMIT.\n",
      "\n",
      "Increase the number of iterations (max_iter) or scale the data as shown in:\n",
      "    https://scikit-learn.org/stable/modules/preprocessing.html\n",
      "Please also refer to the documentation for alternative solver options:\n",
      "    https://scikit-learn.org/stable/modules/linear_model.html#logistic-regression\n",
      "  extra_warning_msg=_LOGISTIC_SOLVER_CONVERGENCE_MSG)\n",
      "C:\\Users\\Ugo\\anaconda3\\lib\\site-packages\\sklearn\\linear_model\\_logistic.py:940: ConvergenceWarning: lbfgs failed to converge (status=1):\n",
      "STOP: TOTAL NO. of ITERATIONS REACHED LIMIT.\n",
      "\n",
      "Increase the number of iterations (max_iter) or scale the data as shown in:\n",
      "    https://scikit-learn.org/stable/modules/preprocessing.html\n",
      "Please also refer to the documentation for alternative solver options:\n",
      "    https://scikit-learn.org/stable/modules/linear_model.html#logistic-regression\n",
      "  extra_warning_msg=_LOGISTIC_SOLVER_CONVERGENCE_MSG)\n",
      "C:\\Users\\Ugo\\anaconda3\\lib\\site-packages\\sklearn\\linear_model\\_logistic.py:940: ConvergenceWarning: lbfgs failed to converge (status=1):\n",
      "STOP: TOTAL NO. of ITERATIONS REACHED LIMIT.\n",
      "\n",
      "Increase the number of iterations (max_iter) or scale the data as shown in:\n",
      "    https://scikit-learn.org/stable/modules/preprocessing.html\n",
      "Please also refer to the documentation for alternative solver options:\n",
      "    https://scikit-learn.org/stable/modules/linear_model.html#logistic-regression\n",
      "  extra_warning_msg=_LOGISTIC_SOLVER_CONVERGENCE_MSG)\n",
      "C:\\Users\\Ugo\\anaconda3\\lib\\site-packages\\sklearn\\linear_model\\_logistic.py:940: ConvergenceWarning: lbfgs failed to converge (status=1):\n",
      "STOP: TOTAL NO. of ITERATIONS REACHED LIMIT.\n",
      "\n",
      "Increase the number of iterations (max_iter) or scale the data as shown in:\n",
      "    https://scikit-learn.org/stable/modules/preprocessing.html\n",
      "Please also refer to the documentation for alternative solver options:\n",
      "    https://scikit-learn.org/stable/modules/linear_model.html#logistic-regression\n",
      "  extra_warning_msg=_LOGISTIC_SOLVER_CONVERGENCE_MSG)\n",
      "C:\\Users\\Ugo\\anaconda3\\lib\\site-packages\\sklearn\\linear_model\\_logistic.py:940: ConvergenceWarning: lbfgs failed to converge (status=1):\n",
      "STOP: TOTAL NO. of ITERATIONS REACHED LIMIT.\n",
      "\n",
      "Increase the number of iterations (max_iter) or scale the data as shown in:\n",
      "    https://scikit-learn.org/stable/modules/preprocessing.html\n",
      "Please also refer to the documentation for alternative solver options:\n",
      "    https://scikit-learn.org/stable/modules/linear_model.html#logistic-regression\n",
      "  extra_warning_msg=_LOGISTIC_SOLVER_CONVERGENCE_MSG)\n",
      "C:\\Users\\Ugo\\anaconda3\\lib\\site-packages\\sklearn\\linear_model\\_logistic.py:940: ConvergenceWarning: lbfgs failed to converge (status=1):\n",
      "STOP: TOTAL NO. of ITERATIONS REACHED LIMIT.\n",
      "\n",
      "Increase the number of iterations (max_iter) or scale the data as shown in:\n",
      "    https://scikit-learn.org/stable/modules/preprocessing.html\n",
      "Please also refer to the documentation for alternative solver options:\n",
      "    https://scikit-learn.org/stable/modules/linear_model.html#logistic-regression\n",
      "  extra_warning_msg=_LOGISTIC_SOLVER_CONVERGENCE_MSG)\n",
      "C:\\Users\\Ugo\\anaconda3\\lib\\site-packages\\sklearn\\linear_model\\_logistic.py:940: ConvergenceWarning: lbfgs failed to converge (status=1):\n",
      "STOP: TOTAL NO. of ITERATIONS REACHED LIMIT.\n",
      "\n",
      "Increase the number of iterations (max_iter) or scale the data as shown in:\n",
      "    https://scikit-learn.org/stable/modules/preprocessing.html\n",
      "Please also refer to the documentation for alternative solver options:\n",
      "    https://scikit-learn.org/stable/modules/linear_model.html#logistic-regression\n",
      "  extra_warning_msg=_LOGISTIC_SOLVER_CONVERGENCE_MSG)\n",
      "C:\\Users\\Ugo\\anaconda3\\lib\\site-packages\\sklearn\\linear_model\\_logistic.py:940: ConvergenceWarning: lbfgs failed to converge (status=1):\n",
      "STOP: TOTAL NO. of ITERATIONS REACHED LIMIT.\n",
      "\n",
      "Increase the number of iterations (max_iter) or scale the data as shown in:\n",
      "    https://scikit-learn.org/stable/modules/preprocessing.html\n",
      "Please also refer to the documentation for alternative solver options:\n",
      "    https://scikit-learn.org/stable/modules/linear_model.html#logistic-regression\n",
      "  extra_warning_msg=_LOGISTIC_SOLVER_CONVERGENCE_MSG)\n",
      "C:\\Users\\Ugo\\anaconda3\\lib\\site-packages\\sklearn\\linear_model\\_logistic.py:940: ConvergenceWarning: lbfgs failed to converge (status=1):\n",
      "STOP: TOTAL NO. of ITERATIONS REACHED LIMIT.\n",
      "\n",
      "Increase the number of iterations (max_iter) or scale the data as shown in:\n",
      "    https://scikit-learn.org/stable/modules/preprocessing.html\n",
      "Please also refer to the documentation for alternative solver options:\n",
      "    https://scikit-learn.org/stable/modules/linear_model.html#logistic-regression\n",
      "  extra_warning_msg=_LOGISTIC_SOLVER_CONVERGENCE_MSG)\n",
      "C:\\Users\\Ugo\\anaconda3\\lib\\site-packages\\sklearn\\linear_model\\_logistic.py:940: ConvergenceWarning: lbfgs failed to converge (status=1):\n",
      "STOP: TOTAL NO. of ITERATIONS REACHED LIMIT.\n",
      "\n",
      "Increase the number of iterations (max_iter) or scale the data as shown in:\n",
      "    https://scikit-learn.org/stable/modules/preprocessing.html\n",
      "Please also refer to the documentation for alternative solver options:\n",
      "    https://scikit-learn.org/stable/modules/linear_model.html#logistic-regression\n",
      "  extra_warning_msg=_LOGISTIC_SOLVER_CONVERGENCE_MSG)\n",
      "C:\\Users\\Ugo\\anaconda3\\lib\\site-packages\\sklearn\\linear_model\\_logistic.py:940: ConvergenceWarning: lbfgs failed to converge (status=1):\n",
      "STOP: TOTAL NO. of ITERATIONS REACHED LIMIT.\n",
      "\n",
      "Increase the number of iterations (max_iter) or scale the data as shown in:\n",
      "    https://scikit-learn.org/stable/modules/preprocessing.html\n",
      "Please also refer to the documentation for alternative solver options:\n",
      "    https://scikit-learn.org/stable/modules/linear_model.html#logistic-regression\n",
      "  extra_warning_msg=_LOGISTIC_SOLVER_CONVERGENCE_MSG)\n",
      "C:\\Users\\Ugo\\anaconda3\\lib\\site-packages\\sklearn\\linear_model\\_logistic.py:940: ConvergenceWarning: lbfgs failed to converge (status=1):\n",
      "STOP: TOTAL NO. of ITERATIONS REACHED LIMIT.\n",
      "\n",
      "Increase the number of iterations (max_iter) or scale the data as shown in:\n",
      "    https://scikit-learn.org/stable/modules/preprocessing.html\n",
      "Please also refer to the documentation for alternative solver options:\n",
      "    https://scikit-learn.org/stable/modules/linear_model.html#logistic-regression\n",
      "  extra_warning_msg=_LOGISTIC_SOLVER_CONVERGENCE_MSG)\n",
      "C:\\Users\\Ugo\\anaconda3\\lib\\site-packages\\sklearn\\linear_model\\_logistic.py:940: ConvergenceWarning: lbfgs failed to converge (status=1):\n",
      "STOP: TOTAL NO. of ITERATIONS REACHED LIMIT.\n",
      "\n",
      "Increase the number of iterations (max_iter) or scale the data as shown in:\n",
      "    https://scikit-learn.org/stable/modules/preprocessing.html\n",
      "Please also refer to the documentation for alternative solver options:\n",
      "    https://scikit-learn.org/stable/modules/linear_model.html#logistic-regression\n",
      "  extra_warning_msg=_LOGISTIC_SOLVER_CONVERGENCE_MSG)\n",
      "C:\\Users\\Ugo\\anaconda3\\lib\\site-packages\\sklearn\\linear_model\\_logistic.py:940: ConvergenceWarning: lbfgs failed to converge (status=1):\n",
      "STOP: TOTAL NO. of ITERATIONS REACHED LIMIT.\n",
      "\n",
      "Increase the number of iterations (max_iter) or scale the data as shown in:\n",
      "    https://scikit-learn.org/stable/modules/preprocessing.html\n",
      "Please also refer to the documentation for alternative solver options:\n",
      "    https://scikit-learn.org/stable/modules/linear_model.html#logistic-regression\n",
      "  extra_warning_msg=_LOGISTIC_SOLVER_CONVERGENCE_MSG)\n",
      "C:\\Users\\Ugo\\anaconda3\\lib\\site-packages\\sklearn\\linear_model\\_logistic.py:940: ConvergenceWarning: lbfgs failed to converge (status=1):\n",
      "STOP: TOTAL NO. of ITERATIONS REACHED LIMIT.\n",
      "\n",
      "Increase the number of iterations (max_iter) or scale the data as shown in:\n",
      "    https://scikit-learn.org/stable/modules/preprocessing.html\n",
      "Please also refer to the documentation for alternative solver options:\n",
      "    https://scikit-learn.org/stable/modules/linear_model.html#logistic-regression\n",
      "  extra_warning_msg=_LOGISTIC_SOLVER_CONVERGENCE_MSG)\n"
     ]
    },
    {
     "name": "stderr",
     "output_type": "stream",
     "text": [
      "C:\\Users\\Ugo\\anaconda3\\lib\\site-packages\\sklearn\\linear_model\\_logistic.py:940: ConvergenceWarning: lbfgs failed to converge (status=1):\n",
      "STOP: TOTAL NO. of ITERATIONS REACHED LIMIT.\n",
      "\n",
      "Increase the number of iterations (max_iter) or scale the data as shown in:\n",
      "    https://scikit-learn.org/stable/modules/preprocessing.html\n",
      "Please also refer to the documentation for alternative solver options:\n",
      "    https://scikit-learn.org/stable/modules/linear_model.html#logistic-regression\n",
      "  extra_warning_msg=_LOGISTIC_SOLVER_CONVERGENCE_MSG)\n",
      "C:\\Users\\Ugo\\anaconda3\\lib\\site-packages\\sklearn\\linear_model\\_logistic.py:940: ConvergenceWarning: lbfgs failed to converge (status=1):\n",
      "STOP: TOTAL NO. of ITERATIONS REACHED LIMIT.\n",
      "\n",
      "Increase the number of iterations (max_iter) or scale the data as shown in:\n",
      "    https://scikit-learn.org/stable/modules/preprocessing.html\n",
      "Please also refer to the documentation for alternative solver options:\n",
      "    https://scikit-learn.org/stable/modules/linear_model.html#logistic-regression\n",
      "  extra_warning_msg=_LOGISTIC_SOLVER_CONVERGENCE_MSG)\n",
      "C:\\Users\\Ugo\\anaconda3\\lib\\site-packages\\sklearn\\linear_model\\_logistic.py:940: ConvergenceWarning: lbfgs failed to converge (status=1):\n",
      "STOP: TOTAL NO. of ITERATIONS REACHED LIMIT.\n",
      "\n",
      "Increase the number of iterations (max_iter) or scale the data as shown in:\n",
      "    https://scikit-learn.org/stable/modules/preprocessing.html\n",
      "Please also refer to the documentation for alternative solver options:\n",
      "    https://scikit-learn.org/stable/modules/linear_model.html#logistic-regression\n",
      "  extra_warning_msg=_LOGISTIC_SOLVER_CONVERGENCE_MSG)\n",
      "C:\\Users\\Ugo\\anaconda3\\lib\\site-packages\\sklearn\\linear_model\\_logistic.py:940: ConvergenceWarning: lbfgs failed to converge (status=1):\n",
      "STOP: TOTAL NO. of ITERATIONS REACHED LIMIT.\n",
      "\n",
      "Increase the number of iterations (max_iter) or scale the data as shown in:\n",
      "    https://scikit-learn.org/stable/modules/preprocessing.html\n",
      "Please also refer to the documentation for alternative solver options:\n",
      "    https://scikit-learn.org/stable/modules/linear_model.html#logistic-regression\n",
      "  extra_warning_msg=_LOGISTIC_SOLVER_CONVERGENCE_MSG)\n",
      "C:\\Users\\Ugo\\anaconda3\\lib\\site-packages\\sklearn\\linear_model\\_logistic.py:940: ConvergenceWarning: lbfgs failed to converge (status=1):\n",
      "STOP: TOTAL NO. of ITERATIONS REACHED LIMIT.\n",
      "\n",
      "Increase the number of iterations (max_iter) or scale the data as shown in:\n",
      "    https://scikit-learn.org/stable/modules/preprocessing.html\n",
      "Please also refer to the documentation for alternative solver options:\n",
      "    https://scikit-learn.org/stable/modules/linear_model.html#logistic-regression\n",
      "  extra_warning_msg=_LOGISTIC_SOLVER_CONVERGENCE_MSG)\n",
      "C:\\Users\\Ugo\\anaconda3\\lib\\site-packages\\sklearn\\linear_model\\_logistic.py:940: ConvergenceWarning: lbfgs failed to converge (status=1):\n",
      "STOP: TOTAL NO. of ITERATIONS REACHED LIMIT.\n",
      "\n",
      "Increase the number of iterations (max_iter) or scale the data as shown in:\n",
      "    https://scikit-learn.org/stable/modules/preprocessing.html\n",
      "Please also refer to the documentation for alternative solver options:\n",
      "    https://scikit-learn.org/stable/modules/linear_model.html#logistic-regression\n",
      "  extra_warning_msg=_LOGISTIC_SOLVER_CONVERGENCE_MSG)\n",
      "C:\\Users\\Ugo\\anaconda3\\lib\\site-packages\\sklearn\\linear_model\\_logistic.py:940: ConvergenceWarning: lbfgs failed to converge (status=1):\n",
      "STOP: TOTAL NO. of ITERATIONS REACHED LIMIT.\n",
      "\n",
      "Increase the number of iterations (max_iter) or scale the data as shown in:\n",
      "    https://scikit-learn.org/stable/modules/preprocessing.html\n",
      "Please also refer to the documentation for alternative solver options:\n",
      "    https://scikit-learn.org/stable/modules/linear_model.html#logistic-regression\n",
      "  extra_warning_msg=_LOGISTIC_SOLVER_CONVERGENCE_MSG)\n",
      "C:\\Users\\Ugo\\anaconda3\\lib\\site-packages\\sklearn\\linear_model\\_logistic.py:940: ConvergenceWarning: lbfgs failed to converge (status=1):\n",
      "STOP: TOTAL NO. of ITERATIONS REACHED LIMIT.\n",
      "\n",
      "Increase the number of iterations (max_iter) or scale the data as shown in:\n",
      "    https://scikit-learn.org/stable/modules/preprocessing.html\n",
      "Please also refer to the documentation for alternative solver options:\n",
      "    https://scikit-learn.org/stable/modules/linear_model.html#logistic-regression\n",
      "  extra_warning_msg=_LOGISTIC_SOLVER_CONVERGENCE_MSG)\n",
      "C:\\Users\\Ugo\\anaconda3\\lib\\site-packages\\sklearn\\linear_model\\_logistic.py:940: ConvergenceWarning: lbfgs failed to converge (status=1):\n",
      "STOP: TOTAL NO. of ITERATIONS REACHED LIMIT.\n",
      "\n",
      "Increase the number of iterations (max_iter) or scale the data as shown in:\n",
      "    https://scikit-learn.org/stable/modules/preprocessing.html\n",
      "Please also refer to the documentation for alternative solver options:\n",
      "    https://scikit-learn.org/stable/modules/linear_model.html#logistic-regression\n",
      "  extra_warning_msg=_LOGISTIC_SOLVER_CONVERGENCE_MSG)\n",
      "C:\\Users\\Ugo\\anaconda3\\lib\\site-packages\\sklearn\\linear_model\\_logistic.py:940: ConvergenceWarning: lbfgs failed to converge (status=1):\n",
      "STOP: TOTAL NO. of ITERATIONS REACHED LIMIT.\n",
      "\n",
      "Increase the number of iterations (max_iter) or scale the data as shown in:\n",
      "    https://scikit-learn.org/stable/modules/preprocessing.html\n",
      "Please also refer to the documentation for alternative solver options:\n",
      "    https://scikit-learn.org/stable/modules/linear_model.html#logistic-regression\n",
      "  extra_warning_msg=_LOGISTIC_SOLVER_CONVERGENCE_MSG)\n",
      "C:\\Users\\Ugo\\anaconda3\\lib\\site-packages\\sklearn\\linear_model\\_logistic.py:940: ConvergenceWarning: lbfgs failed to converge (status=1):\n",
      "STOP: TOTAL NO. of ITERATIONS REACHED LIMIT.\n",
      "\n",
      "Increase the number of iterations (max_iter) or scale the data as shown in:\n",
      "    https://scikit-learn.org/stable/modules/preprocessing.html\n",
      "Please also refer to the documentation for alternative solver options:\n",
      "    https://scikit-learn.org/stable/modules/linear_model.html#logistic-regression\n",
      "  extra_warning_msg=_LOGISTIC_SOLVER_CONVERGENCE_MSG)\n",
      "C:\\Users\\Ugo\\anaconda3\\lib\\site-packages\\sklearn\\linear_model\\_logistic.py:940: ConvergenceWarning: lbfgs failed to converge (status=1):\n",
      "STOP: TOTAL NO. of ITERATIONS REACHED LIMIT.\n",
      "\n",
      "Increase the number of iterations (max_iter) or scale the data as shown in:\n",
      "    https://scikit-learn.org/stable/modules/preprocessing.html\n",
      "Please also refer to the documentation for alternative solver options:\n",
      "    https://scikit-learn.org/stable/modules/linear_model.html#logistic-regression\n",
      "  extra_warning_msg=_LOGISTIC_SOLVER_CONVERGENCE_MSG)\n",
      "C:\\Users\\Ugo\\anaconda3\\lib\\site-packages\\sklearn\\linear_model\\_logistic.py:940: ConvergenceWarning: lbfgs failed to converge (status=1):\n",
      "STOP: TOTAL NO. of ITERATIONS REACHED LIMIT.\n",
      "\n",
      "Increase the number of iterations (max_iter) or scale the data as shown in:\n",
      "    https://scikit-learn.org/stable/modules/preprocessing.html\n",
      "Please also refer to the documentation for alternative solver options:\n",
      "    https://scikit-learn.org/stable/modules/linear_model.html#logistic-regression\n",
      "  extra_warning_msg=_LOGISTIC_SOLVER_CONVERGENCE_MSG)\n",
      "C:\\Users\\Ugo\\anaconda3\\lib\\site-packages\\sklearn\\linear_model\\_logistic.py:940: ConvergenceWarning: lbfgs failed to converge (status=1):\n",
      "STOP: TOTAL NO. of ITERATIONS REACHED LIMIT.\n",
      "\n",
      "Increase the number of iterations (max_iter) or scale the data as shown in:\n",
      "    https://scikit-learn.org/stable/modules/preprocessing.html\n",
      "Please also refer to the documentation for alternative solver options:\n",
      "    https://scikit-learn.org/stable/modules/linear_model.html#logistic-regression\n",
      "  extra_warning_msg=_LOGISTIC_SOLVER_CONVERGENCE_MSG)\n",
      "C:\\Users\\Ugo\\anaconda3\\lib\\site-packages\\sklearn\\linear_model\\_logistic.py:940: ConvergenceWarning: lbfgs failed to converge (status=1):\n",
      "STOP: TOTAL NO. of ITERATIONS REACHED LIMIT.\n",
      "\n",
      "Increase the number of iterations (max_iter) or scale the data as shown in:\n",
      "    https://scikit-learn.org/stable/modules/preprocessing.html\n",
      "Please also refer to the documentation for alternative solver options:\n",
      "    https://scikit-learn.org/stable/modules/linear_model.html#logistic-regression\n",
      "  extra_warning_msg=_LOGISTIC_SOLVER_CONVERGENCE_MSG)\n",
      "C:\\Users\\Ugo\\anaconda3\\lib\\site-packages\\sklearn\\linear_model\\_logistic.py:940: ConvergenceWarning: lbfgs failed to converge (status=1):\n",
      "STOP: TOTAL NO. of ITERATIONS REACHED LIMIT.\n",
      "\n",
      "Increase the number of iterations (max_iter) or scale the data as shown in:\n",
      "    https://scikit-learn.org/stable/modules/preprocessing.html\n",
      "Please also refer to the documentation for alternative solver options:\n",
      "    https://scikit-learn.org/stable/modules/linear_model.html#logistic-regression\n",
      "  extra_warning_msg=_LOGISTIC_SOLVER_CONVERGENCE_MSG)\n"
     ]
    },
    {
     "name": "stderr",
     "output_type": "stream",
     "text": [
      "C:\\Users\\Ugo\\anaconda3\\lib\\site-packages\\sklearn\\linear_model\\_logistic.py:940: ConvergenceWarning: lbfgs failed to converge (status=1):\n",
      "STOP: TOTAL NO. of ITERATIONS REACHED LIMIT.\n",
      "\n",
      "Increase the number of iterations (max_iter) or scale the data as shown in:\n",
      "    https://scikit-learn.org/stable/modules/preprocessing.html\n",
      "Please also refer to the documentation for alternative solver options:\n",
      "    https://scikit-learn.org/stable/modules/linear_model.html#logistic-regression\n",
      "  extra_warning_msg=_LOGISTIC_SOLVER_CONVERGENCE_MSG)\n",
      "C:\\Users\\Ugo\\anaconda3\\lib\\site-packages\\sklearn\\linear_model\\_logistic.py:940: ConvergenceWarning: lbfgs failed to converge (status=1):\n",
      "STOP: TOTAL NO. of ITERATIONS REACHED LIMIT.\n",
      "\n",
      "Increase the number of iterations (max_iter) or scale the data as shown in:\n",
      "    https://scikit-learn.org/stable/modules/preprocessing.html\n",
      "Please also refer to the documentation for alternative solver options:\n",
      "    https://scikit-learn.org/stable/modules/linear_model.html#logistic-regression\n",
      "  extra_warning_msg=_LOGISTIC_SOLVER_CONVERGENCE_MSG)\n",
      "C:\\Users\\Ugo\\anaconda3\\lib\\site-packages\\sklearn\\linear_model\\_logistic.py:940: ConvergenceWarning: lbfgs failed to converge (status=1):\n",
      "STOP: TOTAL NO. of ITERATIONS REACHED LIMIT.\n",
      "\n",
      "Increase the number of iterations (max_iter) or scale the data as shown in:\n",
      "    https://scikit-learn.org/stable/modules/preprocessing.html\n",
      "Please also refer to the documentation for alternative solver options:\n",
      "    https://scikit-learn.org/stable/modules/linear_model.html#logistic-regression\n",
      "  extra_warning_msg=_LOGISTIC_SOLVER_CONVERGENCE_MSG)\n",
      "C:\\Users\\Ugo\\anaconda3\\lib\\site-packages\\sklearn\\linear_model\\_logistic.py:940: ConvergenceWarning: lbfgs failed to converge (status=1):\n",
      "STOP: TOTAL NO. of ITERATIONS REACHED LIMIT.\n",
      "\n",
      "Increase the number of iterations (max_iter) or scale the data as shown in:\n",
      "    https://scikit-learn.org/stable/modules/preprocessing.html\n",
      "Please also refer to the documentation for alternative solver options:\n",
      "    https://scikit-learn.org/stable/modules/linear_model.html#logistic-regression\n",
      "  extra_warning_msg=_LOGISTIC_SOLVER_CONVERGENCE_MSG)\n",
      "C:\\Users\\Ugo\\anaconda3\\lib\\site-packages\\sklearn\\linear_model\\_logistic.py:940: ConvergenceWarning: lbfgs failed to converge (status=1):\n",
      "STOP: TOTAL NO. of ITERATIONS REACHED LIMIT.\n",
      "\n",
      "Increase the number of iterations (max_iter) or scale the data as shown in:\n",
      "    https://scikit-learn.org/stable/modules/preprocessing.html\n",
      "Please also refer to the documentation for alternative solver options:\n",
      "    https://scikit-learn.org/stable/modules/linear_model.html#logistic-regression\n",
      "  extra_warning_msg=_LOGISTIC_SOLVER_CONVERGENCE_MSG)\n",
      "C:\\Users\\Ugo\\anaconda3\\lib\\site-packages\\sklearn\\linear_model\\_logistic.py:940: ConvergenceWarning: lbfgs failed to converge (status=1):\n",
      "STOP: TOTAL NO. of ITERATIONS REACHED LIMIT.\n",
      "\n",
      "Increase the number of iterations (max_iter) or scale the data as shown in:\n",
      "    https://scikit-learn.org/stable/modules/preprocessing.html\n",
      "Please also refer to the documentation for alternative solver options:\n",
      "    https://scikit-learn.org/stable/modules/linear_model.html#logistic-regression\n",
      "  extra_warning_msg=_LOGISTIC_SOLVER_CONVERGENCE_MSG)\n",
      "C:\\Users\\Ugo\\anaconda3\\lib\\site-packages\\sklearn\\linear_model\\_logistic.py:940: ConvergenceWarning: lbfgs failed to converge (status=1):\n",
      "STOP: TOTAL NO. of ITERATIONS REACHED LIMIT.\n",
      "\n",
      "Increase the number of iterations (max_iter) or scale the data as shown in:\n",
      "    https://scikit-learn.org/stable/modules/preprocessing.html\n",
      "Please also refer to the documentation for alternative solver options:\n",
      "    https://scikit-learn.org/stable/modules/linear_model.html#logistic-regression\n",
      "  extra_warning_msg=_LOGISTIC_SOLVER_CONVERGENCE_MSG)\n",
      "C:\\Users\\Ugo\\anaconda3\\lib\\site-packages\\sklearn\\linear_model\\_logistic.py:940: ConvergenceWarning: lbfgs failed to converge (status=1):\n",
      "STOP: TOTAL NO. of ITERATIONS REACHED LIMIT.\n",
      "\n",
      "Increase the number of iterations (max_iter) or scale the data as shown in:\n",
      "    https://scikit-learn.org/stable/modules/preprocessing.html\n",
      "Please also refer to the documentation for alternative solver options:\n",
      "    https://scikit-learn.org/stable/modules/linear_model.html#logistic-regression\n",
      "  extra_warning_msg=_LOGISTIC_SOLVER_CONVERGENCE_MSG)\n",
      "C:\\Users\\Ugo\\anaconda3\\lib\\site-packages\\sklearn\\linear_model\\_logistic.py:940: ConvergenceWarning: lbfgs failed to converge (status=1):\n",
      "STOP: TOTAL NO. of ITERATIONS REACHED LIMIT.\n",
      "\n",
      "Increase the number of iterations (max_iter) or scale the data as shown in:\n",
      "    https://scikit-learn.org/stable/modules/preprocessing.html\n",
      "Please also refer to the documentation for alternative solver options:\n",
      "    https://scikit-learn.org/stable/modules/linear_model.html#logistic-regression\n",
      "  extra_warning_msg=_LOGISTIC_SOLVER_CONVERGENCE_MSG)\n",
      "C:\\Users\\Ugo\\anaconda3\\lib\\site-packages\\sklearn\\linear_model\\_logistic.py:940: ConvergenceWarning: lbfgs failed to converge (status=1):\n",
      "STOP: TOTAL NO. of ITERATIONS REACHED LIMIT.\n",
      "\n",
      "Increase the number of iterations (max_iter) or scale the data as shown in:\n",
      "    https://scikit-learn.org/stable/modules/preprocessing.html\n",
      "Please also refer to the documentation for alternative solver options:\n",
      "    https://scikit-learn.org/stable/modules/linear_model.html#logistic-regression\n",
      "  extra_warning_msg=_LOGISTIC_SOLVER_CONVERGENCE_MSG)\n",
      "C:\\Users\\Ugo\\anaconda3\\lib\\site-packages\\sklearn\\linear_model\\_logistic.py:940: ConvergenceWarning: lbfgs failed to converge (status=1):\n",
      "STOP: TOTAL NO. of ITERATIONS REACHED LIMIT.\n",
      "\n",
      "Increase the number of iterations (max_iter) or scale the data as shown in:\n",
      "    https://scikit-learn.org/stable/modules/preprocessing.html\n",
      "Please also refer to the documentation for alternative solver options:\n",
      "    https://scikit-learn.org/stable/modules/linear_model.html#logistic-regression\n",
      "  extra_warning_msg=_LOGISTIC_SOLVER_CONVERGENCE_MSG)\n",
      "C:\\Users\\Ugo\\anaconda3\\lib\\site-packages\\sklearn\\linear_model\\_logistic.py:940: ConvergenceWarning: lbfgs failed to converge (status=1):\n",
      "STOP: TOTAL NO. of ITERATIONS REACHED LIMIT.\n",
      "\n",
      "Increase the number of iterations (max_iter) or scale the data as shown in:\n",
      "    https://scikit-learn.org/stable/modules/preprocessing.html\n",
      "Please also refer to the documentation for alternative solver options:\n",
      "    https://scikit-learn.org/stable/modules/linear_model.html#logistic-regression\n",
      "  extra_warning_msg=_LOGISTIC_SOLVER_CONVERGENCE_MSG)\n",
      "C:\\Users\\Ugo\\anaconda3\\lib\\site-packages\\sklearn\\linear_model\\_logistic.py:940: ConvergenceWarning: lbfgs failed to converge (status=1):\n",
      "STOP: TOTAL NO. of ITERATIONS REACHED LIMIT.\n",
      "\n",
      "Increase the number of iterations (max_iter) or scale the data as shown in:\n",
      "    https://scikit-learn.org/stable/modules/preprocessing.html\n",
      "Please also refer to the documentation for alternative solver options:\n",
      "    https://scikit-learn.org/stable/modules/linear_model.html#logistic-regression\n",
      "  extra_warning_msg=_LOGISTIC_SOLVER_CONVERGENCE_MSG)\n",
      "C:\\Users\\Ugo\\anaconda3\\lib\\site-packages\\sklearn\\linear_model\\_logistic.py:940: ConvergenceWarning: lbfgs failed to converge (status=1):\n",
      "STOP: TOTAL NO. of ITERATIONS REACHED LIMIT.\n",
      "\n",
      "Increase the number of iterations (max_iter) or scale the data as shown in:\n",
      "    https://scikit-learn.org/stable/modules/preprocessing.html\n",
      "Please also refer to the documentation for alternative solver options:\n",
      "    https://scikit-learn.org/stable/modules/linear_model.html#logistic-regression\n",
      "  extra_warning_msg=_LOGISTIC_SOLVER_CONVERGENCE_MSG)\n",
      "C:\\Users\\Ugo\\anaconda3\\lib\\site-packages\\sklearn\\linear_model\\_logistic.py:940: ConvergenceWarning: lbfgs failed to converge (status=1):\n",
      "STOP: TOTAL NO. of ITERATIONS REACHED LIMIT.\n",
      "\n",
      "Increase the number of iterations (max_iter) or scale the data as shown in:\n",
      "    https://scikit-learn.org/stable/modules/preprocessing.html\n",
      "Please also refer to the documentation for alternative solver options:\n",
      "    https://scikit-learn.org/stable/modules/linear_model.html#logistic-regression\n",
      "  extra_warning_msg=_LOGISTIC_SOLVER_CONVERGENCE_MSG)\n",
      "C:\\Users\\Ugo\\anaconda3\\lib\\site-packages\\sklearn\\linear_model\\_logistic.py:940: ConvergenceWarning: lbfgs failed to converge (status=1):\n",
      "STOP: TOTAL NO. of ITERATIONS REACHED LIMIT.\n",
      "\n",
      "Increase the number of iterations (max_iter) or scale the data as shown in:\n",
      "    https://scikit-learn.org/stable/modules/preprocessing.html\n",
      "Please also refer to the documentation for alternative solver options:\n",
      "    https://scikit-learn.org/stable/modules/linear_model.html#logistic-regression\n",
      "  extra_warning_msg=_LOGISTIC_SOLVER_CONVERGENCE_MSG)\n"
     ]
    },
    {
     "name": "stderr",
     "output_type": "stream",
     "text": [
      "C:\\Users\\Ugo\\anaconda3\\lib\\site-packages\\sklearn\\linear_model\\_logistic.py:940: ConvergenceWarning: lbfgs failed to converge (status=1):\n",
      "STOP: TOTAL NO. of ITERATIONS REACHED LIMIT.\n",
      "\n",
      "Increase the number of iterations (max_iter) or scale the data as shown in:\n",
      "    https://scikit-learn.org/stable/modules/preprocessing.html\n",
      "Please also refer to the documentation for alternative solver options:\n",
      "    https://scikit-learn.org/stable/modules/linear_model.html#logistic-regression\n",
      "  extra_warning_msg=_LOGISTIC_SOLVER_CONVERGENCE_MSG)\n",
      "C:\\Users\\Ugo\\anaconda3\\lib\\site-packages\\sklearn\\linear_model\\_logistic.py:940: ConvergenceWarning: lbfgs failed to converge (status=1):\n",
      "STOP: TOTAL NO. of ITERATIONS REACHED LIMIT.\n",
      "\n",
      "Increase the number of iterations (max_iter) or scale the data as shown in:\n",
      "    https://scikit-learn.org/stable/modules/preprocessing.html\n",
      "Please also refer to the documentation for alternative solver options:\n",
      "    https://scikit-learn.org/stable/modules/linear_model.html#logistic-regression\n",
      "  extra_warning_msg=_LOGISTIC_SOLVER_CONVERGENCE_MSG)\n",
      "C:\\Users\\Ugo\\anaconda3\\lib\\site-packages\\sklearn\\linear_model\\_logistic.py:940: ConvergenceWarning: lbfgs failed to converge (status=1):\n",
      "STOP: TOTAL NO. of ITERATIONS REACHED LIMIT.\n",
      "\n",
      "Increase the number of iterations (max_iter) or scale the data as shown in:\n",
      "    https://scikit-learn.org/stable/modules/preprocessing.html\n",
      "Please also refer to the documentation for alternative solver options:\n",
      "    https://scikit-learn.org/stable/modules/linear_model.html#logistic-regression\n",
      "  extra_warning_msg=_LOGISTIC_SOLVER_CONVERGENCE_MSG)\n",
      "C:\\Users\\Ugo\\anaconda3\\lib\\site-packages\\sklearn\\linear_model\\_logistic.py:940: ConvergenceWarning: lbfgs failed to converge (status=1):\n",
      "STOP: TOTAL NO. of ITERATIONS REACHED LIMIT.\n",
      "\n",
      "Increase the number of iterations (max_iter) or scale the data as shown in:\n",
      "    https://scikit-learn.org/stable/modules/preprocessing.html\n",
      "Please also refer to the documentation for alternative solver options:\n",
      "    https://scikit-learn.org/stable/modules/linear_model.html#logistic-regression\n",
      "  extra_warning_msg=_LOGISTIC_SOLVER_CONVERGENCE_MSG)\n",
      "C:\\Users\\Ugo\\anaconda3\\lib\\site-packages\\sklearn\\linear_model\\_logistic.py:940: ConvergenceWarning: lbfgs failed to converge (status=1):\n",
      "STOP: TOTAL NO. of ITERATIONS REACHED LIMIT.\n",
      "\n",
      "Increase the number of iterations (max_iter) or scale the data as shown in:\n",
      "    https://scikit-learn.org/stable/modules/preprocessing.html\n",
      "Please also refer to the documentation for alternative solver options:\n",
      "    https://scikit-learn.org/stable/modules/linear_model.html#logistic-regression\n",
      "  extra_warning_msg=_LOGISTIC_SOLVER_CONVERGENCE_MSG)\n",
      "C:\\Users\\Ugo\\anaconda3\\lib\\site-packages\\sklearn\\linear_model\\_logistic.py:940: ConvergenceWarning: lbfgs failed to converge (status=1):\n",
      "STOP: TOTAL NO. of ITERATIONS REACHED LIMIT.\n",
      "\n",
      "Increase the number of iterations (max_iter) or scale the data as shown in:\n",
      "    https://scikit-learn.org/stable/modules/preprocessing.html\n",
      "Please also refer to the documentation for alternative solver options:\n",
      "    https://scikit-learn.org/stable/modules/linear_model.html#logistic-regression\n",
      "  extra_warning_msg=_LOGISTIC_SOLVER_CONVERGENCE_MSG)\n",
      "C:\\Users\\Ugo\\anaconda3\\lib\\site-packages\\sklearn\\linear_model\\_logistic.py:940: ConvergenceWarning: lbfgs failed to converge (status=1):\n",
      "STOP: TOTAL NO. of ITERATIONS REACHED LIMIT.\n",
      "\n",
      "Increase the number of iterations (max_iter) or scale the data as shown in:\n",
      "    https://scikit-learn.org/stable/modules/preprocessing.html\n",
      "Please also refer to the documentation for alternative solver options:\n",
      "    https://scikit-learn.org/stable/modules/linear_model.html#logistic-regression\n",
      "  extra_warning_msg=_LOGISTIC_SOLVER_CONVERGENCE_MSG)\n",
      "C:\\Users\\Ugo\\anaconda3\\lib\\site-packages\\sklearn\\linear_model\\_logistic.py:940: ConvergenceWarning: lbfgs failed to converge (status=1):\n",
      "STOP: TOTAL NO. of ITERATIONS REACHED LIMIT.\n",
      "\n",
      "Increase the number of iterations (max_iter) or scale the data as shown in:\n",
      "    https://scikit-learn.org/stable/modules/preprocessing.html\n",
      "Please also refer to the documentation for alternative solver options:\n",
      "    https://scikit-learn.org/stable/modules/linear_model.html#logistic-regression\n",
      "  extra_warning_msg=_LOGISTIC_SOLVER_CONVERGENCE_MSG)\n",
      "C:\\Users\\Ugo\\anaconda3\\lib\\site-packages\\sklearn\\linear_model\\_logistic.py:940: ConvergenceWarning: lbfgs failed to converge (status=1):\n",
      "STOP: TOTAL NO. of ITERATIONS REACHED LIMIT.\n",
      "\n",
      "Increase the number of iterations (max_iter) or scale the data as shown in:\n",
      "    https://scikit-learn.org/stable/modules/preprocessing.html\n",
      "Please also refer to the documentation for alternative solver options:\n",
      "    https://scikit-learn.org/stable/modules/linear_model.html#logistic-regression\n",
      "  extra_warning_msg=_LOGISTIC_SOLVER_CONVERGENCE_MSG)\n",
      "C:\\Users\\Ugo\\anaconda3\\lib\\site-packages\\sklearn\\linear_model\\_logistic.py:940: ConvergenceWarning: lbfgs failed to converge (status=1):\n",
      "STOP: TOTAL NO. of ITERATIONS REACHED LIMIT.\n",
      "\n",
      "Increase the number of iterations (max_iter) or scale the data as shown in:\n",
      "    https://scikit-learn.org/stable/modules/preprocessing.html\n",
      "Please also refer to the documentation for alternative solver options:\n",
      "    https://scikit-learn.org/stable/modules/linear_model.html#logistic-regression\n",
      "  extra_warning_msg=_LOGISTIC_SOLVER_CONVERGENCE_MSG)\n",
      "C:\\Users\\Ugo\\anaconda3\\lib\\site-packages\\sklearn\\linear_model\\_logistic.py:940: ConvergenceWarning: lbfgs failed to converge (status=1):\n",
      "STOP: TOTAL NO. of ITERATIONS REACHED LIMIT.\n",
      "\n",
      "Increase the number of iterations (max_iter) or scale the data as shown in:\n",
      "    https://scikit-learn.org/stable/modules/preprocessing.html\n",
      "Please also refer to the documentation for alternative solver options:\n",
      "    https://scikit-learn.org/stable/modules/linear_model.html#logistic-regression\n",
      "  extra_warning_msg=_LOGISTIC_SOLVER_CONVERGENCE_MSG)\n",
      "C:\\Users\\Ugo\\anaconda3\\lib\\site-packages\\sklearn\\linear_model\\_logistic.py:940: ConvergenceWarning: lbfgs failed to converge (status=1):\n",
      "STOP: TOTAL NO. of ITERATIONS REACHED LIMIT.\n",
      "\n",
      "Increase the number of iterations (max_iter) or scale the data as shown in:\n",
      "    https://scikit-learn.org/stable/modules/preprocessing.html\n",
      "Please also refer to the documentation for alternative solver options:\n",
      "    https://scikit-learn.org/stable/modules/linear_model.html#logistic-regression\n",
      "  extra_warning_msg=_LOGISTIC_SOLVER_CONVERGENCE_MSG)\n"
     ]
    }
   ],
   "source": [
    "# execution longue\n",
    "\n",
    "# seulement avec les descriptions\n",
    "train_score1, test_score1, iteration1 = error_train_test_set(X_train1, y_train1, X_test1, y_test1)\n",
    "\n",
    "# seulement avec les titres\n",
    "train_score2, test_score2, iteration2 = error_train_test_set(X_train2, y_train2, X_test2, y_test2)\n",
    "\n",
    "# avec les deux\n",
    "train_score3, test_score3, iteration3 = error_train_test_set(X_train3, y_train3, X_test3, y_test3)"
   ]
  },
  {
   "cell_type": "code",
   "execution_count": 130,
   "metadata": {
    "scrolled": false
   },
   "outputs": [
    {
     "data": {
      "image/png": "[encoded data removed]",
      "text/plain": [
       "<Figure size 432x288 with 1 Axes>"
      ]
     },
     "metadata": {},
     "output_type": "display_data"
    },
    {
     "data": {
      "image/png": "[encoded data removed]",
      "text/plain": [
       "<Figure size 432x288 with 1 Axes>"
      ]
     },
     "metadata": {},
     "output_type": "display_data"
    },
    {
     "data": {
      "image/png": "[encoded data removed]",
      "text/plain": [
       "<Figure size 432x288 with 1 Axes>"
      ]
     },
     "metadata": {},
     "output_type": "display_data"
    }
   ],
   "source": [
    "# affichage de l'erreur d'entraînement et de l'erreur de test\n",
    "plot_train_test(train_score1, test_score1, iteration1, 'X_description 20000 données')\n",
    "plot_train_test(train_score2, test_score2, iteration2, 'X_title 20000 données')\n",
    "plot_train_test(train_score3, test_score3, iteration3, 'X_title_description 20000 données')"
   ]
  },
  {
   "cell_type": "code",
   "execution_count": 132,
   "metadata": {
    "scrolled": true
   },
   "outputs": [
    {
     "name": "stderr",
     "output_type": "stream",
     "text": [
      "C:\\Users\\Ugo\\anaconda3\\lib\\site-packages\\sklearn\\linear_model\\_logistic.py:940: ConvergenceWarning: lbfgs failed to converge (status=1):\n",
      "STOP: TOTAL NO. of ITERATIONS REACHED LIMIT.\n",
      "\n",
      "Increase the number of iterations (max_iter) or scale the data as shown in:\n",
      "    https://scikit-learn.org/stable/modules/preprocessing.html\n",
      "Please also refer to the documentation for alternative solver options:\n",
      "    https://scikit-learn.org/stable/modules/linear_model.html#logistic-regression\n",
      "  extra_warning_msg=_LOGISTIC_SOLVER_CONVERGENCE_MSG)\n",
      "C:\\Users\\Ugo\\anaconda3\\lib\\site-packages\\sklearn\\linear_model\\_logistic.py:940: ConvergenceWarning: lbfgs failed to converge (status=1):\n",
      "STOP: TOTAL NO. of ITERATIONS REACHED LIMIT.\n",
      "\n",
      "Increase the number of iterations (max_iter) or scale the data as shown in:\n",
      "    https://scikit-learn.org/stable/modules/preprocessing.html\n",
      "Please also refer to the documentation for alternative solver options:\n",
      "    https://scikit-learn.org/stable/modules/linear_model.html#logistic-regression\n",
      "  extra_warning_msg=_LOGISTIC_SOLVER_CONVERGENCE_MSG)\n",
      "C:\\Users\\Ugo\\anaconda3\\lib\\site-packages\\sklearn\\linear_model\\_logistic.py:940: ConvergenceWarning: lbfgs failed to converge (status=1):\n",
      "STOP: TOTAL NO. of ITERATIONS REACHED LIMIT.\n",
      "\n",
      "Increase the number of iterations (max_iter) or scale the data as shown in:\n",
      "    https://scikit-learn.org/stable/modules/preprocessing.html\n",
      "Please also refer to the documentation for alternative solver options:\n",
      "    https://scikit-learn.org/stable/modules/linear_model.html#logistic-regression\n",
      "  extra_warning_msg=_LOGISTIC_SOLVER_CONVERGENCE_MSG)\n",
      "C:\\Users\\Ugo\\anaconda3\\lib\\site-packages\\sklearn\\linear_model\\_logistic.py:940: ConvergenceWarning: lbfgs failed to converge (status=1):\n",
      "STOP: TOTAL NO. of ITERATIONS REACHED LIMIT.\n",
      "\n",
      "Increase the number of iterations (max_iter) or scale the data as shown in:\n",
      "    https://scikit-learn.org/stable/modules/preprocessing.html\n",
      "Please also refer to the documentation for alternative solver options:\n",
      "    https://scikit-learn.org/stable/modules/linear_model.html#logistic-regression\n",
      "  extra_warning_msg=_LOGISTIC_SOLVER_CONVERGENCE_MSG)\n",
      "C:\\Users\\Ugo\\anaconda3\\lib\\site-packages\\sklearn\\linear_model\\_logistic.py:940: ConvergenceWarning: lbfgs failed to converge (status=1):\n",
      "STOP: TOTAL NO. of ITERATIONS REACHED LIMIT.\n",
      "\n",
      "Increase the number of iterations (max_iter) or scale the data as shown in:\n",
      "    https://scikit-learn.org/stable/modules/preprocessing.html\n",
      "Please also refer to the documentation for alternative solver options:\n",
      "    https://scikit-learn.org/stable/modules/linear_model.html#logistic-regression\n",
      "  extra_warning_msg=_LOGISTIC_SOLVER_CONVERGENCE_MSG)\n",
      "C:\\Users\\Ugo\\anaconda3\\lib\\site-packages\\sklearn\\linear_model\\_logistic.py:940: ConvergenceWarning: lbfgs failed to converge (status=1):\n",
      "STOP: TOTAL NO. of ITERATIONS REACHED LIMIT.\n",
      "\n",
      "Increase the number of iterations (max_iter) or scale the data as shown in:\n",
      "    https://scikit-learn.org/stable/modules/preprocessing.html\n",
      "Please also refer to the documentation for alternative solver options:\n",
      "    https://scikit-learn.org/stable/modules/linear_model.html#logistic-regression\n",
      "  extra_warning_msg=_LOGISTIC_SOLVER_CONVERGENCE_MSG)\n",
      "C:\\Users\\Ugo\\anaconda3\\lib\\site-packages\\sklearn\\linear_model\\_logistic.py:940: ConvergenceWarning: lbfgs failed to converge (status=1):\n",
      "STOP: TOTAL NO. of ITERATIONS REACHED LIMIT.\n",
      "\n",
      "Increase the number of iterations (max_iter) or scale the data as shown in:\n",
      "    https://scikit-learn.org/stable/modules/preprocessing.html\n",
      "Please also refer to the documentation for alternative solver options:\n",
      "    https://scikit-learn.org/stable/modules/linear_model.html#logistic-regression\n",
      "  extra_warning_msg=_LOGISTIC_SOLVER_CONVERGENCE_MSG)\n",
      "C:\\Users\\Ugo\\anaconda3\\lib\\site-packages\\sklearn\\linear_model\\_logistic.py:940: ConvergenceWarning: lbfgs failed to converge (status=1):\n",
      "STOP: TOTAL NO. of ITERATIONS REACHED LIMIT.\n",
      "\n",
      "Increase the number of iterations (max_iter) or scale the data as shown in:\n",
      "    https://scikit-learn.org/stable/modules/preprocessing.html\n",
      "Please also refer to the documentation for alternative solver options:\n",
      "    https://scikit-learn.org/stable/modules/linear_model.html#logistic-regression\n",
      "  extra_warning_msg=_LOGISTIC_SOLVER_CONVERGENCE_MSG)\n",
      "C:\\Users\\Ugo\\anaconda3\\lib\\site-packages\\sklearn\\linear_model\\_logistic.py:940: ConvergenceWarning: lbfgs failed to converge (status=1):\n",
      "STOP: TOTAL NO. of ITERATIONS REACHED LIMIT.\n",
      "\n",
      "Increase the number of iterations (max_iter) or scale the data as shown in:\n",
      "    https://scikit-learn.org/stable/modules/preprocessing.html\n",
      "Please also refer to the documentation for alternative solver options:\n",
      "    https://scikit-learn.org/stable/modules/linear_model.html#logistic-regression\n",
      "  extra_warning_msg=_LOGISTIC_SOLVER_CONVERGENCE_MSG)\n",
      "C:\\Users\\Ugo\\anaconda3\\lib\\site-packages\\sklearn\\linear_model\\_logistic.py:940: ConvergenceWarning: lbfgs failed to converge (status=1):\n",
      "STOP: TOTAL NO. of ITERATIONS REACHED LIMIT.\n",
      "\n",
      "Increase the number of iterations (max_iter) or scale the data as shown in:\n",
      "    https://scikit-learn.org/stable/modules/preprocessing.html\n",
      "Please also refer to the documentation for alternative solver options:\n",
      "    https://scikit-learn.org/stable/modules/linear_model.html#logistic-regression\n",
      "  extra_warning_msg=_LOGISTIC_SOLVER_CONVERGENCE_MSG)\n",
      "C:\\Users\\Ugo\\anaconda3\\lib\\site-packages\\sklearn\\linear_model\\_logistic.py:940: ConvergenceWarning: lbfgs failed to converge (status=1):\n",
      "STOP: TOTAL NO. of ITERATIONS REACHED LIMIT.\n",
      "\n",
      "Increase the number of iterations (max_iter) or scale the data as shown in:\n",
      "    https://scikit-learn.org/stable/modules/preprocessing.html\n",
      "Please also refer to the documentation for alternative solver options:\n",
      "    https://scikit-learn.org/stable/modules/linear_model.html#logistic-regression\n",
      "  extra_warning_msg=_LOGISTIC_SOLVER_CONVERGENCE_MSG)\n",
      "C:\\Users\\Ugo\\anaconda3\\lib\\site-packages\\sklearn\\linear_model\\_logistic.py:940: ConvergenceWarning: lbfgs failed to converge (status=1):\n",
      "STOP: TOTAL NO. of ITERATIONS REACHED LIMIT.\n",
      "\n",
      "Increase the number of iterations (max_iter) or scale the data as shown in:\n",
      "    https://scikit-learn.org/stable/modules/preprocessing.html\n",
      "Please also refer to the documentation for alternative solver options:\n",
      "    https://scikit-learn.org/stable/modules/linear_model.html#logistic-regression\n",
      "  extra_warning_msg=_LOGISTIC_SOLVER_CONVERGENCE_MSG)\n",
      "C:\\Users\\Ugo\\anaconda3\\lib\\site-packages\\sklearn\\linear_model\\_logistic.py:940: ConvergenceWarning: lbfgs failed to converge (status=1):\n",
      "STOP: TOTAL NO. of ITERATIONS REACHED LIMIT.\n",
      "\n",
      "Increase the number of iterations (max_iter) or scale the data as shown in:\n",
      "    https://scikit-learn.org/stable/modules/preprocessing.html\n",
      "Please also refer to the documentation for alternative solver options:\n",
      "    https://scikit-learn.org/stable/modules/linear_model.html#logistic-regression\n",
      "  extra_warning_msg=_LOGISTIC_SOLVER_CONVERGENCE_MSG)\n",
      "C:\\Users\\Ugo\\anaconda3\\lib\\site-packages\\sklearn\\linear_model\\_logistic.py:940: ConvergenceWarning: lbfgs failed to converge (status=1):\n",
      "STOP: TOTAL NO. of ITERATIONS REACHED LIMIT.\n",
      "\n",
      "Increase the number of iterations (max_iter) or scale the data as shown in:\n",
      "    https://scikit-learn.org/stable/modules/preprocessing.html\n",
      "Please also refer to the documentation for alternative solver options:\n",
      "    https://scikit-learn.org/stable/modules/linear_model.html#logistic-regression\n",
      "  extra_warning_msg=_LOGISTIC_SOLVER_CONVERGENCE_MSG)\n",
      "C:\\Users\\Ugo\\anaconda3\\lib\\site-packages\\sklearn\\linear_model\\_logistic.py:940: ConvergenceWarning: lbfgs failed to converge (status=1):\n",
      "STOP: TOTAL NO. of ITERATIONS REACHED LIMIT.\n",
      "\n",
      "Increase the number of iterations (max_iter) or scale the data as shown in:\n",
      "    https://scikit-learn.org/stable/modules/preprocessing.html\n",
      "Please also refer to the documentation for alternative solver options:\n",
      "    https://scikit-learn.org/stable/modules/linear_model.html#logistic-regression\n",
      "  extra_warning_msg=_LOGISTIC_SOLVER_CONVERGENCE_MSG)\n",
      "C:\\Users\\Ugo\\anaconda3\\lib\\site-packages\\sklearn\\linear_model\\_logistic.py:940: ConvergenceWarning: lbfgs failed to converge (status=1):\n",
      "STOP: TOTAL NO. of ITERATIONS REACHED LIMIT.\n",
      "\n",
      "Increase the number of iterations (max_iter) or scale the data as shown in:\n",
      "    https://scikit-learn.org/stable/modules/preprocessing.html\n",
      "Please also refer to the documentation for alternative solver options:\n",
      "    https://scikit-learn.org/stable/modules/linear_model.html#logistic-regression\n",
      "  extra_warning_msg=_LOGISTIC_SOLVER_CONVERGENCE_MSG)\n"
     ]
    },
    {
     "name": "stderr",
     "output_type": "stream",
     "text": [
      "C:\\Users\\Ugo\\anaconda3\\lib\\site-packages\\sklearn\\linear_model\\_logistic.py:940: ConvergenceWarning: lbfgs failed to converge (status=1):\n",
      "STOP: TOTAL NO. of ITERATIONS REACHED LIMIT.\n",
      "\n",
      "Increase the number of iterations (max_iter) or scale the data as shown in:\n",
      "    https://scikit-learn.org/stable/modules/preprocessing.html\n",
      "Please also refer to the documentation for alternative solver options:\n",
      "    https://scikit-learn.org/stable/modules/linear_model.html#logistic-regression\n",
      "  extra_warning_msg=_LOGISTIC_SOLVER_CONVERGENCE_MSG)\n",
      "C:\\Users\\Ugo\\anaconda3\\lib\\site-packages\\sklearn\\linear_model\\_logistic.py:940: ConvergenceWarning: lbfgs failed to converge (status=1):\n",
      "STOP: TOTAL NO. of ITERATIONS REACHED LIMIT.\n",
      "\n",
      "Increase the number of iterations (max_iter) or scale the data as shown in:\n",
      "    https://scikit-learn.org/stable/modules/preprocessing.html\n",
      "Please also refer to the documentation for alternative solver options:\n",
      "    https://scikit-learn.org/stable/modules/linear_model.html#logistic-regression\n",
      "  extra_warning_msg=_LOGISTIC_SOLVER_CONVERGENCE_MSG)\n",
      "C:\\Users\\Ugo\\anaconda3\\lib\\site-packages\\sklearn\\linear_model\\_logistic.py:940: ConvergenceWarning: lbfgs failed to converge (status=1):\n",
      "STOP: TOTAL NO. of ITERATIONS REACHED LIMIT.\n",
      "\n",
      "Increase the number of iterations (max_iter) or scale the data as shown in:\n",
      "    https://scikit-learn.org/stable/modules/preprocessing.html\n",
      "Please also refer to the documentation for alternative solver options:\n",
      "    https://scikit-learn.org/stable/modules/linear_model.html#logistic-regression\n",
      "  extra_warning_msg=_LOGISTIC_SOLVER_CONVERGENCE_MSG)\n",
      "C:\\Users\\Ugo\\anaconda3\\lib\\site-packages\\sklearn\\linear_model\\_logistic.py:940: ConvergenceWarning: lbfgs failed to converge (status=1):\n",
      "STOP: TOTAL NO. of ITERATIONS REACHED LIMIT.\n",
      "\n",
      "Increase the number of iterations (max_iter) or scale the data as shown in:\n",
      "    https://scikit-learn.org/stable/modules/preprocessing.html\n",
      "Please also refer to the documentation for alternative solver options:\n",
      "    https://scikit-learn.org/stable/modules/linear_model.html#logistic-regression\n",
      "  extra_warning_msg=_LOGISTIC_SOLVER_CONVERGENCE_MSG)\n",
      "C:\\Users\\Ugo\\anaconda3\\lib\\site-packages\\sklearn\\linear_model\\_logistic.py:940: ConvergenceWarning: lbfgs failed to converge (status=1):\n",
      "STOP: TOTAL NO. of ITERATIONS REACHED LIMIT.\n",
      "\n",
      "Increase the number of iterations (max_iter) or scale the data as shown in:\n",
      "    https://scikit-learn.org/stable/modules/preprocessing.html\n",
      "Please also refer to the documentation for alternative solver options:\n",
      "    https://scikit-learn.org/stable/modules/linear_model.html#logistic-regression\n",
      "  extra_warning_msg=_LOGISTIC_SOLVER_CONVERGENCE_MSG)\n",
      "C:\\Users\\Ugo\\anaconda3\\lib\\site-packages\\sklearn\\linear_model\\_logistic.py:940: ConvergenceWarning: lbfgs failed to converge (status=1):\n",
      "STOP: TOTAL NO. of ITERATIONS REACHED LIMIT.\n",
      "\n",
      "Increase the number of iterations (max_iter) or scale the data as shown in:\n",
      "    https://scikit-learn.org/stable/modules/preprocessing.html\n",
      "Please also refer to the documentation for alternative solver options:\n",
      "    https://scikit-learn.org/stable/modules/linear_model.html#logistic-regression\n",
      "  extra_warning_msg=_LOGISTIC_SOLVER_CONVERGENCE_MSG)\n",
      "C:\\Users\\Ugo\\anaconda3\\lib\\site-packages\\sklearn\\linear_model\\_logistic.py:940: ConvergenceWarning: lbfgs failed to converge (status=1):\n",
      "STOP: TOTAL NO. of ITERATIONS REACHED LIMIT.\n",
      "\n",
      "Increase the number of iterations (max_iter) or scale the data as shown in:\n",
      "    https://scikit-learn.org/stable/modules/preprocessing.html\n",
      "Please also refer to the documentation for alternative solver options:\n",
      "    https://scikit-learn.org/stable/modules/linear_model.html#logistic-regression\n",
      "  extra_warning_msg=_LOGISTIC_SOLVER_CONVERGENCE_MSG)\n",
      "C:\\Users\\Ugo\\anaconda3\\lib\\site-packages\\sklearn\\linear_model\\_logistic.py:940: ConvergenceWarning: lbfgs failed to converge (status=1):\n",
      "STOP: TOTAL NO. of ITERATIONS REACHED LIMIT.\n",
      "\n",
      "Increase the number of iterations (max_iter) or scale the data as shown in:\n",
      "    https://scikit-learn.org/stable/modules/preprocessing.html\n",
      "Please also refer to the documentation for alternative solver options:\n",
      "    https://scikit-learn.org/stable/modules/linear_model.html#logistic-regression\n",
      "  extra_warning_msg=_LOGISTIC_SOLVER_CONVERGENCE_MSG)\n",
      "C:\\Users\\Ugo\\anaconda3\\lib\\site-packages\\sklearn\\linear_model\\_logistic.py:940: ConvergenceWarning: lbfgs failed to converge (status=1):\n",
      "STOP: TOTAL NO. of ITERATIONS REACHED LIMIT.\n",
      "\n",
      "Increase the number of iterations (max_iter) or scale the data as shown in:\n",
      "    https://scikit-learn.org/stable/modules/preprocessing.html\n",
      "Please also refer to the documentation for alternative solver options:\n",
      "    https://scikit-learn.org/stable/modules/linear_model.html#logistic-regression\n",
      "  extra_warning_msg=_LOGISTIC_SOLVER_CONVERGENCE_MSG)\n",
      "C:\\Users\\Ugo\\anaconda3\\lib\\site-packages\\sklearn\\linear_model\\_logistic.py:940: ConvergenceWarning: lbfgs failed to converge (status=1):\n",
      "STOP: TOTAL NO. of ITERATIONS REACHED LIMIT.\n",
      "\n",
      "Increase the number of iterations (max_iter) or scale the data as shown in:\n",
      "    https://scikit-learn.org/stable/modules/preprocessing.html\n",
      "Please also refer to the documentation for alternative solver options:\n",
      "    https://scikit-learn.org/stable/modules/linear_model.html#logistic-regression\n",
      "  extra_warning_msg=_LOGISTIC_SOLVER_CONVERGENCE_MSG)\n",
      "C:\\Users\\Ugo\\anaconda3\\lib\\site-packages\\sklearn\\linear_model\\_logistic.py:940: ConvergenceWarning: lbfgs failed to converge (status=1):\n",
      "STOP: TOTAL NO. of ITERATIONS REACHED LIMIT.\n",
      "\n",
      "Increase the number of iterations (max_iter) or scale the data as shown in:\n",
      "    https://scikit-learn.org/stable/modules/preprocessing.html\n",
      "Please also refer to the documentation for alternative solver options:\n",
      "    https://scikit-learn.org/stable/modules/linear_model.html#logistic-regression\n",
      "  extra_warning_msg=_LOGISTIC_SOLVER_CONVERGENCE_MSG)\n",
      "C:\\Users\\Ugo\\anaconda3\\lib\\site-packages\\sklearn\\linear_model\\_logistic.py:940: ConvergenceWarning: lbfgs failed to converge (status=1):\n",
      "STOP: TOTAL NO. of ITERATIONS REACHED LIMIT.\n",
      "\n",
      "Increase the number of iterations (max_iter) or scale the data as shown in:\n",
      "    https://scikit-learn.org/stable/modules/preprocessing.html\n",
      "Please also refer to the documentation for alternative solver options:\n",
      "    https://scikit-learn.org/stable/modules/linear_model.html#logistic-regression\n",
      "  extra_warning_msg=_LOGISTIC_SOLVER_CONVERGENCE_MSG)\n",
      "C:\\Users\\Ugo\\anaconda3\\lib\\site-packages\\sklearn\\linear_model\\_logistic.py:940: ConvergenceWarning: lbfgs failed to converge (status=1):\n",
      "STOP: TOTAL NO. of ITERATIONS REACHED LIMIT.\n",
      "\n",
      "Increase the number of iterations (max_iter) or scale the data as shown in:\n",
      "    https://scikit-learn.org/stable/modules/preprocessing.html\n",
      "Please also refer to the documentation for alternative solver options:\n",
      "    https://scikit-learn.org/stable/modules/linear_model.html#logistic-regression\n",
      "  extra_warning_msg=_LOGISTIC_SOLVER_CONVERGENCE_MSG)\n",
      "C:\\Users\\Ugo\\anaconda3\\lib\\site-packages\\sklearn\\linear_model\\_logistic.py:940: ConvergenceWarning: lbfgs failed to converge (status=1):\n",
      "STOP: TOTAL NO. of ITERATIONS REACHED LIMIT.\n",
      "\n",
      "Increase the number of iterations (max_iter) or scale the data as shown in:\n",
      "    https://scikit-learn.org/stable/modules/preprocessing.html\n",
      "Please also refer to the documentation for alternative solver options:\n",
      "    https://scikit-learn.org/stable/modules/linear_model.html#logistic-regression\n",
      "  extra_warning_msg=_LOGISTIC_SOLVER_CONVERGENCE_MSG)\n",
      "C:\\Users\\Ugo\\anaconda3\\lib\\site-packages\\sklearn\\linear_model\\_logistic.py:940: ConvergenceWarning: lbfgs failed to converge (status=1):\n",
      "STOP: TOTAL NO. of ITERATIONS REACHED LIMIT.\n",
      "\n",
      "Increase the number of iterations (max_iter) or scale the data as shown in:\n",
      "    https://scikit-learn.org/stable/modules/preprocessing.html\n",
      "Please also refer to the documentation for alternative solver options:\n",
      "    https://scikit-learn.org/stable/modules/linear_model.html#logistic-regression\n",
      "  extra_warning_msg=_LOGISTIC_SOLVER_CONVERGENCE_MSG)\n",
      "C:\\Users\\Ugo\\anaconda3\\lib\\site-packages\\sklearn\\linear_model\\_logistic.py:940: ConvergenceWarning: lbfgs failed to converge (status=1):\n",
      "STOP: TOTAL NO. of ITERATIONS REACHED LIMIT.\n",
      "\n",
      "Increase the number of iterations (max_iter) or scale the data as shown in:\n",
      "    https://scikit-learn.org/stable/modules/preprocessing.html\n",
      "Please also refer to the documentation for alternative solver options:\n",
      "    https://scikit-learn.org/stable/modules/linear_model.html#logistic-regression\n",
      "  extra_warning_msg=_LOGISTIC_SOLVER_CONVERGENCE_MSG)\n"
     ]
    },
    {
     "name": "stderr",
     "output_type": "stream",
     "text": [
      "C:\\Users\\Ugo\\anaconda3\\lib\\site-packages\\sklearn\\linear_model\\_logistic.py:940: ConvergenceWarning: lbfgs failed to converge (status=1):\n",
      "STOP: TOTAL NO. of ITERATIONS REACHED LIMIT.\n",
      "\n",
      "Increase the number of iterations (max_iter) or scale the data as shown in:\n",
      "    https://scikit-learn.org/stable/modules/preprocessing.html\n",
      "Please also refer to the documentation for alternative solver options:\n",
      "    https://scikit-learn.org/stable/modules/linear_model.html#logistic-regression\n",
      "  extra_warning_msg=_LOGISTIC_SOLVER_CONVERGENCE_MSG)\n",
      "C:\\Users\\Ugo\\anaconda3\\lib\\site-packages\\sklearn\\linear_model\\_logistic.py:940: ConvergenceWarning: lbfgs failed to converge (status=1):\n",
      "STOP: TOTAL NO. of ITERATIONS REACHED LIMIT.\n",
      "\n",
      "Increase the number of iterations (max_iter) or scale the data as shown in:\n",
      "    https://scikit-learn.org/stable/modules/preprocessing.html\n",
      "Please also refer to the documentation for alternative solver options:\n",
      "    https://scikit-learn.org/stable/modules/linear_model.html#logistic-regression\n",
      "  extra_warning_msg=_LOGISTIC_SOLVER_CONVERGENCE_MSG)\n",
      "C:\\Users\\Ugo\\anaconda3\\lib\\site-packages\\sklearn\\linear_model\\_logistic.py:940: ConvergenceWarning: lbfgs failed to converge (status=1):\n",
      "STOP: TOTAL NO. of ITERATIONS REACHED LIMIT.\n",
      "\n",
      "Increase the number of iterations (max_iter) or scale the data as shown in:\n",
      "    https://scikit-learn.org/stable/modules/preprocessing.html\n",
      "Please also refer to the documentation for alternative solver options:\n",
      "    https://scikit-learn.org/stable/modules/linear_model.html#logistic-regression\n",
      "  extra_warning_msg=_LOGISTIC_SOLVER_CONVERGENCE_MSG)\n",
      "C:\\Users\\Ugo\\anaconda3\\lib\\site-packages\\sklearn\\linear_model\\_logistic.py:940: ConvergenceWarning: lbfgs failed to converge (status=1):\n",
      "STOP: TOTAL NO. of ITERATIONS REACHED LIMIT.\n",
      "\n",
      "Increase the number of iterations (max_iter) or scale the data as shown in:\n",
      "    https://scikit-learn.org/stable/modules/preprocessing.html\n",
      "Please also refer to the documentation for alternative solver options:\n",
      "    https://scikit-learn.org/stable/modules/linear_model.html#logistic-regression\n",
      "  extra_warning_msg=_LOGISTIC_SOLVER_CONVERGENCE_MSG)\n",
      "C:\\Users\\Ugo\\anaconda3\\lib\\site-packages\\sklearn\\linear_model\\_logistic.py:940: ConvergenceWarning: lbfgs failed to converge (status=1):\n",
      "STOP: TOTAL NO. of ITERATIONS REACHED LIMIT.\n",
      "\n",
      "Increase the number of iterations (max_iter) or scale the data as shown in:\n",
      "    https://scikit-learn.org/stable/modules/preprocessing.html\n",
      "Please also refer to the documentation for alternative solver options:\n",
      "    https://scikit-learn.org/stable/modules/linear_model.html#logistic-regression\n",
      "  extra_warning_msg=_LOGISTIC_SOLVER_CONVERGENCE_MSG)\n",
      "C:\\Users\\Ugo\\anaconda3\\lib\\site-packages\\sklearn\\linear_model\\_logistic.py:940: ConvergenceWarning: lbfgs failed to converge (status=1):\n",
      "STOP: TOTAL NO. of ITERATIONS REACHED LIMIT.\n",
      "\n",
      "Increase the number of iterations (max_iter) or scale the data as shown in:\n",
      "    https://scikit-learn.org/stable/modules/preprocessing.html\n",
      "Please also refer to the documentation for alternative solver options:\n",
      "    https://scikit-learn.org/stable/modules/linear_model.html#logistic-regression\n",
      "  extra_warning_msg=_LOGISTIC_SOLVER_CONVERGENCE_MSG)\n",
      "C:\\Users\\Ugo\\anaconda3\\lib\\site-packages\\sklearn\\linear_model\\_logistic.py:940: ConvergenceWarning: lbfgs failed to converge (status=1):\n",
      "STOP: TOTAL NO. of ITERATIONS REACHED LIMIT.\n",
      "\n",
      "Increase the number of iterations (max_iter) or scale the data as shown in:\n",
      "    https://scikit-learn.org/stable/modules/preprocessing.html\n",
      "Please also refer to the documentation for alternative solver options:\n",
      "    https://scikit-learn.org/stable/modules/linear_model.html#logistic-regression\n",
      "  extra_warning_msg=_LOGISTIC_SOLVER_CONVERGENCE_MSG)\n",
      "C:\\Users\\Ugo\\anaconda3\\lib\\site-packages\\sklearn\\linear_model\\_logistic.py:940: ConvergenceWarning: lbfgs failed to converge (status=1):\n",
      "STOP: TOTAL NO. of ITERATIONS REACHED LIMIT.\n",
      "\n",
      "Increase the number of iterations (max_iter) or scale the data as shown in:\n",
      "    https://scikit-learn.org/stable/modules/preprocessing.html\n",
      "Please also refer to the documentation for alternative solver options:\n",
      "    https://scikit-learn.org/stable/modules/linear_model.html#logistic-regression\n",
      "  extra_warning_msg=_LOGISTIC_SOLVER_CONVERGENCE_MSG)\n",
      "C:\\Users\\Ugo\\anaconda3\\lib\\site-packages\\sklearn\\linear_model\\_logistic.py:940: ConvergenceWarning: lbfgs failed to converge (status=1):\n",
      "STOP: TOTAL NO. of ITERATIONS REACHED LIMIT.\n",
      "\n",
      "Increase the number of iterations (max_iter) or scale the data as shown in:\n",
      "    https://scikit-learn.org/stable/modules/preprocessing.html\n",
      "Please also refer to the documentation for alternative solver options:\n",
      "    https://scikit-learn.org/stable/modules/linear_model.html#logistic-regression\n",
      "  extra_warning_msg=_LOGISTIC_SOLVER_CONVERGENCE_MSG)\n",
      "C:\\Users\\Ugo\\anaconda3\\lib\\site-packages\\sklearn\\linear_model\\_logistic.py:940: ConvergenceWarning: lbfgs failed to converge (status=1):\n",
      "STOP: TOTAL NO. of ITERATIONS REACHED LIMIT.\n",
      "\n",
      "Increase the number of iterations (max_iter) or scale the data as shown in:\n",
      "    https://scikit-learn.org/stable/modules/preprocessing.html\n",
      "Please also refer to the documentation for alternative solver options:\n",
      "    https://scikit-learn.org/stable/modules/linear_model.html#logistic-regression\n",
      "  extra_warning_msg=_LOGISTIC_SOLVER_CONVERGENCE_MSG)\n",
      "C:\\Users\\Ugo\\anaconda3\\lib\\site-packages\\sklearn\\linear_model\\_logistic.py:940: ConvergenceWarning: lbfgs failed to converge (status=1):\n",
      "STOP: TOTAL NO. of ITERATIONS REACHED LIMIT.\n",
      "\n",
      "Increase the number of iterations (max_iter) or scale the data as shown in:\n",
      "    https://scikit-learn.org/stable/modules/preprocessing.html\n",
      "Please also refer to the documentation for alternative solver options:\n",
      "    https://scikit-learn.org/stable/modules/linear_model.html#logistic-regression\n",
      "  extra_warning_msg=_LOGISTIC_SOLVER_CONVERGENCE_MSG)\n",
      "C:\\Users\\Ugo\\anaconda3\\lib\\site-packages\\sklearn\\linear_model\\_logistic.py:940: ConvergenceWarning: lbfgs failed to converge (status=1):\n",
      "STOP: TOTAL NO. of ITERATIONS REACHED LIMIT.\n",
      "\n",
      "Increase the number of iterations (max_iter) or scale the data as shown in:\n",
      "    https://scikit-learn.org/stable/modules/preprocessing.html\n",
      "Please also refer to the documentation for alternative solver options:\n",
      "    https://scikit-learn.org/stable/modules/linear_model.html#logistic-regression\n",
      "  extra_warning_msg=_LOGISTIC_SOLVER_CONVERGENCE_MSG)\n",
      "C:\\Users\\Ugo\\anaconda3\\lib\\site-packages\\sklearn\\linear_model\\_logistic.py:940: ConvergenceWarning: lbfgs failed to converge (status=1):\n",
      "STOP: TOTAL NO. of ITERATIONS REACHED LIMIT.\n",
      "\n",
      "Increase the number of iterations (max_iter) or scale the data as shown in:\n",
      "    https://scikit-learn.org/stable/modules/preprocessing.html\n",
      "Please also refer to the documentation for alternative solver options:\n",
      "    https://scikit-learn.org/stable/modules/linear_model.html#logistic-regression\n",
      "  extra_warning_msg=_LOGISTIC_SOLVER_CONVERGENCE_MSG)\n",
      "C:\\Users\\Ugo\\anaconda3\\lib\\site-packages\\sklearn\\linear_model\\_logistic.py:940: ConvergenceWarning: lbfgs failed to converge (status=1):\n",
      "STOP: TOTAL NO. of ITERATIONS REACHED LIMIT.\n",
      "\n",
      "Increase the number of iterations (max_iter) or scale the data as shown in:\n",
      "    https://scikit-learn.org/stable/modules/preprocessing.html\n",
      "Please also refer to the documentation for alternative solver options:\n",
      "    https://scikit-learn.org/stable/modules/linear_model.html#logistic-regression\n",
      "  extra_warning_msg=_LOGISTIC_SOLVER_CONVERGENCE_MSG)\n",
      "C:\\Users\\Ugo\\anaconda3\\lib\\site-packages\\sklearn\\linear_model\\_logistic.py:940: ConvergenceWarning: lbfgs failed to converge (status=1):\n",
      "STOP: TOTAL NO. of ITERATIONS REACHED LIMIT.\n",
      "\n",
      "Increase the number of iterations (max_iter) or scale the data as shown in:\n",
      "    https://scikit-learn.org/stable/modules/preprocessing.html\n",
      "Please also refer to the documentation for alternative solver options:\n",
      "    https://scikit-learn.org/stable/modules/linear_model.html#logistic-regression\n",
      "  extra_warning_msg=_LOGISTIC_SOLVER_CONVERGENCE_MSG)\n",
      "C:\\Users\\Ugo\\anaconda3\\lib\\site-packages\\sklearn\\linear_model\\_logistic.py:940: ConvergenceWarning: lbfgs failed to converge (status=1):\n",
      "STOP: TOTAL NO. of ITERATIONS REACHED LIMIT.\n",
      "\n",
      "Increase the number of iterations (max_iter) or scale the data as shown in:\n",
      "    https://scikit-learn.org/stable/modules/preprocessing.html\n",
      "Please also refer to the documentation for alternative solver options:\n",
      "    https://scikit-learn.org/stable/modules/linear_model.html#logistic-regression\n",
      "  extra_warning_msg=_LOGISTIC_SOLVER_CONVERGENCE_MSG)\n"
     ]
    },
    {
     "name": "stderr",
     "output_type": "stream",
     "text": [
      "C:\\Users\\Ugo\\anaconda3\\lib\\site-packages\\sklearn\\linear_model\\_logistic.py:940: ConvergenceWarning: lbfgs failed to converge (status=1):\n",
      "STOP: TOTAL NO. of ITERATIONS REACHED LIMIT.\n",
      "\n",
      "Increase the number of iterations (max_iter) or scale the data as shown in:\n",
      "    https://scikit-learn.org/stable/modules/preprocessing.html\n",
      "Please also refer to the documentation for alternative solver options:\n",
      "    https://scikit-learn.org/stable/modules/linear_model.html#logistic-regression\n",
      "  extra_warning_msg=_LOGISTIC_SOLVER_CONVERGENCE_MSG)\n",
      "C:\\Users\\Ugo\\anaconda3\\lib\\site-packages\\sklearn\\linear_model\\_logistic.py:940: ConvergenceWarning: lbfgs failed to converge (status=1):\n",
      "STOP: TOTAL NO. of ITERATIONS REACHED LIMIT.\n",
      "\n",
      "Increase the number of iterations (max_iter) or scale the data as shown in:\n",
      "    https://scikit-learn.org/stable/modules/preprocessing.html\n",
      "Please also refer to the documentation for alternative solver options:\n",
      "    https://scikit-learn.org/stable/modules/linear_model.html#logistic-regression\n",
      "  extra_warning_msg=_LOGISTIC_SOLVER_CONVERGENCE_MSG)\n",
      "C:\\Users\\Ugo\\anaconda3\\lib\\site-packages\\sklearn\\linear_model\\_logistic.py:940: ConvergenceWarning: lbfgs failed to converge (status=1):\n",
      "STOP: TOTAL NO. of ITERATIONS REACHED LIMIT.\n",
      "\n",
      "Increase the number of iterations (max_iter) or scale the data as shown in:\n",
      "    https://scikit-learn.org/stable/modules/preprocessing.html\n",
      "Please also refer to the documentation for alternative solver options:\n",
      "    https://scikit-learn.org/stable/modules/linear_model.html#logistic-regression\n",
      "  extra_warning_msg=_LOGISTIC_SOLVER_CONVERGENCE_MSG)\n",
      "C:\\Users\\Ugo\\anaconda3\\lib\\site-packages\\sklearn\\linear_model\\_logistic.py:940: ConvergenceWarning: lbfgs failed to converge (status=1):\n",
      "STOP: TOTAL NO. of ITERATIONS REACHED LIMIT.\n",
      "\n",
      "Increase the number of iterations (max_iter) or scale the data as shown in:\n",
      "    https://scikit-learn.org/stable/modules/preprocessing.html\n",
      "Please also refer to the documentation for alternative solver options:\n",
      "    https://scikit-learn.org/stable/modules/linear_model.html#logistic-regression\n",
      "  extra_warning_msg=_LOGISTIC_SOLVER_CONVERGENCE_MSG)\n",
      "C:\\Users\\Ugo\\anaconda3\\lib\\site-packages\\sklearn\\linear_model\\_logistic.py:940: ConvergenceWarning: lbfgs failed to converge (status=1):\n",
      "STOP: TOTAL NO. of ITERATIONS REACHED LIMIT.\n",
      "\n",
      "Increase the number of iterations (max_iter) or scale the data as shown in:\n",
      "    https://scikit-learn.org/stable/modules/preprocessing.html\n",
      "Please also refer to the documentation for alternative solver options:\n",
      "    https://scikit-learn.org/stable/modules/linear_model.html#logistic-regression\n",
      "  extra_warning_msg=_LOGISTIC_SOLVER_CONVERGENCE_MSG)\n",
      "C:\\Users\\Ugo\\anaconda3\\lib\\site-packages\\sklearn\\linear_model\\_logistic.py:940: ConvergenceWarning: lbfgs failed to converge (status=1):\n",
      "STOP: TOTAL NO. of ITERATIONS REACHED LIMIT.\n",
      "\n",
      "Increase the number of iterations (max_iter) or scale the data as shown in:\n",
      "    https://scikit-learn.org/stable/modules/preprocessing.html\n",
      "Please also refer to the documentation for alternative solver options:\n",
      "    https://scikit-learn.org/stable/modules/linear_model.html#logistic-regression\n",
      "  extra_warning_msg=_LOGISTIC_SOLVER_CONVERGENCE_MSG)\n",
      "C:\\Users\\Ugo\\anaconda3\\lib\\site-packages\\sklearn\\linear_model\\_logistic.py:940: ConvergenceWarning: lbfgs failed to converge (status=1):\n",
      "STOP: TOTAL NO. of ITERATIONS REACHED LIMIT.\n",
      "\n",
      "Increase the number of iterations (max_iter) or scale the data as shown in:\n",
      "    https://scikit-learn.org/stable/modules/preprocessing.html\n",
      "Please also refer to the documentation for alternative solver options:\n",
      "    https://scikit-learn.org/stable/modules/linear_model.html#logistic-regression\n",
      "  extra_warning_msg=_LOGISTIC_SOLVER_CONVERGENCE_MSG)\n",
      "C:\\Users\\Ugo\\anaconda3\\lib\\site-packages\\sklearn\\linear_model\\_logistic.py:940: ConvergenceWarning: lbfgs failed to converge (status=1):\n",
      "STOP: TOTAL NO. of ITERATIONS REACHED LIMIT.\n",
      "\n",
      "Increase the number of iterations (max_iter) or scale the data as shown in:\n",
      "    https://scikit-learn.org/stable/modules/preprocessing.html\n",
      "Please also refer to the documentation for alternative solver options:\n",
      "    https://scikit-learn.org/stable/modules/linear_model.html#logistic-regression\n",
      "  extra_warning_msg=_LOGISTIC_SOLVER_CONVERGENCE_MSG)\n",
      "C:\\Users\\Ugo\\anaconda3\\lib\\site-packages\\sklearn\\linear_model\\_logistic.py:940: ConvergenceWarning: lbfgs failed to converge (status=1):\n",
      "STOP: TOTAL NO. of ITERATIONS REACHED LIMIT.\n",
      "\n",
      "Increase the number of iterations (max_iter) or scale the data as shown in:\n",
      "    https://scikit-learn.org/stable/modules/preprocessing.html\n",
      "Please also refer to the documentation for alternative solver options:\n",
      "    https://scikit-learn.org/stable/modules/linear_model.html#logistic-regression\n",
      "  extra_warning_msg=_LOGISTIC_SOLVER_CONVERGENCE_MSG)\n",
      "C:\\Users\\Ugo\\anaconda3\\lib\\site-packages\\sklearn\\linear_model\\_logistic.py:940: ConvergenceWarning: lbfgs failed to converge (status=1):\n",
      "STOP: TOTAL NO. of ITERATIONS REACHED LIMIT.\n",
      "\n",
      "Increase the number of iterations (max_iter) or scale the data as shown in:\n",
      "    https://scikit-learn.org/stable/modules/preprocessing.html\n",
      "Please also refer to the documentation for alternative solver options:\n",
      "    https://scikit-learn.org/stable/modules/linear_model.html#logistic-regression\n",
      "  extra_warning_msg=_LOGISTIC_SOLVER_CONVERGENCE_MSG)\n",
      "C:\\Users\\Ugo\\anaconda3\\lib\\site-packages\\sklearn\\linear_model\\_logistic.py:940: ConvergenceWarning: lbfgs failed to converge (status=1):\n",
      "STOP: TOTAL NO. of ITERATIONS REACHED LIMIT.\n",
      "\n",
      "Increase the number of iterations (max_iter) or scale the data as shown in:\n",
      "    https://scikit-learn.org/stable/modules/preprocessing.html\n",
      "Please also refer to the documentation for alternative solver options:\n",
      "    https://scikit-learn.org/stable/modules/linear_model.html#logistic-regression\n",
      "  extra_warning_msg=_LOGISTIC_SOLVER_CONVERGENCE_MSG)\n",
      "C:\\Users\\Ugo\\anaconda3\\lib\\site-packages\\sklearn\\linear_model\\_logistic.py:940: ConvergenceWarning: lbfgs failed to converge (status=1):\n",
      "STOP: TOTAL NO. of ITERATIONS REACHED LIMIT.\n",
      "\n",
      "Increase the number of iterations (max_iter) or scale the data as shown in:\n",
      "    https://scikit-learn.org/stable/modules/preprocessing.html\n",
      "Please also refer to the documentation for alternative solver options:\n",
      "    https://scikit-learn.org/stable/modules/linear_model.html#logistic-regression\n",
      "  extra_warning_msg=_LOGISTIC_SOLVER_CONVERGENCE_MSG)\n"
     ]
    }
   ],
   "source": [
    "# le jeu de données ne contenant que les titres est le moins bon, les 2 entres sembles équivalents\n",
    "train_score4, test_score4, iteration4 = error_train_test_set(X_train3[:10000], y_train3[:10000], X_test3[:10000], y_test3[:10000])\n",
    "train_score5, test_score5, iteration5 = error_train_test_set(X_train3[:1000], y_train3[:1000], X_test3[:1000], y_test3[:1000])\n",
    "train_score6, test_score6, iteration6 = error_train_test_set(X_train3[:100], y_train3[:100], X_test3[:100], y_test3[:100])"
   ]
  },
  {
   "cell_type": "code",
   "execution_count": 133,
   "metadata": {},
   "outputs": [
    {
     "data": {
      "image/png": "[encoded data removed]",
      "text/plain": [
       "<Figure size 432x288 with 1 Axes>"
      ]
     },
     "metadata": {},
     "output_type": "display_data"
    },
    {
     "data": {
      "image/png": "[encoded data removed]",
      "text/plain": [
       "<Figure size 432x288 with 1 Axes>"
      ]
     },
     "metadata": {},
     "output_type": "display_data"
    },
    {
     "data": {
      "image/png": "[encoded data removed]",
      "text/plain": [
       "<Figure size 432x288 with 1 Axes>"
      ]
     },
     "metadata": {},
     "output_type": "display_data"
    }
   ],
   "source": [
    "plot_train_test(train_score4, test_score4, iteration4, 'X_title_description 10000 données')\n",
    "plot_train_test(train_score5, test_score5, iteration5, 'X_title_description 1000 données')\n",
    "plot_train_test(train_score6, test_score6, iteration6, 'X_title_description 100 données')"
   ]
  },
  {
   "cell_type": "markdown",
   "metadata": {},
   "source": [
    "### On créer notre modèle final"
   ]
  },
  {
   "cell_type": "code",
   "execution_count": 134,
   "metadata": {
    "id": "5_v6-GaI4Svd"
   },
   "outputs": [
    {
     "name": "stderr",
     "output_type": "stream",
     "text": [
      "C:\\Users\\Ugo\\anaconda3\\lib\\site-packages\\sklearn\\linear_model\\_logistic.py:940: ConvergenceWarning: lbfgs failed to converge (status=1):\n",
      "STOP: TOTAL NO. of ITERATIONS REACHED LIMIT.\n",
      "\n",
      "Increase the number of iterations (max_iter) or scale the data as shown in:\n",
      "    https://scikit-learn.org/stable/modules/preprocessing.html\n",
      "Please also refer to the documentation for alternative solver options:\n",
      "    https://scikit-learn.org/stable/modules/linear_model.html#logistic-regression\n",
      "  extra_warning_msg=_LOGISTIC_SOLVER_CONVERGENCE_MSG)\n"
     ]
    },
    {
     "name": "stdout",
     "output_type": "stream",
     "text": [
      "score: 0.9999285714285714\n"
     ]
    }
   ],
   "source": [
    "# on prends X_description comme jeu de donnée final\n",
    "\n",
    "train_data_features = count_vectorizer.fit_transform(X_train3)\n",
    "\n",
    "# on utilise le modèle de régression logistique\n",
    "model = LogisticRegression(max_iter=100)\n",
    "model.fit(train_data_features, y_train3)\n",
    "\n",
    "#évaluation du score où le label prédit doit être exact\n",
    "data_features_train = count_vectorizer.transform(X_train3)\n",
    "predictions_train = model.predict(data_features_train)\n",
    "print('score: %s' % accuracy_score(y_train3, predictions_train))"
   ]
  },
  {
   "cell_type": "code",
   "execution_count": 135,
   "metadata": {
    "colab": {
     "base_uri": "https://localhost:8080/"
    },
    "id": "FMbgz0qjKU07",
    "outputId": "a87725a2-ad5f-4d49-d223-5c44250c3ffa"
   },
   "outputs": [
    {
     "data": {
      "text/plain": [
       "['abortion',\n",
       " 'aboud',\n",
       " 'abound',\n",
       " 'aboveground',\n",
       " 'abovehand',\n",
       " 'abraca',\n",
       " 'abraham',\n",
       " 'abram',\n",
       " 'abramovic',\n",
       " 'abrams']"
      ]
     },
     "execution_count": 135,
     "metadata": {},
     "output_type": "execute_result"
    }
   ],
   "source": [
    "count_vectorizer.get_feature_names()[90:100] #pour voir quelques exemples de mots dans les descriptions"
   ]
  },
  {
   "cell_type": "code",
   "execution_count": 136,
   "metadata": {
    "colab": {
     "base_uri": "https://localhost:8080/"
    },
    "id": "L3sg6Lq1G-kC",
    "outputId": "30b58513-70f4-4d9a-86ea-cd7060c8bfcb"
   },
   "outputs": [
    {
     "name": "stdout",
     "output_type": "stream",
     "text": [
      "la taille du vocabulaire est 42420\n"
     ]
    }
   ],
   "source": [
    "print(\"la taille du vocabulaire est \"+str(train_data_features.shape[1]))"
   ]
  },
  {
   "cell_type": "code",
   "execution_count": 137,
   "metadata": {
    "colab": {
     "base_uri": "https://localhost:8080/"
    },
    "id": "K1DZVIi9_2Pa",
    "outputId": "706ff4f2-29ef-4e2c-8482-2ef9bba585b0"
   },
   "outputs": [
    {
     "name": "stdout",
     "output_type": "stream",
     "text": [
      "score: 0.7948333333333333\n"
     ]
    }
   ],
   "source": [
    "# évaluation du score où le label prédit doit être exact\n",
    "data_features_test = count_vectorizer.transform(X_test3)\n",
    "predictions_test = model.predict(data_features_test)\n",
    "print('score: %s' % accuracy_score(y_test3, predictions_test))"
   ]
  },
  {
   "cell_type": "code",
   "execution_count": 138,
   "metadata": {
    "colab": {
     "base_uri": "https://localhost:8080/"
    },
    "id": "TPZgfJNVGSvQ",
    "outputId": "0d639b4f-ce35-4696-cf67-d5d1fef54b34"
   },
   "outputs": [
    {
     "name": "stdout",
     "output_type": "stream",
     "text": [
      "matrice de confusion non normalisée\n",
      " [[2302  108   79   59   41    1    2    9]\n",
      " [ 118  932   59   43   15    7    2    2]\n",
      " [  87   55  592   40   17    0   10    4]\n",
      " [  75   50   23  375   10    5   11    6]\n",
      " [  96   33   18   16  241    0    3    2]\n",
      " [  11   16    1    2    2   68    0    1]\n",
      " [  14    2   10   10    8    0  121    6]\n",
      " [  10    5    9    9    3    1    5  138]]\n"
     ]
    }
   ],
   "source": [
    "cm = confusion_matrix(y_test3, predictions_test)\n",
    "print('matrice de confusion non normalisée\\n %s' % cm)"
   ]
  },
  {
   "cell_type": "code",
   "execution_count": 139,
   "metadata": {
    "colab": {
     "base_uri": "https://localhost:8080/",
     "height": 752
    },
    "id": "tZDPbXF9KU_J",
    "outputId": "bdf3155b-9a88-4e64-c1ae-706cd5d202d1"
   },
   "outputs": [
    {
     "data": {
      "text/plain": [
       "Text(0.5, 1.0, 'Matrice de confusion (normalisée)')"
      ]
     },
     "execution_count": 139,
     "metadata": {},
     "output_type": "execute_result"
    },
    {
     "data": {
      "image/png": "[encoded data removed]",
      "text/plain": [
       "<Figure size 936x720 with 2 Axes>"
      ]
     },
     "metadata": {},
     "output_type": "display_data"
    }
   ],
   "source": [
    "fig, ax = plt.subplots(figsize=(13, 10))\n",
    "plot_confusion_matrix(model, data_features_test, y_test3, include_values=False, xticks_rotation=45, cmap=plt.cm.Reds, normalize='true', ax=ax)\n",
    "plt.title(\"Matrice de confusion (normalisée)\")"
   ]
  }
 ],
 "metadata": {
  "colab": {
   "collapsed_sections": [],
   "name": "model7 de projet_ias.ipynb",
   "provenance": []
  },
  "kernelspec": {
   "display_name": "Python 3",
   "language": "python",
   "name": "python3"
  },
  "language_info": {
   "codemirror_mode": {
    "name": "ipython",
    "version": 3
   },
   "file_extension": ".py",
   "mimetype": "text/x-python",
   "name": "python",
   "nbconvert_exporter": "python",
   "pygments_lexer": "ipython3",
   "version": "3.7.6"
  }
 },
 "nbformat": 4,
 "nbformat_minor": 1
}
