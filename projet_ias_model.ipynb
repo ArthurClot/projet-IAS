{
  "nbformat": 4,
  "nbformat_minor": 0,
  "metadata": {
    "kernelspec": {
      "display_name": "Python 3",
      "language": "python",
      "name": "python3"
    },
    "language_info": {
      "codemirror_mode": {
        "name": "ipython",
        "version": 3
      },
      "file_extension": ".py",
      "mimetype": "text/x-python",
      "name": "python",
      "nbconvert_exporter": "python",
      "pygments_lexer": "ipython3",
      "version": "3.7.6"
    },
    "colab": {
      "name": "model4 projet_ias.ipynb",
      "provenance": [],
      "collapsed_sections": []
    }
  },
  "cells": [
    {
      "cell_type": "code",
      "metadata": {
        "scrolled": false,
        "colab": {
          "base_uri": "https://localhost:8080/"
        },
        "id": "aXSu_0_a8TRn",
        "outputId": "53b7907b-1816-4c6a-96aa-fe9233b189b3"
      },
      "source": [
        "import pandas as pd\n",
        "import numpy as np\n",
        "import re\n",
        "import random\n",
        "from sklearn.model_selection import train_test_split\n",
        "import nltk\n",
        "nltk.download('wordnet')\n",
        "nltk.download('averaged_perceptron_tagger')\n",
        "from nltk.corpus import wordnet\n",
        "from nltk.stem import WordNetLemmatizer \n",
        "import matplotlib.pyplot as plt\n",
        "%matplotlib inline\n",
        "import seaborn as sns"
      ],
      "execution_count": null,
      "outputs": [
        {
          "output_type": "stream",
          "text": [
            "[nltk_data] Downloading package wordnet to /root/nltk_data...\n",
            "[nltk_data]   Unzipping corpora/wordnet.zip.\n",
            "[nltk_data] Downloading package averaged_perceptron_tagger to\n",
            "[nltk_data]     /root/nltk_data...\n",
            "[nltk_data]   Unzipping taggers/averaged_perceptron_tagger.zip.\n"
          ],
          "name": "stdout"
        }
      ]
    },
    {
      "cell_type": "code",
      "metadata": {
        "id": "J4b2iyDZ8TR6"
      },
      "source": [
        "# chargement des données\n",
        "steam = pd.read_csv('archive/steam.csv')\n",
        "steam_description_data = pd.read_csv('archive/steam_description_data.csv')\n",
        "\n",
        "# on ne devrait pas avoir besoin de celles-ci\n",
        "'''\n",
        "steam_media_data = pd.read_csv('steam_media_data.csv')\n",
        "steam_requirements_data = pd.read_csv('steam_requirements_data.csv')\n",
        "steam_support_info = pd.read_csv('steam_support_info.csv')\n",
        "steamspy_tag_data = pd.read_csv('steamspy_tag_data.csv')\n",
        "'''\n",
        "\n",
        "# fonction pour afficher les informations d'un fichier\n",
        "# si dimensions_type = True, les types des dimensions sont également affichés\n",
        "def info(file, *dimensions_type):\n",
        "    dataset_panda = pd.read_csv(file)\n",
        "    print('*****'+file+'*****\\n'+'Nombre de donnée: ', dataset_panda.shape[0],'\\nNombre de dimension: ',\n",
        "          dataset_panda.shape[1],'\\n')\n",
        "    if(dimensions_type):\n",
        "        print('Types des dimensions:\\n', dataset_panda.dtypes)"
      ],
      "execution_count": null,
      "outputs": []
    },
    {
      "cell_type": "code",
      "metadata": {
        "id": "i6wXBf2Q8TR9"
      },
      "source": [
        "info('archive/steam.csv', True)\n",
        "steam"
      ],
      "execution_count": null,
      "outputs": []
    },
    {
      "cell_type": "code",
      "metadata": {
        "id": "eDij56dq8TSB"
      },
      "source": [
        "info('archive/steam_description_data.csv', True)\n",
        "steam_description_data"
      ],
      "execution_count": null,
      "outputs": []
    },
    {
      "cell_type": "markdown",
      "metadata": {
        "id": "yJLuxCAk8TSI"
      },
      "source": [
        "## Preprocessing"
      ]
    },
    {
      "cell_type": "code",
      "metadata": {
        "id": "z4ztId3N8TSK"
      },
      "source": [
        "# On récupère les valeurs de la colonne steam_appid du fichier steam.csv\n",
        "steam_id = steam[steam.columns[0]].values\n",
        "# On récupère toutes les valeurs de toutes les colonnes du fichier steam_description_data.csv\n",
        "description = steam_description_data[steam_description_data.columns].values\n",
        "# On récupère les titres des jeux\n",
        "# titles = steam[steam.columns[1]].values\n",
        "\n",
        "features = []\n",
        "# Le fichier steam_description_data.csv contient plus de jeux que steam.csv, on ne récupère que ceux qu'ils ont en commun\n",
        "\n",
        "# j = 0\n",
        "for i in range(len(description)):\n",
        "    if(description[i,0] in steam_id):\n",
        "        # pour ajouter les titres des jeux\n",
        "        #d = [titles[j]]\n",
        "        #d = np.append(d, description[i, 1:])\n",
        "        # j += 1\n",
        "        \n",
        "        # pour n'utiliser que les descriptions\n",
        "        features.append(description[i, 1:])\n",
        "        \n",
        "\n",
        "# On récupère les données\n",
        "X = np.array(features)\n",
        "# On récupère les labels\n",
        "label = steam.columns[9] # la colonne 9 correspond au genre du jeu\n",
        "y = steam[label].values"
      ],
      "execution_count": null,
      "outputs": []
    },
    {
      "cell_type": "code",
      "metadata": {
        "colab": {
          "base_uri": "https://localhost:8080/"
        },
        "id": "MUCQWSST8TSN",
        "outputId": "8f9d027f-9b9c-414a-b644-8e9f4bf26de7"
      },
      "source": [
        "print('X: ',X.shape,'\\ny: ',y.shape)"
      ],
      "execution_count": null,
      "outputs": [
        {
          "output_type": "stream",
          "text": [
            "X:  (27075, 3) \n",
            "y:  (27075,)\n"
          ],
          "name": "stdout"
        }
      ]
    },
    {
      "cell_type": "code",
      "metadata": {
        "scrolled": false,
        "colab": {
          "base_uri": "https://localhost:8080/"
        },
        "id": "OzCo82zB8TSR",
        "outputId": "de34f332-933b-4d0c-b50a-f061471cfc48"
      },
      "source": [
        "'''\n",
        "X[0,0]: detailed_description\n",
        "X[0,1]: about_the_game\n",
        "X[0,2]: short_description\n",
        "'''\n",
        "# 1er jeu du fichier steam.csv\n",
        "print('1er jeu du dataset:\\n',X[0])\n",
        "# son label\n",
        "print('\\nLabel: ',y[0])"
      ],
      "execution_count": null,
      "outputs": [
        {
          "output_type": "stream",
          "text": [
            "1er jeu du dataset:\n",
            " [\"Play the world's number 1 online action game. Engage in an incredibly realistic brand of terrorist warfare in this wildly popular team-based game. Ally with teammates to complete strategic missions. Take out enemy sites. Rescue hostages. Your role affects your team's success. Your team's success affects your role.\"\n",
            " \"Play the world's number 1 online action game. Engage in an incredibly realistic brand of terrorist warfare in this wildly popular team-based game. Ally with teammates to complete strategic missions. Take out enemy sites. Rescue hostages. Your role affects your team's success. Your team's success affects your role.\"\n",
            " \"Play the world's number 1 online action game. Engage in an incredibly realistic brand of terrorist warfare in this wildly popular team-based game. Ally with teammates to complete strategic missions. Take out enemy sites. Rescue hostages. Your role affects your team's success. Your team's success affects your role.\"]\n",
            "\n",
            "Label:  Action\n"
          ],
          "name": "stdout"
        }
      ]
    },
    {
      "cell_type": "code",
      "metadata": {
        "colab": {
          "base_uri": "https://localhost:8080/"
        },
        "id": "lzXoKkZJ8TSV",
        "outputId": "fc5156cf-7190-438c-b886-7ab75df5ab5c"
      },
      "source": [
        "# exemple d'un jeu dont la description est en chinois?\n",
        "X[24881] "
      ],
      "execution_count": null,
      "outputs": [
        {
          "output_type": "execute_result",
          "data": {
            "text/plain": [
              "array(['《魔塔2018》是一种策略类的RPG游戏。游戏需要动很多脑筋，任何一个轻率的选择都可能导致游戏的失败。<br />\\r\\n<br />\\r\\n魔塔制作精美，道具很多，而且有一定难度，对智商是一次艰巨的考验。<br />\\r\\n<br />\\r\\n所以如果你喜欢挑战，请一定不要错过!魔塔是一款十分经典的游戏,身为勇士的你必须闯过一层又一层的魔塔 最后到达塔顶 救回你那美丽的公主,魔塔里到处都充满着凶残的怪物，我们必须杀死他们。',\n",
              "       '《魔塔2018》是一种策略类的RPG游戏。游戏需要动很多脑筋，任何一个轻率的选择都可能导致游戏的失败。<br />\\r\\n<br />\\r\\n魔塔制作精美，道具很多，而且有一定难度，对智商是一次艰巨的考验。<br />\\r\\n<br />\\r\\n所以如果你喜欢挑战，请一定不要错过!魔塔是一款十分经典的游戏,身为勇士的你必须闯过一层又一层的魔塔 最后到达塔顶 救回你那美丽的公主,魔塔里到处都充满着凶残的怪物，我们必须杀死他们。',\n",
              "       '这是一款策略类的RPG游戏，通过你的判断与计算和怪物战斗，打败他们救出公主，赢得胜利。'], dtype=object)"
            ]
          },
          "metadata": {
            "tags": []
          },
          "execution_count": 9
        }
      ]
    },
    {
      "cell_type": "markdown",
      "metadata": {
        "id": "C4JZoP8D8TSX"
      },
      "source": [
        "### Fonctions"
      ]
    },
    {
      "cell_type": "code",
      "metadata": {
        "id": "RksRuQG48TSY"
      },
      "source": [
        "def delete_no_english(X, y):\n",
        "    steam_langage = steam[steam.columns[3]].values\n",
        "    cpt = 0\n",
        "    new_X = []\n",
        "    new_y = []\n",
        "    N = X.shape[0]\n",
        "    for i in range(N):\n",
        "        # si le jeu n'est pas en anglais\n",
        "        if(steam_langage[i] == 1):\n",
        "            new_X.append(X[i])\n",
        "            new_y.append(y[i])\n",
        "        else:\n",
        "            cpt += 1\n",
        "    print(cpt,\" jeux ont été enlevés\\n\")\n",
        "    return np.array(new_X), np.array(new_y)\n",
        "\n",
        "def html(s):\n",
        "    split = s.split('<')\n",
        "    # on le split à nouveau avec la balise fermante\n",
        "    s_without_HTML = \"\"\n",
        "    # supprimer html\n",
        "    for i in range(len(split)):\n",
        "        split[i] = split[i].split('>')\n",
        "        if(i == 0):\n",
        "            s_without_HTML += split[i][0]\n",
        "        elif(len(split[i]) > 1 and split[i][1] != \"\"):\n",
        "            if(split[i][1][0] == \" \"):\n",
        "                s_without_HTML += split[i][1]\n",
        "            else:\n",
        "                s_without_HTML += \" \" + split[i][1]\n",
        "    return s_without_HTML\n",
        "\n",
        "def replace(s, new_values):\n",
        "    N = len(new_values)\n",
        "    for i in range(N):\n",
        "        s = s.replace(new_values[i][0], new_values[i][1])\n",
        "    return s\n",
        "\n",
        "def brackets(s):\n",
        "    brackets = np.array([['(', ')'], ['[', ']'], ['{', '}']])\n",
        "    N = len(brackets)\n",
        "    for b in range(N):\n",
        "        split = s.split(brackets[b,0])\n",
        "        s_without_brackets = \"\"\n",
        "        for k in range(len(split)):\n",
        "            split[k] = split[k].split(brackets[b,1])\n",
        "            if(k == 0):\n",
        "                s_without_brackets += split[k][0]\n",
        "            elif(len(split[k]) > 1 and split[k][1] != ''):\n",
        "                if(split[k][1][0] == ' '):\n",
        "                    s_without_brackets += split[k][1]\n",
        "                else:\n",
        "                    s_without_brackets += \" \" + split[k][1]\n",
        "        s = s_without_brackets\n",
        "    return s\n",
        "\n",
        "def character(s, characters):\n",
        "    # les éléments de characters seront remplacés par un espace \" \"\n",
        "    translation = str.maketrans({i:\" \" for i in characters})\n",
        "    # on sépare les mots et on les met dans la liste X_split\n",
        "    split = s.split(' ')\n",
        "    s_without_link = \"\"\n",
        "    for i in split:\n",
        "        # on vérifie que chaque mot ne contient pas 'http' ou 'www'\n",
        "        if(not 'http' in i and not 'www' in i):\n",
        "            s_without_link += i + \" \"\n",
        "        # on supprime les caractères à supprimer\n",
        "    return s_without_link.translate(translation)\n",
        "\n",
        "def backslashes(s):\n",
        "    l = ['\\x91','\\x92','\\x94','\\x93','\\x97','\\x96','\\x80','\\x99','\\x98','\\xad','\\x7f','\\u200b','\\u200f','\\ufeff','/','\\n',\n",
        "        '\\t','\\r']\n",
        "    for i in l:\n",
        "        s = s.replace(i, \" \")\n",
        "    return s\n",
        "\n",
        "def numbers_lowerCase(s):\n",
        "    s_without_numbers = \"\"\n",
        "    N = len(s)\n",
        "    for i in range(N):\n",
        "        if(s[i].isdigit()):\n",
        "            s_without_numbers += \" \"\n",
        "        else:\n",
        "            s_without_numbers += s[i]\n",
        "    return s_without_numbers.lower()\n",
        "\n",
        "def stopword(s, stopwords):\n",
        "    modif = False\n",
        "    split = s.split(\" \")\n",
        "    s_without_stopwords = \"\"\n",
        "    for i in split:\n",
        "        if(i not in stopwords):\n",
        "            s_without_stopwords += i + \" \"\n",
        "    split = s_without_stopwords.split(\" \")\n",
        "    s_without_one_letter_words = \"\"\n",
        "    N = len(split)\n",
        "    for i in range(N):\n",
        "        if(len(split[i]) > 1 and split[i] != \" \"):\n",
        "            modif = True\n",
        "            if(i == N - 1): # dernier élement donc on ne met pas d'espace\n",
        "                s_without_one_letter_words += split[i]\n",
        "            else:\n",
        "                s_without_one_letter_words += split[i] + \" \"\n",
        "    N = len(s_without_one_letter_words)\n",
        "    # on vérifie que le dernier caractère n'est pas un espace\n",
        "    if(modif and s_without_one_letter_words[N-1] == \" \"):\n",
        "        s_without_one_letter_words = s_without_one_letter_words[:N-1]\n",
        "    return s_without_one_letter_words\n",
        "\n",
        "def clear_string(s, replacement, characters, stopwords):\n",
        "    return stopword(numbers_lowerCase(backslashes(character(brackets(replace(html(s), replacement)), characters))), stopwords)\n",
        "\n",
        "def clear_all_data(X, replacement, characters, stopwords):\n",
        "    N = X.shape[0]\n",
        "    D = X.shape[1]\n",
        "    for i in range(N):\n",
        "        for j in range(D):\n",
        "            X[i,j] = clear_string(X[i,j], replacement, characters, stopwords)\n",
        "        \n",
        "def delete_no_ascii(X, y):\n",
        "    new_X = []\n",
        "    new_y = []\n",
        "    cpt=0\n",
        "    for i in range(len(X)):\n",
        "        # indique si il y a des caractères non ascii\n",
        "        no_ascii = True\n",
        "        for e in X[i]:\n",
        "            # si le caractères n'est pas ascii\n",
        "            if(re.sub('[ -~]', '', e) != \"\"):\n",
        "                no_ascii = False\n",
        "        if(no_ascii):\n",
        "            new_X.append(X[i])\n",
        "            new_y.append(y[i])\n",
        "        else:\n",
        "            cpt += 1\n",
        "    print(cpt,\" jeux ont été enlevés\\n\")\n",
        "    return np.array(new_X), np.array(new_y)\n",
        "\n",
        "def remove_genres(X, y, tokenized=False):\n",
        "    N = X.shape[0]\n",
        "    D = X.shape[1]\n",
        "    genres = get_labels(y)\n",
        "    for i in range(N):\n",
        "        for j in range(D):\n",
        "            if(tokenized):\n",
        "                for k in X[i,j]:\n",
        "                    if(k in genres):\n",
        "                        X[i,j].remove(k)\n",
        "            else:\n",
        "                X_split = X[i,j].split(\" \")\n",
        "                for k in X_split:\n",
        "                    if(k in genres):\n",
        "                        X[i,j] = X[i,j].replace(k, \"\")\n",
        "                        \n",
        "def lemmatize(X, tokenize=False):\n",
        "    N = X.shape[0]\n",
        "    D = X.shape[1]\n",
        "    new_X = np.empty((N, D), object)\n",
        "    lemmatizer = WordNetLemmatizer()\n",
        "    for i in range(N):\n",
        "        for j in range(D):\n",
        "            X_split = X[i,j].split(\" \")  \n",
        "            X_lemmatized = \"\"\n",
        "            for k in range(len(X_split)):\n",
        "                if(k == len(X_split) - 1):\n",
        "                    X_lemmatized += lemmatizer.lemmatize(X_split[k], wordnet.VERB)\n",
        "                else:\n",
        "                    X_lemmatized += lemmatizer.lemmatize(X_split[k], wordnet.VERB) + \" \"\n",
        "            if(tokenize):\n",
        "                new_X[i,j] = X_lemmatized.split(\" \")\n",
        "            else:\n",
        "                new_X[i,j] = X_lemmatized\n",
        "    return new_X\n",
        "\n",
        "# renvoi la liste des labels contenus dans y\n",
        "def get_labels(y):\n",
        "    labels = []\n",
        "    N = y.shape[0]\n",
        "    for i in range(N):\n",
        "        y_split = y[i].split(\" \")\n",
        "        for j in y_split:\n",
        "            if(j not in labels and j != \" \"):\n",
        "                labels.append(j)\n",
        "    return np.array(labels)\n",
        "\n",
        "def rename_labels(y):\n",
        "    N = y.shape[0]\n",
        "    characters = [\"&\", \";\"]\n",
        "    translation = str.maketrans({i:\" \" for i in characters})\n",
        "    for i in range(N):\n",
        "        y[i] = y[i].translate(translation).lower()\n",
        "        y[i] = y[i].replace(\"free to play\", \"free\")\n",
        "        y[i] = y[i].replace(\"animation   modeling\", \"animation\")\n",
        "        y[i] = y[i].replace(\"video production\", \"video\")\n",
        "        y[i] = y[i].replace(\"massively multiplayer\", \"multiplayer\")\n",
        "        y[i] = y[i].replace(\"early access\", \"early\")\n",
        "        y[i] = y[i].replace(\"design   illustration\", \"design\")\n",
        "        y[i] = y[i].replace(\"web publishing\", \"web\")\n",
        "        y[i] = y[i].replace(\"software training\", \"software\")\n",
        "        y[i] = y[i].replace(\"sexual content\", \"sexual\")\n",
        "        y[i] = y[i].replace(\"audio production\", \"audio\")\n",
        "        y[i] = y[i].replace(\"game development\", \"development\")\n",
        "        y[i] = y[i].replace(\"photo editing\", \"photo\")\n",
        "        #y[i] = y[i].replace(\"rpg\", \"role\")\n",
        "        \n",
        "def keep_first_label_only(y):\n",
        "    N = y.shape[0]\n",
        "    new_y = []\n",
        "    for i in range(N):\n",
        "        y_split = y[i].split(\" \")\n",
        "        new_y.append(y_split[0])\n",
        "    return np.array(new_y)\n",
        "\n",
        "def prepro(X, y, replacement, character, stopwords):\n",
        "    print(\"Preprocessing: environ 3m\\n\\nSuppression des jeux non anglais: \")\n",
        "    X, y = delete_no_english(X, y)\n",
        "    print(\"✔\\n\")\n",
        "    print(\"Nettoyage du texte: \")\n",
        "    clear_all_data(X, replacement, character, stopwords)\n",
        "    print(\"✔\\n\")\n",
        "    print(\"Suppression des caractères non ASCII restants: \")\n",
        "    X, y = delete_no_ascii(X, y)\n",
        "    print(\"✔\\n\")\n",
        "    print(\"Renommage des labels: \")\n",
        "    rename_labels(y)\n",
        "    print(\"✔\\n\")\n",
        "    return X, y\n",
        "\n",
        "# sélectionne aléatoirement nb données dans le dataset\n",
        "def select_data(X, y, nb):\n",
        "    new_X = np.empty((nb, X.shape[1]), object)\n",
        "    new_y = np.array([])\n",
        "    N = X.shape[0]\n",
        "    index = np.arange(N)\n",
        "    for i in range(nb):\n",
        "        r = random.randint(0, len(index)-1)\n",
        "        new_X[i] = X[r]\n",
        "        new_y = np.append(new_y, y[r])\n",
        "        index = np.delete(index, r)\n",
        "    return new_X, new_y"
      ],
      "execution_count": null,
      "outputs": []
    },
    {
      "cell_type": "code",
      "metadata": {
        "id": "5jsz9-QX8TSe"
      },
      "source": [
        "replacement = np.array([[\"ê\",\"e\"],[\"é\",\"e\"],[\"è\",\"e\"],[\"ë\",\"e\"],[\"à\",\"a\"],[\"ä\",\"a\"],[\"ä\",\"a\"],[\"å\",\"a\"],[\"ł\",\"l\"],\n",
        "                        [\"ü\",\"u\"],[\"û\",\"u\"],[\"ö\",\"o\"],[\"ô\",\"o\"],[\"Ö\",\"o\"],[\"ò\",\"o\"],[\"í\",\"i\"],[\"ï\",\"i\"],[\"î\",\"i\"],[\"Ã\",\"a\"],\n",
        "                        [\"Ä\",\"a\"],[\"ž\",\"z\"],[\"ì\",\"i\"],[\"Ñ\",\"n\"],[\"ñ\",\"n\"],[\"á\",\"a\"],[\"ø\",\"o\"],[\"Á\",\"a\"],[\"á\",\"a\"],\n",
        "                        [\"Ü\",\"u\"],[\"ō\",\"o\"],[\"ú\",\"u\"],[\"ã\",\"a\"],[\"É\",\"e\"],[\"×\",\"x\"],[\"Ó\",\"o\"],[\"С\",\"c\"],[\"、\",\",\"],\n",
        "                        [\"ɑ\",\"a\"],[\"ñ\",\"n\"],[\"ũ\",\"u\"],[\"ó\",\"o\"],[\"â\",\"a\"],[\"Û\",\"u\"],[\"ū\",\"u\"],[\"õ\",\"o\"],[\"，\",\",\"],\n",
        "                        [\"ń\",\"n\"],[\"х\",\"x\"],[\"А\",\"a\"],[\"с\",\"c\"],[\"Ś\",\"s\"],[\"Т\",\"t\"],[\"a\",\"a\"]])\n",
        "\n",
        "character_to_delete = np.array(['•','€','™','*','-','–','¢','˜','«','»','®','+','µ','·','¹','¬','º','½','±','©','§','ª','ƒ',\n",
        "                              '¿','Ð','¸','¼','Ø','¨','æ','‡','“','”','ç','¥','œ','´','#','—','‘','…', '²', '●', '³', '・',\n",
        "                                '∞','√','∼','✢','※','◾','■','★','➠','―','„','✓','▶','◆','ລ','▪','♪','♞','♥','Ω','α',\n",
        "                                'Λ','♫','「','」','：','◕','_','つ','༽','༼','⚠','✔','』','『','►','☆','℗','✗','✪','†','《',\n",
        "                                '》','一','。','～','‐','″','↑','@','◉','♂','♀','＊','【','】','＊','＜','＞','→','↓','←',\n",
        "                                '①','②','③','▽','△','○','Ⅶ','□','（','）','%','Ⅱ','~','°','&',',', '!', '?', ':', '.', ';',\n",
        "                                '\"',\"'\",'′','’','＋','=','|','~','^', '@','$'])\n",
        "\n",
        "stopwords = np.loadtxt(\"stopwords.txt\",str)"
      ],
      "execution_count": null,
      "outputs": []
    },
    {
      "cell_type": "code",
      "metadata": {
        "scrolled": false,
        "colab": {
          "base_uri": "https://localhost:8080/"
        },
        "id": "QG6D3jOL8TSm",
        "outputId": "7e7846bd-46b9-4440-dd42-9a15066c0432"
      },
      "source": [
        "# remove_genre indique s'il faut supprimer les occurences des labels dans les descriptions\n",
        "X, y = prepro(X, y, replacement, character_to_delete, stopwords)"
      ],
      "execution_count": null,
      "outputs": [
        {
          "output_type": "stream",
          "text": [
            "Preprocessing: environ 3m\n",
            "\n",
            "Suppression des jeux non anglais: \n",
            "511  jeux ont été enlevés\n",
            "\n",
            "✔\n",
            "\n",
            "Nettoyage du texte: \n",
            "✔\n",
            "\n",
            "Suppression des caractères non ASCII restants: \n",
            "659  jeux ont été enlevés\n",
            "\n",
            "✔\n",
            "\n",
            "Renommage des labels: \n",
            "✔\n",
            "\n"
          ],
          "name": "stdout"
        }
      ]
    },
    {
      "cell_type": "code",
      "metadata": {
        "colab": {
          "base_uri": "https://localhost:8080/"
        },
        "id": "HRJAg_yS8TSp",
        "outputId": "80878e5f-24ac-43f6-e4cf-8e525de67a60"
      },
      "source": [
        "print('X: ',X.shape,'\\ny: ',y.shape)"
      ],
      "execution_count": null,
      "outputs": [
        {
          "output_type": "stream",
          "text": [
            "X:  (25905, 3) \n",
            "y:  (25905,)\n"
          ],
          "name": "stdout"
        }
      ]
    },
    {
      "cell_type": "code",
      "metadata": {
        "colab": {
          "base_uri": "https://localhost:8080/"
        },
        "id": "TA7zSvEa8TSp",
        "outputId": "779df107-b252-4a96-e7a1-11ead6290078"
      },
      "source": [
        "# premier jeu du dataset:\n",
        "X[0], y[0]"
      ],
      "execution_count": null,
      "outputs": [
        {
          "output_type": "execute_result",
          "data": {
            "text/plain": [
              "(array(['world online action game engage incredibly realistic brand terrorist warfare wildly popular team based game ally teammates complete strategic missions enemy sites rescue hostages role affects team success team success affects role',\n",
              "        'world online action game engage incredibly realistic brand terrorist warfare wildly popular team based game ally teammates complete strategic missions enemy sites rescue hostages role affects team success team success affects role',\n",
              "        'world online action game engage incredibly realistic brand terrorist warfare wildly popular team based game ally teammates complete strategic missions enemy sites rescue hostages role affects team success team success affects role'],\n",
              "       dtype=object), 'action')"
            ]
          },
          "metadata": {
            "tags": []
          },
          "execution_count": 14
        }
      ]
    },
    {
      "cell_type": "markdown",
      "metadata": {
        "id": "S28CVM678TSr"
      },
      "source": [
        "Pour le préprocessing nous effectuons les tâches suivantes:\n",
        "- on enlève les jeux qui ne sont pas étiquetés 'english'\n",
        "- certains caractères non reconnus sont remplacés par un caractère ASCII équivalent\n",
        "- certains caractères non ASCII et les liens sont supprimés\n",
        "- on supprime le code HTML, les différents types de parenthèses et leur contenu, les backslashes et les slashes\n",
        "- on supprime tous les nombres\n",
        "- les majuscules sont transformées en minuscules\n",
        "- on supprime les jeux dont les descriptions contiennent encore des caractères non ASCII\n",
        "- on supprime les stopwords, ce sont des mots qui n'ont pas d'intérêt ou de réelle signification\n",
        "- on supprime les caractères isolés (pour le mot '3d', le '3' a été supprimé donc on supprime aussi le 'd')\n",
        "- on renomme certains labels ('free to play' devient 'free', etc..) et on ne garde que le premier de chaque jeu\n",
        "- on effectue la lemmatisation\n",
        "\n",
        "On ne supprime pas tous les jeux dont une des description contient des caractères non ASCII car certains jeux n'ont que quelques caractères de ce type dans leurs descriptions, il suffit juste de les remplacer ou de les enlever mais ce n'est pas nécessaire de retirer le jeu du dataset. Une fois qu'on a fait ce tri on retire tous les jeux qui contiennent encore des caractères non ASCII (il n'en reste plus beaucoup), il reste par exemple les descriptions en alphabet russe, caractères chinois... On \"sauve\" environ 10000 jeux dans la dataset comme ça.\n",
        "\n",
        "La lemmatisation est un traitement lexical sur le texte, par exemple les mots suivants seront transformés comme ça (ce qui rend les choses plus simple pour le modèle):\n",
        "- les mots au pluriel sont mis au singulier: feet -> foot, cars -> car\n",
        "- les verbes sont mis à l'infinitif: working -> work\n",
        "- etc\n",
        "\n",
        "Pour la lemmatisation on peut en plus transformer les descriptions en listes de mots ou bien les laisser en string (on choisit avec le paramètre tokenize). La phrase 'fate hero hands stranger planet occasion return finally stays decides local people' devient après lemmatisation:\n",
        "- 'fate hero hand stranger planet occasion return finally stay decide local people' : sans tokenize  \n",
        "\n",
        "- ['fate', 'hero', 'hand', 'stranger', 'planet', 'occasion', 'return', 'finally', 'stay', 'decide', 'local', 'people'] : avec tokenize\n",
        "\n",
        "Certains jeux ont plusieurs labels, on ne sait pas si c'est possible de prédire plusieurs mots avec le modèle donc nous avons choisis de ne prendre que le 1er genre du jeu (les genres ne sont pas mis dans l'ordre alphabétique pour les jeux qui en ont plusieurs on peut donc supposer que le genre qui apparaît en premier est le \"principal\" du jeu). On utilise pour ça la fonction keep_first_label_only(y)"
      ]
    },
    {
      "cell_type": "code",
      "metadata": {
        "id": "YKl0E06U8TSs"
      },
      "source": [
        "# Lemmatisation\n",
        "\n",
        "# Pour que les descriptions soient des listes de mots\n",
        "X_tokenized = lemmatize(X, tokenize=True)\n",
        "\n",
        "# Pour laisser les descriptions en chaînes de caractères\n",
        "X_not_tokenized = lemmatize(X)"
      ],
      "execution_count": null,
      "outputs": []
    },
    {
      "cell_type": "code",
      "metadata": {
        "colab": {
          "base_uri": "https://localhost:8080/"
        },
        "id": "TMNjWC3b8TSt",
        "outputId": "9bf348de-ad27-428a-885f-9056acc59b55"
      },
      "source": [
        "# Voilà ce qu'on obtient sur le 1er jeu avec X_tokenized\n",
        "print('X_tokenized[0]:\\n', X_tokenized[0])"
      ],
      "execution_count": null,
      "outputs": [
        {
          "output_type": "stream",
          "text": [
            "X_tokenized[0]:\n",
            " [list(['world', 'online', 'game', 'engage', 'incredibly', 'realistic', 'brand', 'terrorist', 'warfare', 'wildly', 'popular', 'team', 'base', 'game', 'ally', 'teammates', 'complete', 'strategic', 'missions', 'enemy', 'sit', 'rescue', 'hostages', 'role', 'affect', 'team', 'success', 'team', 'success', 'affect', 'role'])\n",
            " list(['world', 'online', 'game', 'engage', 'incredibly', 'realistic', 'brand', 'terrorist', 'warfare', 'wildly', 'popular', 'team', 'base', 'game', 'ally', 'teammates', 'complete', 'strategic', 'missions', 'enemy', 'sit', 'rescue', 'hostages', 'role', 'affect', 'team', 'success', 'team', 'success', 'affect', 'role'])\n",
            " list(['world', 'online', 'game', 'engage', 'incredibly', 'realistic', 'brand', 'terrorist', 'warfare', 'wildly', 'popular', 'team', 'base', 'game', 'ally', 'teammates', 'complete', 'strategic', 'missions', 'enemy', 'sit', 'rescue', 'hostages', 'role', 'affect', 'team', 'success', 'team', 'success', 'affect', 'role'])]\n"
          ],
          "name": "stdout"
        }
      ]
    },
    {
      "cell_type": "code",
      "metadata": {
        "colab": {
          "base_uri": "https://localhost:8080/"
        },
        "id": "S5DT0YXN8TSu",
        "outputId": "dcb3182b-c4f3-4d7f-9c49-ad63e9993620"
      },
      "source": [
        "# Voilà ce qu'on obtient sur le 1er jeu avec X_not_tokenized\n",
        "print('\\nX_not_tokenized[0]:\\n', X_not_tokenized[0])"
      ],
      "execution_count": null,
      "outputs": [
        {
          "output_type": "stream",
          "text": [
            "\n",
            "X_not_tokenized[0]:\n",
            " ['world online action game engage incredibly realistic brand terrorist warfare wildly popular team base game ally teammates complete strategic missions enemy sit rescue hostages role affect team success team success affect role'\n",
            " 'world online action game engage incredibly realistic brand terrorist warfare wildly popular team base game ally teammates complete strategic missions enemy sit rescue hostages role affect team success team success affect role'\n",
            " 'world online action game engage incredibly realistic brand terrorist warfare wildly popular team base game ally teammates complete strategic missions enemy sit rescue hostages role affect team success team success affect role']\n"
          ],
          "name": "stdout"
        }
      ]
    },
    {
      "cell_type": "code",
      "metadata": {
        "colab": {
          "base_uri": "https://localhost:8080/"
        },
        "id": "lPUBN05S8TSw",
        "outputId": "17f1c681-24ad-495e-b4f9-7a8cfc89b67b"
      },
      "source": [
        "# Labels\n",
        "print('Tous les labels: \\n', get_labels(y))\n",
        "print('Il y a ', len(get_labels(y)), ' labels uniques\\n')\n",
        "\n",
        "# Pour ne garder que le premier genre d'un jeu\n",
        "y_first = keep_first_label_only(y)\n",
        "print(\"Tous les labels: \\n\", get_labels(y_first))\n",
        "print('Il y a ', len(get_labels(y_first)), ' labels uniques si on ne prends que les 1er de chaque jeu\\n')"
      ],
      "execution_count": null,
      "outputs": [
        {
          "output_type": "stream",
          "text": [
            "Tous les labels: \n",
            " ['action' 'free' 'strategy' 'adventure' 'indie' 'rpg' 'animation' 'video'\n",
            " 'casual' 'simulation' 'racing' 'violent' 'multiplayer' 'nudity' 'sports'\n",
            " 'early' 'gore' 'utilities' 'design' 'web' 'education' 'software' 'sexual'\n",
            " 'audio' 'development' 'photo' 'accounting' 'documentary' 'tutorial']\n",
            "Il y a  29  labels uniques\n",
            "\n",
            "Tous les labels: \n",
            " ['action' 'indie' 'strategy' 'rpg' 'animation' 'casual' 'simulation'\n",
            " 'racing' 'adventure' 'violent' 'nudity' 'free' 'sports' 'gore'\n",
            " 'multiplayer' 'utilities' 'design' 'education' 'web' 'sexual' 'audio'\n",
            " 'photo' 'early' 'accounting' 'video' 'software']\n",
            "Il y a  26  labels uniques si on ne prends que les 1er de chaque jeu\n",
            "\n"
          ],
          "name": "stdout"
        }
      ]
    },
    {
      "cell_type": "markdown",
      "metadata": {
        "id": "oreccat08TSy"
      },
      "source": [
        "## Debut visualisation"
      ]
    },
    {
      "cell_type": "code",
      "metadata": {
        "colab": {
          "base_uri": "https://localhost:8080/"
        },
        "id": "eOnZS_3h8TS7",
        "outputId": "3878e2b2-bead-49bf-8a9a-515d7dcbed70"
      },
      "source": [
        "def get_labels_list(y):\n",
        "    labels = []\n",
        "    N = y.shape[0]\n",
        "    for i in range(N):\n",
        "        y_split = y[i].split(\" \")\n",
        "        for j in y_split:\n",
        "            if(j != \" \"):\n",
        "                labels.append(j)\n",
        "    return np.array(labels)\n",
        "\n",
        "print(y)\n",
        "print(get_labels_list(y))"
      ],
      "execution_count": null,
      "outputs": [
        {
          "output_type": "stream",
          "text": [
            "['action' 'action' 'action' ... 'action casual indie'\n",
            " 'adventure casual indie' 'adventure casual indie']\n",
            "['action' 'action' 'action' ... 'adventure' 'casual' 'indie']\n"
          ],
          "name": "stdout"
        }
      ]
    },
    {
      "cell_type": "code",
      "metadata": {
        "colab": {
          "base_uri": "https://localhost:8080/"
        },
        "id": "lEgYaDsZ8TS8",
        "outputId": "89e2f0ad-9697-499e-fc91-221d4e9bdfcd"
      },
      "source": [
        "#fonction qui prend en param:\n",
        "#liste y du dataset (taille=76k)\n",
        "#et liste des 26 genres qui existent sans duplication (taille=26)\n",
        "def genre_count(y, genres):\n",
        "    list_genre_count = []\n",
        "    for genre in genres:\n",
        "        count=0\n",
        "        for genre2 in y:\n",
        "            if genre==genre2:\n",
        "                count+=1\n",
        "        list_genre_count.append(count)\n",
        "    return list_genre_count\n",
        "\n",
        "genreLabels = get_labels(y_first)\n",
        "list_genre_count=genre_count(get_labels_list(y), genreLabels)\n",
        "print(list_genre_count)"
      ],
      "execution_count": null,
      "outputs": [
        {
          "output_type": "stream",
          "text": [
            "[11542, 18611, 4984, 3944, 76, 9799, 4949, 988, 9522, 806, 243, 1604, 1284, 511, 685, 140, 85, 50, 27, 223, 27, 11, 2819, 5, 35, 30]\n"
          ],
          "name": "stdout"
        }
      ]
    },
    {
      "cell_type": "code",
      "metadata": {
        "colab": {
          "base_uri": "https://localhost:8080/",
          "height": 669
        },
        "id": "jlTfAvkX8TS9",
        "outputId": "549bdd63-8b32-4246-a9a9-41b384fd8517"
      },
      "source": [
        "plt.figure(figsize=(13, 10))\n",
        "# Bar chart\n",
        "sns.set(font_scale=1.5) #taille du texte\n",
        "sns.barplot(x=list_genre_count, y=genreLabels)\n",
        "plt.xlabel(\"Nombre de jeux vidéos\")\n",
        "plt.ylabel(\"Genres de jeux vidéos\")\n",
        "sns.set(font_scale=2)\n",
        "plt.title(\"Nombre de jeux par genre\")"
      ],
      "execution_count": null,
      "outputs": [
        {
          "output_type": "execute_result",
          "data": {
            "text/plain": [
              "Text(0.5, 1.0, 'Nombre de jeux par genre')"
            ]
          },
          "metadata": {
            "tags": []
          },
          "execution_count": 21
        },
        {
          "output_type": "display_data",
          "data": {
            "image/png": "[encoded data removed]",
            "text/plain": [
              "<Figure size 936x720 with 1 Axes>"
            ]
          },
          "metadata": {
            "tags": [],
            "needs_background": "light"
          }
        }
      ]
    },
    {
      "cell_type": "code",
      "metadata": {
        "id": "pZS9QOyR6b4b"
      },
      "source": [
        "def count_genre_in_description(X, y, tokenized=False):\n",
        "    N = X.shape[0]\n",
        "    D = X.shape[1]\n",
        "    genres = y\n",
        "    count=0\n",
        "    for i in range(N):\n",
        "        for j in range(D):\n",
        "            if(tokenized):\n",
        "                for k in X[i,j]:\n",
        "                    if(k in genres[i]):\n",
        "                        count+=1\n",
        "                        break #on compte seulement 1 fois si un jeu a son genre en description\n",
        "                              #peu importe si la description contient le genre une ou plusieurs fois\n",
        "            else:\n",
        "                X_split = X[i,j].split(\" \")\n",
        "                for k in X_split:\n",
        "                    if(k in genres[i]):\n",
        "                        count+=1\n",
        "                        break #on compte seulement 1 fois si un jeu a son genre en description\n",
        "                              #peu importe si la description contient le genre une ou plusieurs fois\n",
        "    return count"
      ],
      "execution_count": null,
      "outputs": []
    },
    {
      "cell_type": "code",
      "metadata": {
        "id": "hO60CehS6p88"
      },
      "source": [
        "# tokkenized est à True car on utilise X_tokkenized\n",
        "nb_jeu_avec_genre_en_description=count_genre_in_description(X_tokenized, y_first, tokenized=True)\n",
        "nb_jeu_total=len(y_first)"
      ],
      "execution_count": null,
      "outputs": []
    },
    {
      "cell_type": "code",
      "metadata": {
        "colab": {
          "base_uri": "https://localhost:8080/",
          "height": 486
        },
        "id": "wNxCNUje7VMR",
        "outputId": "f6bf2837-4f5f-4202-9410-3c9f58b4c3c8"
      },
      "source": [
        "plt.figure(figsize=(12, 6))\n",
        "\n",
        "x_bar = ['Nombre de jeux contenant \\nleur genre en description', 'Nombre de jeux au total']\n",
        "y_bar = [nb_jeu_avec_genre_en_description, nb_jeu_total]\n",
        "\n",
        "sns.barplot(x_bar, y_bar)"
      ],
      "execution_count": null,
      "outputs": [
        {
          "output_type": "stream",
          "text": [
            "/usr/local/lib/python3.7/dist-packages/seaborn/_decorators.py:43: FutureWarning: Pass the following variables as keyword args: x, y. From version 0.12, the only valid positional argument will be `data`, and passing other arguments without an explicit keyword will result in an error or misinterpretation.\n",
            "  FutureWarning\n"
          ],
          "name": "stderr"
        },
        {
          "output_type": "execute_result",
          "data": {
            "text/plain": [
              "<matplotlib.axes._subplots.AxesSubplot at 0x7f05687379d0>"
            ]
          },
          "metadata": {
            "tags": []
          },
          "execution_count": 24
        },
        {
          "output_type": "display_data",
          "data": {
            "image/png": "[encoded data removed]",
            "text/plain": [
              "<Figure size 864x432 with 1 Axes>"
            ]
          },
          "metadata": {
            "tags": []
          }
        }
      ]
    },
    {
      "cell_type": "markdown",
      "metadata": {
        "id": "khjbVctD8TS_"
      },
      "source": [
        "## Fin visualisation"
      ]
    },
    {
      "cell_type": "markdown",
      "metadata": {
        "id": "tEq1Mscb8TTB"
      },
      "source": [
        "### Ensembles d'entraînement et de test"
      ]
    },
    {
      "cell_type": "code",
      "metadata": {
        "id": "2f862k4D8TTG"
      },
      "source": [
        "# on choisit d'utiliser 10000 jeux du dataset (sélectionnés aléatoirement) avec X_tokenized et en ne prenant que le 1er label\n",
        "X1, y1 = select_data(X_tokenized, y_first, 10000)\n",
        "\n",
        "# tokkenized est à True car on utilise X_tokkenized\n",
        "remove_genres(X1, y1, tokenized=True)"
      ],
      "execution_count": null,
      "outputs": []
    },
    {
      "cell_type": "code",
      "metadata": {
        "colab": {
          "base_uri": "https://localhost:8080/"
        },
        "id": "dfnQCID58TTH",
        "outputId": "fad52db3-7d0a-4efa-d10d-46fe597e1a8b"
      },
      "source": [
        "seed = 7\n",
        "# pourcentage du dataset utilisé pour l'ensemble de test\n",
        "test_ratio = 0.3\n",
        "\n",
        "X_train, X_test, y_train, y_test = train_test_split(X1, y1, test_size=test_ratio, train_size=1-test_ratio,\n",
        "                                                    random_state=seed)\n",
        "\n",
        "print('X_train: ',X_train.shape,'\\ny_train: ',y_train.shape,'\\n\\nX_test: ',X_test.shape,'\\ny_test: ',y_test.shape)\n",
        "print(\"\\nL'ensemble d'entraînement possède des jeux de \",len(get_labels(y_train)), \" classes différentes\")"
      ],
      "execution_count": null,
      "outputs": [
        {
          "output_type": "stream",
          "text": [
            "X_train:  (7000, 3) \n",
            "y_train:  (7000,) \n",
            "\n",
            "X_test:  (3000, 3) \n",
            "y_test:  (3000,)\n",
            "\n",
            "L'ensemble d'entraînement possède des jeux de  25  classes différentes\n"
          ],
          "name": "stdout"
        }
      ]
    },
    {
      "cell_type": "code",
      "metadata": {
        "scrolled": false,
        "colab": {
          "base_uri": "https://localhost:8080/"
        },
        "id": "Gt9sWJnk8TTI",
        "outputId": "f4f63f3b-d794-4126-e885-6fb883d4d941"
      },
      "source": [
        "X_train, y_train"
      ],
      "execution_count": null,
      "outputs": [
        {
          "output_type": "execute_result",
          "data": {
            "text/plain": [
              "(array([[list(['archotek', 'project', 'focus', 'experience', 'give', 'chance', 'people', 'dedicate', 'servers', 'dinosaur', 'species', 'explore', 'exotic', 'locations', 'map', 'choice', 'role', 'friends', 'create', 'stories', 'stick', 'basics', 'pvp', 'involve', 'deadly', 'fight', 'players', 'version', 'include', 'access', 'public', 'servers', 'map', 'sanctuary', 'vulture', 'plain', 'green', 'valley', 'aran', 'desert', 'playable', 'character', 'camarasaurus', 'deinonychus', 'parasaurolophus', 'psittacosaurus', 'game', 'mode', 'dinosaur', 'full', 'version', 'include', 'access', 'public', 'servers', 'realism', 'server', 'map', 'sanctuary', 'massive', 'map', 'include', 'tropical', 'islands', 'green', 'valley', 'small', 'map', 'players', 'explore', 'meet', 'people', 'powerful', 'build', 'aran', 'desert', 'medium', 'size', 'map', 'represent', 'large', 'desert', 'surround', 'canyons', 'oases', 'vulture', 'plain', 'medium', 'size', 'map', 'large', 'plain', 'cave', 'system', 'redwood', 'forest', 'playable', 'species', 'acrocanthosaurus', 'allosaurus', 'anatosaurus', 'archaeopteryx', 'brachiosaurus', 'camarasaurus', 'ceratosaurus', 'coelophysis', 'deinonychus', 'gallimimus', 'pachycephalosaurus', 'parasaurolophus', 'psittacosaurus', 'spinosaurus', 'stegosaurus', 'styracosaurus', 'triceratops', 'tyrannosaurus', 'game', 'modes', 'dinosaur', 'plan', 'content', 'full', 'game', 'game', 'modes', 'ecosystem', 'ecosystem', 'game', 'mode', 'focus', 'creation', 'maintenance', 'animals', 'environment', 'player', 'unique', 'items', 'create', 'detail', 'habitat', 'effectively', 'satisfy', 'animal', 'ecosystem', 'generate', 'game', 'point', 'manipulate', 'dna', 'genomes', 'drastically', 'change', 'appearance', 'behavior', 'stats', 'animals', 'ecosystem', 'sandbox', 'sandbox', 'players', 'push', 'boundaries', 'creativity', 'game', 'content', 'unlock', 'dinosaur', 'dinosaur', 'players', 'roam', 'custom', 'pre', 'make', 'map', 'animal', 'type', 'game', 'mode', 'customize', 'support', 'survival', 'experience', 'involve', 'dynamic', 'thirst', 'hunger', 'health', 'system', 'ai', 'creatures']),\n",
              "         list(['archotek', 'project', 'focus', 'experience', 'give', 'chance', 'people', 'dedicate', 'servers', 'dinosaur', 'species', 'explore', 'exotic', 'locations', 'map', 'choice', 'role', 'friends', 'create', 'stories', 'stick', 'basics', 'pvp', 'involve', 'deadly', 'fight', 'players', 'version', 'include', 'access', 'public', 'servers', 'map', 'sanctuary', 'vulture', 'plain', 'green', 'valley', 'aran', 'desert', 'playable', 'character', 'camarasaurus', 'deinonychus', 'parasaurolophus', 'psittacosaurus', 'game', 'mode', 'dinosaur', 'full', 'version', 'include', 'access', 'public', 'servers', 'realism', 'server', 'map', 'sanctuary', 'massive', 'map', 'include', 'tropical', 'islands', 'green', 'valley', 'small', 'map', 'players', 'explore', 'meet', 'people', 'powerful', 'build', 'aran', 'desert', 'medium', 'size', 'map', 'represent', 'large', 'desert', 'surround', 'canyons', 'oases', 'vulture', 'plain', 'medium', 'size', 'map', 'large', 'plain', 'cave', 'system', 'redwood', 'forest', 'playable', 'species', 'acrocanthosaurus', 'allosaurus', 'anatosaurus', 'archaeopteryx', 'brachiosaurus', 'camarasaurus', 'ceratosaurus', 'coelophysis', 'deinonychus', 'gallimimus', 'pachycephalosaurus', 'parasaurolophus', 'psittacosaurus', 'spinosaurus', 'stegosaurus', 'styracosaurus', 'triceratops', 'tyrannosaurus', 'game', 'modes', 'dinosaur', 'plan', 'content', 'full', 'game', 'game', 'modes', 'ecosystem', 'ecosystem', 'game', 'mode', 'focus', 'creation', 'maintenance', 'animals', 'environment', 'player', 'unique', 'items', 'create', 'detail', 'habitat', 'effectively', 'satisfy', 'animal', 'ecosystem', 'generate', 'game', 'point', 'manipulate', 'dna', 'genomes', 'drastically', 'change', 'appearance', 'behavior', 'stats', 'animals', 'ecosystem', 'sandbox', 'sandbox', 'players', 'push', 'boundaries', 'creativity', 'game', 'content', 'unlock', 'dinosaur', 'dinosaur', 'players', 'roam', 'custom', 'pre', 'make', 'map', 'animal', 'type', 'game', 'mode', 'customize', 'support', 'survival', 'experience', 'involve', 'dynamic', 'thirst', 'hunger', 'health', 'system', 'ai', 'creatures']),\n",
              "         list(['archotek', 'project', 'focus', 'experience', 'give', 'chance', 'friends', 'people', 'dedicate', 'servers', 'dinosaur', 'explore', 'vibrant', 'exotic', 'locations', 'game', 'take', 'control', 'unique', 'species', 'fossil', 'record'])],\n",
              "        [list(['chris', 'knox', 'leader', 'crew', 'special', 'ops', 'personnel', 'highly', 'skilled', 'hustlers', 'chris', 'team', 'plan', 'pull', 'audacious', 'heist', 'high', 'target', 'fill', 'coffers', 'surreptitious', 'crime', 'syndicate', 'exchange', 'life', 'love', 'mission', 'events', 'drive', 'players', 'plan', 'execute', 'heist', 'inherently', 'create', 'replay', 'ability', 'ample', 'opportunities', 'completionists', 'manage', 'highly', 'skilled', 'team', 'comprise', 'safe', 'cracker', 'demolitions', 'expert', 'hacker', 'getaway', 'driver', 'deploy', 'smoke', 'bomb', 'safe', 'crack', 'tool', 'special', 'equipment', 'ensure', 'successful', 'heist', 'escape', 'job', 'target', 'spread', 'york', 'city', 'boroughs', 'bonus', 'objectives', 'separate', 'notorious', 'master', 'class', 'thief', 'small', 'time', 'crook', 'offer', 'formidable', 'steam', 'achievements', 'knock', 'fat', 'city', 'offer', 'load', 'challenge', 'brainteasers', 'thief']),\n",
              "         list(['chris', 'knox', 'leader', 'crew', 'special', 'ops', 'personnel', 'highly', 'skilled', 'hustlers', 'chris', 'team', 'plan', 'pull', 'audacious', 'heist', 'high', 'target', 'fill', 'coffers', 'surreptitious', 'crime', 'syndicate', 'exchange', 'life', 'love', 'mission', 'events', 'drive', 'players', 'plan', 'execute', 'heist', 'inherently', 'create', 'replay', 'ability', 'ample', 'opportunities', 'completionists', 'manage', 'highly', 'skilled', 'team', 'comprise', 'safe', 'cracker', 'demolitions', 'expert', 'hacker', 'getaway', 'driver', 'deploy', 'smoke', 'bomb', 'safe', 'crack', 'tool', 'special', 'equipment', 'ensure', 'successful', 'heist', 'escape', 'job', 'target', 'spread', 'york', 'city', 'boroughs', 'bonus', 'objectives', 'separate', 'notorious', 'master', 'class', 'thief', 'small', 'time', 'crook', 'offer', 'formidable', 'steam', 'achievements', 'knock', 'fat', 'city', 'offer', 'load', 'challenge', 'brainteasers', 'thief']),\n",
              "         list(['puzzler', 'target', 'spread', 'boroughs', 'york', 'city', 'players', 'cunning', 'brain', 'power', 'plan', 'raid', 'execute', 'getaways', 'pull', 'big', 'buck', 'city', 'sleep'])],\n",
              "        [list(['forward', 'flight', 'base', 'time', 'trial', 'racer', 'set', 'sci', 'fi', 'environment', 'game', 'see', 'fly', 'breakneck', 'speed', 'tunnel', 'pack', 'obstacles', 'avoid', 'order', 'make', 'finish', 'line', 'level']),\n",
              "         list(['forward', 'flight', 'base', 'time', 'trial', 'racer', 'set', 'sci', 'fi', 'environment', 'game', 'see', 'fly', 'breakneck', 'speed', 'tunnel', 'pack', 'obstacles', 'avoid', 'order', 'make', 'finish', 'line', 'level']),\n",
              "         list(['forward', 'flight', 'base', 'time', 'trial', 'racer', 'set', 'sci', 'fi', 'environment', 'game', 'see', 'fly', 'breakneck', 'speed', 'tunnel', 'pack', 'obstacles', 'avoid', 'order', 'make', 'finish', 'line', 'level'])],\n",
              "        ...,\n",
              "        [list(['uncle', 'aaron', 'mysterious', 'lady', 'una', 'marry', 'find', 'wonderful', 'landscape', 'wed', 'ceremony', 'turn', 'decorate', 'challanged', 'collection', 'colorful', 'mosaic', 'puzzle', 'discover', 'image', 'hide', 'logic', 'number', 'guest', 'penguins', 'wed', 'colorful', 'mosaic', 'puzzle', 'interactive', 'island', 'creatures', 'decorate', 'landscape', 'puzzle', 'base', 'logic']),\n",
              "         list(['uncle', 'aaron', 'mysterious', 'lady', 'una', 'marry', 'find', 'wonderful', 'landscape', 'wed', 'ceremony', 'turn', 'decorate', 'challanged', 'collection', 'colorful', 'mosaic', 'puzzle', 'discover', 'image', 'hide', 'logic', 'number', 'guest', 'penguins', 'wed', 'colorful', 'mosaic', 'puzzle', 'interactive', 'island', 'creatures', 'decorate', 'landscape', 'puzzle', 'base', 'logic']),\n",
              "         list(['penguins', 'decorate', 'landscape', 'wed', 'ceremony'])],\n",
              "        [list(['grally', 'project', 'bear', 'passion', 'rbr', 'online', 'team', 'crew', 'slogan', 'dreamexperiencebelieve', 'team', 'put', 'full', 'faith', 'product', 'fruit', 'hard', 'work', 'time', 'wich', 'offer', 'entire', 'community', 'rally', 'simmer', 'grally', 'position', 'official', 'license', 'moment', 'start', 'point', 'limit', 'race', 'cars', 'grally', 'consider', 'character', 'modding', 'orient', 'develop', 'integrate', 'unity', 'tool', 'facilitate', 'insertion', 'creations', 'additional', 'cars', 'track', 'grally', 'basic', 'ideas', 'rbr', 'online', 'expect', 'exceptional', 'dose', 'adrenaline', 'online', 'session', 'compete', 'host', 'players', 'world', 'grally', 'abreast', 'game', 'hardware', 'vr', 'trackir', 'multiscreen', 'popular', 'brand', 'steer', 'wheel', 'vast', 'home', 'make', 'hardware', 'devices', 'grally', 'recreate', 'range', 'real', 'rally', 'condition', 'drivers', 'face', 'include', 'type', 'surface', 'climate', 'time', 'day', 'night', 'grally', 'place', 'importance', 'driver', 'role', 'choose', 'codrivers', 'language', 'real', 'rally', 'realize', 'real', 'recce', 'set', 'customize', 'pacenotes', 'order', 'achieve', 'higher', 'degree', 'drive', 'confidence', 'speed', 'grally', 'constantly', 'evolve', 'support', 'improve', 'day', 'day']),\n",
              "         list(['grally', 'project', 'bear', 'passion', 'rbr', 'online', 'team', 'crew', 'slogan', 'dreamexperiencebelieve', 'team', 'put', 'full', 'faith', 'product', 'fruit', 'hard', 'work', 'time', 'wich', 'offer', 'entire', 'community', 'rally', 'simmer', 'grally', 'position', 'official', 'license', 'moment', 'start', 'point', 'limit', 'race', 'cars', 'grally', 'consider', 'character', 'modding', 'orient', 'develop', 'integrate', 'unity', 'tool', 'facilitate', 'insertion', 'creations', 'additional', 'cars', 'track', 'grally', 'basic', 'ideas', 'rbr', 'online', 'expect', 'exceptional', 'dose', 'adrenaline', 'online', 'session', 'compete', 'host', 'players', 'world', 'grally', 'abreast', 'game', 'hardware', 'vr', 'trackir', 'multiscreen', 'popular', 'brand', 'steer', 'wheel', 'vast', 'home', 'make', 'hardware', 'devices', 'grally', 'recreate', 'range', 'real', 'rally', 'condition', 'drivers', 'face', 'include', 'type', 'surface', 'climate', 'time', 'day', 'night', 'grally', 'place', 'importance', 'driver', 'role', 'choose', 'codrivers', 'language', 'real', 'rally', 'realize', 'real', 'recce', 'set', 'customize', 'pacenotes', 'order', 'achieve', 'higher', 'degree', 'drive', 'confidence', 'speed', 'grally', 'constantly', 'evolve', 'support', 'improve', 'day', 'day']),\n",
              "         list(['grally', 'drivers', 'thrill', 'seat', 'steer', 'wheel', 'cars', 'develop', 'accurate', 'drive', 'dynamic', 'advance', 'vehicle', 'behaviour', 'tyre', 'model', 'road', 'surface', 'analysis'])],\n",
              "        [list(['xeodrifter', 'special', 'edition', 'feature', 'renegade', 'kid', 'depth', 'development', 'diary', 'critically', 'acclaim', 'soundtrack', 'artists', 'roth', 'sothy', 'matthew', 'gambrell', 'brian', 'altano', 'xeodrifter', 'story', 'interstellar', 'drifter', 'travel', 'star', 'simple', 'mission', 'exploration', 'join', 'nomad', 'embark', 'investigation', 'small', 'cluster', 'planets', 'omega', 'sector', 'collision', 'rogue', 'asteroid', 'damage', 'warp', 'core', 'scan', 'neighbor', 'planets', 'reveal', 'energy', 'signatures', 'provide', 'special', 'material', 'need', 'replace', 'damage', 'warp', 'core', 'back', 'cruise', 'cosmos', 'begin', 'routine', 'mission', 'fix', 'engine', 'quickly', 'spiral', 'dangerous', 'game', 'search', 'shoot', 'survive', 'blast', 'alien', 'landscape', 'seek', 'valuable', 'secrets', 'defeat', 'ancient', 'guardians', 'unlock', 'power', 'legendary', 'supreme', 'culture', 'excite', 'journey', 'mystery', 'classic', 'platforming', 'shoot', 'exploration', 'gameplay', 'unlock', 'legendary', 'power', 'up', 'gain', 'access', 'areas', 'epic', 'boss', 'encounter', 'test', 'skills', 'collect', 'upgrade', 'extend', 'health', 'equip', 'custom', 'gun', 'enhancements', 'navigate', 'ship', 'neighbor', 'planets', 'seek', 'special', 'block', 'hide', 'pathways', 'reveal', 'secrets']),\n",
              "         list(['xeodrifter', 'special', 'edition', 'feature', 'renegade', 'kid', 'depth', 'development', 'diary', 'critically', 'acclaim', 'soundtrack', 'artists', 'roth', 'sothy', 'matthew', 'gambrell', 'brian', 'altano', 'xeodrifter', 'story', 'interstellar', 'drifter', 'travel', 'star', 'simple', 'mission', 'exploration', 'join', 'nomad', 'embark', 'investigation', 'small', 'cluster', 'planets', 'omega', 'sector', 'collision', 'rogue', 'asteroid', 'damage', 'warp', 'core', 'scan', 'neighbor', 'planets', 'reveal', 'energy', 'signatures', 'provide', 'special', 'material', 'need', 'replace', 'damage', 'warp', 'core', 'back', 'cruise', 'cosmos', 'begin', 'routine', 'mission', 'fix', 'engine', 'quickly', 'spiral', 'dangerous', 'game', 'search', 'shoot', 'survive', 'blast', 'alien', 'landscape', 'seek', 'valuable', 'secrets', 'defeat', 'ancient', 'guardians', 'unlock', 'power', 'legendary', 'supreme', 'culture', 'excite', 'journey', 'mystery', 'classic', 'platforming', 'shoot', 'exploration', 'gameplay', 'unlock', 'legendary', 'power', 'up', 'gain', 'access', 'areas', 'epic', 'boss', 'encounter', 'test', 'skills', 'collect', 'upgrade', 'extend', 'health', 'equip', 'custom', 'gun', 'enhancements', 'navigate', 'ship', 'neighbor', 'planets', 'seek', 'special', 'block', 'hide', 'pathways', 'reveal', 'secrets']),\n",
              "         list(['xeodrifter', 'special', 'edition', 'feature', 'renegade', 'kid', 'depth', 'development', 'diary', 'critically', 'acclaim', 'soundtrack', 'artists', 'roth', 'sothy', 'matthew', 'gambrell', 'brian', 'altano'])]],\n",
              "       dtype=object),\n",
              " array(['casual', 'casual', 'free', ..., 'casual', 'racing', 'action'],\n",
              "       dtype='<U32'))"
            ]
          },
          "metadata": {
            "tags": []
          },
          "execution_count": 27
        }
      ]
    },
    {
      "cell_type": "code",
      "metadata": {
        "id": "OU-6Jz0WLzDl"
      },
      "source": [
        ""
      ],
      "execution_count": null,
      "outputs": []
    },
    {
      "cell_type": "markdown",
      "metadata": {
        "id": "WG20pW284i9M"
      },
      "source": [
        "##Preprocessing supplémentaire pour utiliser la méthode bag of words"
      ]
    },
    {
      "cell_type": "code",
      "metadata": {
        "id": "p47_pzu8Hamb"
      },
      "source": [
        "from sklearn import linear_model\n",
        "from sklearn.feature_extraction.text import CountVectorizer, TfidfVectorizer\n",
        "from sklearn.metrics import accuracy_score, confusion_matrix, plot_confusion_matrix"
      ],
      "execution_count": null,
      "outputs": []
    },
    {
      "cell_type": "code",
      "metadata": {
        "colab": {
          "base_uri": "https://localhost:8080/"
        },
        "id": "5Mol-vhsJu8D",
        "outputId": "d69dbf15-24e6-4465-f37c-d10f121ac986"
      },
      "source": [
        "X_lines=[sub[0] for sub in X_not_tokenized] #on recupere la liste de description unique\n",
        "X_lines[:5] #on affiche les 5 premiers descriptions pour montrer"
      ],
      "execution_count": null,
      "outputs": [
        {
          "output_type": "execute_result",
          "data": {
            "text/plain": [
              "['world online action game engage incredibly realistic brand terrorist warfare wildly popular team base game ally teammates complete strategic missions enemy sit rescue hostages role affect team success team success affect role',\n",
              " 'popular online action game time team fortress classic feature character class medic spy demolition man enlist unique style online team warfare character class possess unique weapons items abilities team compete online variety game modes',\n",
              " 'enlist intense brand axis ally teamplay set european theatre operations players assume role light assault heavy infantry sniper machine gunner class unique arsenal historical weaponry disposal missions base key historical operations war rag players work squad accomplish variety mission specific objectives',\n",
              " 'enjoy fast pace multiplayer game deathmatch classic valve tribute work id software dmc invite players grab rocket launchers put reflexes test collection futuristic',\n",
              " 'return black mesa research facility military specialists assign eliminate gordon freeman experience episode single player action meet fierce alien opponents experiment weaponry name game year academy interactive arts sciences']"
            ]
          },
          "metadata": {
            "tags": []
          },
          "execution_count": 295
        }
      ]
    },
    {
      "cell_type": "code",
      "metadata": {
        "colab": {
          "base_uri": "https://localhost:8080/"
        },
        "id": "AkdJ1YSlpX3X",
        "outputId": "ef54fbd6-f5a4-4394-82e0-491fb5fe9d84"
      },
      "source": [
        "genres_choice=['action', 'indie', 'strategy', 'rpg', 'casual', 'simulation', 'adventure'] #on a choisi les genres les plus populaires\n",
        "print(y_first[0] in genres_choice)"
      ],
      "execution_count": null,
      "outputs": [
        {
          "output_type": "stream",
          "text": [
            "True\n"
          ],
          "name": "stdout"
        }
      ]
    },
    {
      "cell_type": "code",
      "metadata": {
        "id": "J-wDOqt0c9iG"
      },
      "source": [
        "# sélectionne aléatoirement nb données dans le dataset\n",
        "# X est une liste de description et non une liste de mots\n",
        "def select_data_not_tokenized(X, y, genres_list, nb=10000):\n",
        "    new_X = np.empty(nb, object)\n",
        "    new_y = np.array([])\n",
        "    N = len(X)\n",
        "    index = np.arange(N)\n",
        "    i=0\n",
        "    while i<nb:\n",
        "        r = random.randint(0, len(index)-1)\n",
        "        if(y[r] in genres_list): #si le jeu fait partie d'un des 7 genres principaux choisis\n",
        "            new_X[i] = X[r]\n",
        "            new_y = np.append(new_y, y[r])\n",
        "            index = np.delete(index, r)\n",
        "            i+=1\n",
        "    return new_X, new_y\n",
        "\n",
        "# enlève le genre dans la description\n",
        "def remove_genres_X_list(X, y):\n",
        "    N = len(X)\n",
        "    genres = get_labels(y)\n",
        "    for i in range(N):\n",
        "        X_split = X[i].split(\" \")\n",
        "        for k in X_split:\n",
        "            if(k in genres):\n",
        "                X[i] = X[i].replace(k, \"\")"
      ],
      "execution_count": null,
      "outputs": []
    },
    {
      "cell_type": "code",
      "metadata": {
        "id": "0bhuTkMdZ-tz"
      },
      "source": [
        "# on choisit d'utiliser 10000 jeux du dataset (sélectionnés aléatoirement) et en ne prenant que le 1er label\n",
        "X_lines_10k, y_10k = select_data_not_tokenized(X_lines, y_first, genres_choice, 10000)"
      ],
      "execution_count": null,
      "outputs": []
    },
    {
      "cell_type": "code",
      "metadata": {
        "colab": {
          "base_uri": "https://localhost:8080/"
        },
        "id": "pfqySk-zfCsl",
        "outputId": "dda85093-5876-4868-8692-48c13399c2b0"
      },
      "source": [
        "len(X_lines_10k)\n",
        "print(X_lines_10k[0])"
      ],
      "execution_count": null,
      "outputs": [
        {
          "output_type": "stream",
          "text": [
            "hack slash science fiction theme action rpg futuristic universe greed discovery interstellar travel possibilities lead age colonialization largest colonial power entangle full scale war element call ikarium recently discover rare source unlimited energy member elite military unit fight battle survival know action lead fate mankind dramatic consequences character class choose huge variety level unique playable difficulties inhabit fierce deadly creatures screen fill end boss upgradeable skills categories character class simultaneous categories thrill skill combinations upgradeable character attribute direct game effect hundreds items collect upgrade weapons amour online local cooperative multiplayer mode players official soundtrack click greed black border official soundtrack free\n"
          ],
          "name": "stdout"
        }
      ]
    },
    {
      "cell_type": "code",
      "metadata": {
        "id": "lm1_dSH-fDl-"
      },
      "source": [
        "# on enleve le genre du jeu de la description du jeu s'il est present\n",
        "remove_genres_X_list(X_lines_10k, y_10k)"
      ],
      "execution_count": null,
      "outputs": []
    },
    {
      "cell_type": "code",
      "metadata": {
        "colab": {
          "base_uri": "https://localhost:8080/"
        },
        "id": "R9tS7kYAJ7DE",
        "outputId": "100dd6c9-19a8-4f89-f843-355a62d0c6f1"
      },
      "source": [
        "print(\"taille x=\"+str(len(X_lines_10k))+\" et y=\"+str(len(y_10k))) #pour verifier"
      ],
      "execution_count": null,
      "outputs": [
        {
          "output_type": "stream",
          "text": [
            "taille x=10000 et y=10000\n"
          ],
          "name": "stdout"
        }
      ]
    },
    {
      "cell_type": "code",
      "metadata": {
        "id": "Mt-dJhTRbiXh"
      },
      "source": [
        "# pourcentage du dataset utilisé pour l'ensemble de test\n",
        "test_ratio = 0.3\n",
        "\n",
        "X_lines_train, X_lines_test, y_train, y_test = \\\n",
        "train_test_split(X_lines_10k, y_10k, test_size=test_ratio, train_size=1-test_ratio,random_state=seed)"
      ],
      "execution_count": null,
      "outputs": []
    },
    {
      "cell_type": "markdown",
      "metadata": {
        "id": "AdpDDgPCFQYw"
      },
      "source": [
        "Fin preprocessing"
      ]
    },
    {
      "cell_type": "markdown",
      "metadata": {
        "id": "jhNzvtW1UTpH"
      },
      "source": [
        "#Model\n",
        "Méthode Bag of words"
      ]
    },
    {
      "cell_type": "code",
      "metadata": {
        "id": "oMta3LDUF9gP"
      },
      "source": [
        "# entrainement, on va compter le nombre d'occurences des mots avec CountVectorizer pour les mettre dans une matrice\n",
        "count_vectorizer = CountVectorizer(\n",
        "    analyzer=\"word\", tokenizer=None,\n",
        "    preprocessor=None, stop_words=None) \n",
        "train_data_features = count_vectorizer.fit_transform(X_lines_train)"
      ],
      "execution_count": null,
      "outputs": []
    },
    {
      "cell_type": "code",
      "metadata": {
        "colab": {
          "base_uri": "https://localhost:8080/"
        },
        "id": "mpgnDKjSHI31",
        "outputId": "5088ae23-6a04-4cf3-ff26-c52edefd0dc1"
      },
      "source": [
        "#on utilise le modèle de régression logistique\n",
        "logistic_regression = linear_model.LogisticRegression()\n",
        "logistic_regression = logistic_regression.fit(train_data_features, y_train)"
      ],
      "execution_count": null,
      "outputs": [
        {
          "output_type": "stream",
          "text": [
            "/usr/local/lib/python3.7/dist-packages/sklearn/linear_model/_logistic.py:940: ConvergenceWarning: lbfgs failed to converge (status=1):\n",
            "STOP: TOTAL NO. of ITERATIONS REACHED LIMIT.\n",
            "\n",
            "Increase the number of iterations (max_iter) or scale the data as shown in:\n",
            "    https://scikit-learn.org/stable/modules/preprocessing.html\n",
            "Please also refer to the documentation for alternative solver options:\n",
            "    https://scikit-learn.org/stable/modules/linear_model.html#logistic-regression\n",
            "  extra_warning_msg=_LOGISTIC_SOLVER_CONVERGENCE_MSG)\n"
          ],
          "name": "stderr"
        }
      ]
    },
    {
      "cell_type": "code",
      "metadata": {
        "colab": {
          "base_uri": "https://localhost:8080/"
        },
        "id": "FMbgz0qjKU07",
        "outputId": "5534b937-87e2-497a-d637-051147581afb"
      },
      "source": [
        "count_vectorizer.get_feature_names()[90:100] #pour voir quelques exemples de mots dans les descriptions"
      ],
      "execution_count": null,
      "outputs": [
        {
          "output_type": "execute_result",
          "data": {
            "text/plain": [
              "['abstruse',\n",
              " 'absurd',\n",
              " 'absurdist',\n",
              " 'absurdities',\n",
              " 'absurdity',\n",
              " 'absurdly',\n",
              " 'abtahi',\n",
              " 'abu',\n",
              " 'abuja',\n",
              " 'abundance']"
            ]
          },
          "metadata": {
            "tags": []
          },
          "execution_count": 462
        }
      ]
    },
    {
      "cell_type": "code",
      "metadata": {
        "colab": {
          "base_uri": "https://localhost:8080/"
        },
        "id": "K1DZVIi9_2Pa",
        "outputId": "794ca06d-7247-4db3-e3f5-fad7a936fa54"
      },
      "source": [
        "#évaluation du score où le label prédit doit être exact\n",
        "data_features = count_vectorizer.transform(X_lines_test)\n",
        "predictions = logistic_regression.predict(data_features)\n",
        "print('score: %s' % accuracy_score(y_test, predictions))"
      ],
      "execution_count": null,
      "outputs": [
        {
          "output_type": "stream",
          "text": [
            "score: 0.702\n"
          ],
          "name": "stdout"
        }
      ]
    },
    {
      "cell_type": "code",
      "metadata": {
        "colab": {
          "base_uri": "https://localhost:8080/"
        },
        "id": "TPZgfJNVGSvQ",
        "outputId": "0b66212c-57c0-4a9f-cd0b-b102ab6bca86"
      },
      "source": [
        "cm = confusion_matrix(y_test, predictions)\n",
        "print('matrice de confusion non normalisée\\n %s' % cm)"
      ],
      "execution_count": null,
      "outputs": [
        {
          "output_type": "stream",
          "text": [
            "matrice de confusion non normalisée\n",
            " [[1159   86   72   43    2    1    0]\n",
            " [ 122  422   38   23    2    2    1]\n",
            " [ 103   67  301   30    2    4    0]\n",
            " [  95   34   53  142    3    4    4]\n",
            " [   9   12    2    3   14    0    0]\n",
            " [  11    4   13   12    0   34    7]\n",
            " [  12    1    6   10    0    1   34]]\n"
          ],
          "name": "stdout"
        }
      ]
    },
    {
      "cell_type": "code",
      "metadata": {
        "colab": {
          "base_uri": "https://localhost:8080/",
          "height": 752
        },
        "id": "tZDPbXF9KU_J",
        "outputId": "edf12169-51ba-4faa-9174-3645b62475fa"
      },
      "source": [
        "fig, ax = plt.subplots(figsize=(13, 10))\n",
        "plot_confusion_matrix(logistic_regression, data_features, y_test, display_labels=genres_choice, include_values=False, xticks_rotation=45, cmap=plt.cm.Reds, normalize='true', ax=ax)\n",
        "plt.title(\"Matrice de confusion (normalisée)\")"
      ],
      "execution_count": null,
      "outputs": [
        {
          "output_type": "execute_result",
          "data": {
            "text/plain": [
              "Text(0.5, 1.0, 'Matrice de confusion (normalisée)')"
            ]
          },
          "metadata": {
            "tags": []
          },
          "execution_count": 465
        },
        {
          "output_type": "display_data",
          "data": {
            "image/png": "[encoded data removed]",
            "text/plain": [
              "<Figure size 936x720 with 2 Axes>"
            ]
          },
          "metadata": {
            "tags": []
          }
        }
      ]
    },
    {
      "cell_type": "code",
      "metadata": {
        "id": "VY2z2vaoMS_c"
      },
      "source": [
        "def words_related_to_genre(vectorizer, genre_index=0, num_words=10): #renvoie les mots qui sont le plus en relation avec le genre d'un jeu\n",
        "    features = vectorizer.get_feature_names()\n",
        "    max_coef = sorted(enumerate(logistic_regression.coef_[genre_index]), key=lambda x:x[1], reverse=True)\n",
        "    return [features[x[0]] for x in max_coef[:num_words]]"
      ],
      "execution_count": null,
      "outputs": []
    },
    {
      "cell_type": "code",
      "metadata": {
        "colab": {
          "base_uri": "https://localhost:8080/"
        },
        "id": "0C_MiN8tNib5",
        "outputId": "563028db-3c70-4346-922b-7156d4db8da3"
      },
      "source": [
        "genre_tag_id = 0\n",
        "print(genreLabels[genre_tag_id])\n",
        "words_related_to_genre(count_vectorizer, genre_tag_id) #à vérifier si marche vraiment"
      ],
      "execution_count": null,
      "outputs": [
        {
          "output_type": "stream",
          "text": [
            "action\n"
          ],
          "name": "stdout"
        },
        {
          "output_type": "execute_result",
          "data": {
            "text/plain": [
              "['shooter',\n",
              " 'monkey',\n",
              " 'platformer',\n",
              " 'dash',\n",
              " 'stage',\n",
              " 'fight',\n",
              " 'bullet',\n",
              " 'freedom',\n",
              " 'person',\n",
              " 'shoot']"
            ]
          },
          "metadata": {
            "tags": []
          },
          "execution_count": 473
        }
      ]
    },
    {
      "cell_type": "code",
      "metadata": {
        "id": "hhLnhzU1NvBT"
      },
      "source": [
        ""
      ],
      "execution_count": null,
      "outputs": []
    }
  ]
}